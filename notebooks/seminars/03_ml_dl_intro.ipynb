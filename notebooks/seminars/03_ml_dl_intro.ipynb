{
  "cells": [
    {
      "cell_type": "markdown",
      "id": "409fc981",
      "metadata": {
        "id": "409fc981"
      },
      "source": [
        "# 1. Классификация задач машинного и глубокого обучения"
      ]
    },
    {
      "cell_type": "markdown",
      "id": "8ca567fe",
      "metadata": {
        "id": "8ca567fe"
      },
      "source": [
        "![](https://assets-global.website-files.com/5d7b77b063a9066d83e1209c/6158dd5a5c04109f63363e0a_67KbBrP_mJMkcaOsEOlrk5eedzXJolEg5wkJX8nQLiarNAClBP0q5XncPyQM7jyoGKUGsc_onAJnBkVDfEkKVWIFNuZYZmaWq1hkP1fIQwX4nQMoDulaNYCkJvVgHr6IZOYdc5rv%3Ds0.png)"
      ]
    },
    {
      "cell_type": "markdown",
      "id": "5d3f8980",
      "metadata": {
        "id": "5d3f8980"
      },
      "source": [
        "# Supervised Learning (Обучение с учителем)"
      ]
    },
    {
      "cell_type": "markdown",
      "id": "d8fc5b9c",
      "metadata": {
        "id": "d8fc5b9c"
      },
      "source": [
        "![](https://miro.medium.com/v2/resize:fit:1400/1*ASYpFfDh7XnreU-ygqXonw.png)"
      ]
    },
    {
      "cell_type": "markdown",
      "id": "8d76e7d8",
      "metadata": {
        "id": "8d76e7d8"
      },
      "source": [
        "## Пример классификации"
      ]
    },
    {
      "cell_type": "code",
      "execution_count": 4,
      "id": "1678e64e",
      "metadata": {
        "id": "1678e64e"
      },
      "outputs": [],
      "source": [
        "import pandas as pd\n",
        "import numpy as np\n",
        "import matplotlib.pyplot as plt\n",
        "from sklearn.datasets import fetch_openml\n",
        "\n",
        "\n",
        "name_of_dataset = \"SpeedDating\"\n",
        "data = fetch_openml(name=name_of_dataset, version=1)"
      ]
    },
    {
      "cell_type": "code",
      "execution_count": 5,
      "id": "1a90b9b9",
      "metadata": {
        "id": "1a90b9b9",
        "outputId": "7810bd53-d697-473b-c198-7a7773b460a5",
        "colab": {
          "base_uri": "https://localhost:8080/"
        }
      },
      "outputs": [
        {
          "output_type": "stream",
          "name": "stdout",
          "text": [
            "**Author**: Ray Fisman and Sheena Iyengar  \n",
            "**Source**: [Columbia Business School](http://www.stat.columbia.edu/~gelman/arm/examples/speed.dating/) - 2004  \n",
            "**Please cite**: None  \n",
            "\n",
            "This data was gathered from participants in experimental speed dating events from 2002-2004. During the events, the attendees would have a four-minute \"first date\" with every other participant of the opposite sex. At the end of their four minutes, participants were asked if they would like to see their date again. They were also asked to rate their date on six attributes: Attractiveness, Sincerity, Intelligence, Fun, Ambition, and Shared Interests. The dataset also includes questionnaire data gathered from participants at different points in the process. These fields include: demographics, dating habits, self-perception across key attributes, beliefs on what others find valuable in a mate, and lifestyle information. \n",
            "\n",
            "### Attribute Information\n",
            "```\n",
            " * gender: Gender of self  \n",
            " * age: Age of self  \n",
            " * age_o: Age of partner  \n",
            " * d_age: Difference in age  \n",
            " * race: Race of self  \n",
            " * race_o: Race of partner  \n",
            " * samerace: Whether the two persons have the same race or not.  \n",
            " * importance_same_race: How important is it that partner is of same race?  \n",
            " * importance_same_religion: How important is it that partner has same religion?  \n",
            " * field: Field of study  \n",
            " * pref_o_attractive: How important does partner rate attractiveness  \n",
            " * pref_o_sinsere: How important does partner rate sincerity  \n",
            " * pref_o_intelligence: How important does partner rate intelligence  \n",
            " * pref_o_funny: How important does partner rate being funny  \n",
            " * pref_o_ambitious: How important does partner rate ambition  \n",
            " * pref_o_shared_interests: How important does partner rate having shared interests  \n",
            " * attractive_o: Rating by partner (about me) at night of event on attractiveness  \n",
            " * sincere_o: Rating by partner (about me) at night of event on sincerity  \n",
            " * intelligence_o: Rating by partner (about me) at night of event on intelligence  \n",
            " * funny_o: Rating by partner (about me) at night of event on being funny  \n",
            " * ambitous_o: Rating by partner (about me) at night of event on being ambitious  \n",
            " * shared_interests_o: Rating by partner (about me) at night of event on shared interest  \n",
            " * attractive_important: What do you look for in a partner - attractiveness  \n",
            " * sincere_important: What do you look for in a partner - sincerity  \n",
            " * intellicence_important: What do you look for in a partner - intelligence  \n",
            " * funny_important: What do you look for in a partner - being funny  \n",
            " * ambtition_important: What do you look for in a partner - ambition  \n",
            " * shared_interests_important: What do you look for in a partner - shared interests  \n",
            " * attractive: Rate yourself - attractiveness  \n",
            " * sincere: Rate yourself - sincerity   \n",
            " * intelligence: Rate yourself - intelligence   \n",
            " * funny: Rate yourself - being funny   \n",
            " * ambition: Rate yourself - ambition  \n",
            " * attractive_partner: Rate your partner - attractiveness  \n",
            " * sincere_partner: Rate your partner - sincerity   \n",
            " * intelligence_partner: Rate your partner - intelligence   \n",
            " * funny_partner: Rate your partner - being funny   \n",
            " * ambition_partner: Rate your partner - ambition   \n",
            " * shared_interests_partner: Rate your partner - shared interests  \n",
            " * sports: Your own interests [1-10]  \n",
            " * tvsports  \n",
            " * exercise  \n",
            " * dining  \n",
            " * museums  \n",
            " * art  \n",
            " * hiking  \n",
            " * gaming  \n",
            " * clubbing  \n",
            " * reading  \n",
            " * tv  \n",
            " * theater  \n",
            " * movies  \n",
            " * concerts  \n",
            " * music  \n",
            " * shopping  \n",
            " * yoga  \n",
            " * interests_correlate: Correlation between participant’s and partner’s ratings of interests.  \n",
            " * expected_happy_with_sd_people: How happy do you expect to be with the people you meet during the speed-dating event?  \n",
            " * expected_num_interested_in_me: Out of the 20 people you will meet, how many do you expect will be interested in dating you?  \n",
            " * expected_num_matches: How many matches do you expect to get?  \n",
            " * like: Did you like your partner?  \n",
            " * guess_prob_liked: How likely do you think it is that your partner likes you?   \n",
            " * met: Have you met your partner before?  \n",
            " * decision: Decision at night of event.\n",
            " * decision_o: Decision of partner at night of event.  \n",
            " * match: Match (yes/no)\n",
            "```\n",
            "\n",
            "### Relevant paper\n",
            "\n",
            "Raymond Fisman; Sheena S. Iyengar; Emir Kamenica; Itamar Simonson.   \n",
            "Gender Differences in Mate Selection: Evidence From a Speed Dating Experiment.   \n",
            "The Quarterly Journal of Economics, Volume 121, Issue 2, 1 May 2006, Pages 673–697,   \n",
            "[https://doi.org/10.1162/qjec.2006.121.2.673](https://doi.org/10.1162/qjec.2006.121.2.673)\n",
            "\n",
            "Downloaded from openml.org.\n"
          ]
        }
      ],
      "source": [
        "print(data.DESCR)"
      ]
    },
    {
      "cell_type": "code",
      "execution_count": 6,
      "id": "c072f8be",
      "metadata": {
        "id": "c072f8be",
        "outputId": "9d1111d2-b5a5-48a7-b682-64af70b73310",
        "colab": {
          "base_uri": "https://localhost:8080/",
          "height": 429
        }
      },
      "outputs": [
        {
          "output_type": "execute_result",
          "data": {
            "text/plain": [
              "  has_null  wave  gender   age  age_o  d_age d_d_age  \\\n",
              "0        0     1  female  21.0   27.0      6   [4-6]   \n",
              "1        0     1  female  21.0   22.0      1   [0-1]   \n",
              "2        1     1  female  21.0   22.0      1   [0-1]   \n",
              "3        0     1  female  21.0   23.0      2   [2-3]   \n",
              "4        0     1  female  21.0   24.0      3   [2-3]   \n",
              "\n",
              "                                    race  \\\n",
              "0  Asian/Pacific Islander/Asian-American   \n",
              "1  Asian/Pacific Islander/Asian-American   \n",
              "2  Asian/Pacific Islander/Asian-American   \n",
              "3  Asian/Pacific Islander/Asian-American   \n",
              "4  Asian/Pacific Islander/Asian-American   \n",
              "\n",
              "                                  race_o samerace  ...  \\\n",
              "0            European/Caucasian-American        0  ...   \n",
              "1            European/Caucasian-American        0  ...   \n",
              "2  Asian/Pacific Islander/Asian-American        1  ...   \n",
              "3            European/Caucasian-American        0  ...   \n",
              "4               Latino/Hispanic American        0  ...   \n",
              "\n",
              "   expected_num_interested_in_me  expected_num_matches  \\\n",
              "0                            2.0                   4.0   \n",
              "1                            2.0                   4.0   \n",
              "2                            2.0                   4.0   \n",
              "3                            2.0                   4.0   \n",
              "4                            2.0                   4.0   \n",
              "\n",
              "  d_expected_happy_with_sd_people d_expected_num_interested_in_me  \\\n",
              "0                           [0-4]                           [0-3]   \n",
              "1                           [0-4]                           [0-3]   \n",
              "2                           [0-4]                           [0-3]   \n",
              "3                           [0-4]                           [0-3]   \n",
              "4                           [0-4]                           [0-3]   \n",
              "\n",
              "  d_expected_num_matches  like  guess_prob_liked  d_like  d_guess_prob_liked  \\\n",
              "0                  [3-5]   7.0               6.0   [6-8]               [5-6]   \n",
              "1                  [3-5]   7.0               5.0   [6-8]               [5-6]   \n",
              "2                  [3-5]   7.0               NaN   [6-8]               [0-4]   \n",
              "3                  [3-5]   7.0               6.0   [6-8]               [5-6]   \n",
              "4                  [3-5]   6.0               6.0   [6-8]               [5-6]   \n",
              "\n",
              "   met  \n",
              "0  0.0  \n",
              "1  1.0  \n",
              "2  1.0  \n",
              "3  0.0  \n",
              "4  0.0  \n",
              "\n",
              "[5 rows x 120 columns]"
            ],
            "text/html": [
              "\n",
              "  <div id=\"df-88c1e5e5-b727-4f04-b130-012101e91300\" class=\"colab-df-container\">\n",
              "    <div>\n",
              "<style scoped>\n",
              "    .dataframe tbody tr th:only-of-type {\n",
              "        vertical-align: middle;\n",
              "    }\n",
              "\n",
              "    .dataframe tbody tr th {\n",
              "        vertical-align: top;\n",
              "    }\n",
              "\n",
              "    .dataframe thead th {\n",
              "        text-align: right;\n",
              "    }\n",
              "</style>\n",
              "<table border=\"1\" class=\"dataframe\">\n",
              "  <thead>\n",
              "    <tr style=\"text-align: right;\">\n",
              "      <th></th>\n",
              "      <th>has_null</th>\n",
              "      <th>wave</th>\n",
              "      <th>gender</th>\n",
              "      <th>age</th>\n",
              "      <th>age_o</th>\n",
              "      <th>d_age</th>\n",
              "      <th>d_d_age</th>\n",
              "      <th>race</th>\n",
              "      <th>race_o</th>\n",
              "      <th>samerace</th>\n",
              "      <th>...</th>\n",
              "      <th>expected_num_interested_in_me</th>\n",
              "      <th>expected_num_matches</th>\n",
              "      <th>d_expected_happy_with_sd_people</th>\n",
              "      <th>d_expected_num_interested_in_me</th>\n",
              "      <th>d_expected_num_matches</th>\n",
              "      <th>like</th>\n",
              "      <th>guess_prob_liked</th>\n",
              "      <th>d_like</th>\n",
              "      <th>d_guess_prob_liked</th>\n",
              "      <th>met</th>\n",
              "    </tr>\n",
              "  </thead>\n",
              "  <tbody>\n",
              "    <tr>\n",
              "      <th>0</th>\n",
              "      <td>0</td>\n",
              "      <td>1</td>\n",
              "      <td>female</td>\n",
              "      <td>21.0</td>\n",
              "      <td>27.0</td>\n",
              "      <td>6</td>\n",
              "      <td>[4-6]</td>\n",
              "      <td>Asian/Pacific Islander/Asian-American</td>\n",
              "      <td>European/Caucasian-American</td>\n",
              "      <td>0</td>\n",
              "      <td>...</td>\n",
              "      <td>2.0</td>\n",
              "      <td>4.0</td>\n",
              "      <td>[0-4]</td>\n",
              "      <td>[0-3]</td>\n",
              "      <td>[3-5]</td>\n",
              "      <td>7.0</td>\n",
              "      <td>6.0</td>\n",
              "      <td>[6-8]</td>\n",
              "      <td>[5-6]</td>\n",
              "      <td>0.0</td>\n",
              "    </tr>\n",
              "    <tr>\n",
              "      <th>1</th>\n",
              "      <td>0</td>\n",
              "      <td>1</td>\n",
              "      <td>female</td>\n",
              "      <td>21.0</td>\n",
              "      <td>22.0</td>\n",
              "      <td>1</td>\n",
              "      <td>[0-1]</td>\n",
              "      <td>Asian/Pacific Islander/Asian-American</td>\n",
              "      <td>European/Caucasian-American</td>\n",
              "      <td>0</td>\n",
              "      <td>...</td>\n",
              "      <td>2.0</td>\n",
              "      <td>4.0</td>\n",
              "      <td>[0-4]</td>\n",
              "      <td>[0-3]</td>\n",
              "      <td>[3-5]</td>\n",
              "      <td>7.0</td>\n",
              "      <td>5.0</td>\n",
              "      <td>[6-8]</td>\n",
              "      <td>[5-6]</td>\n",
              "      <td>1.0</td>\n",
              "    </tr>\n",
              "    <tr>\n",
              "      <th>2</th>\n",
              "      <td>1</td>\n",
              "      <td>1</td>\n",
              "      <td>female</td>\n",
              "      <td>21.0</td>\n",
              "      <td>22.0</td>\n",
              "      <td>1</td>\n",
              "      <td>[0-1]</td>\n",
              "      <td>Asian/Pacific Islander/Asian-American</td>\n",
              "      <td>Asian/Pacific Islander/Asian-American</td>\n",
              "      <td>1</td>\n",
              "      <td>...</td>\n",
              "      <td>2.0</td>\n",
              "      <td>4.0</td>\n",
              "      <td>[0-4]</td>\n",
              "      <td>[0-3]</td>\n",
              "      <td>[3-5]</td>\n",
              "      <td>7.0</td>\n",
              "      <td>NaN</td>\n",
              "      <td>[6-8]</td>\n",
              "      <td>[0-4]</td>\n",
              "      <td>1.0</td>\n",
              "    </tr>\n",
              "    <tr>\n",
              "      <th>3</th>\n",
              "      <td>0</td>\n",
              "      <td>1</td>\n",
              "      <td>female</td>\n",
              "      <td>21.0</td>\n",
              "      <td>23.0</td>\n",
              "      <td>2</td>\n",
              "      <td>[2-3]</td>\n",
              "      <td>Asian/Pacific Islander/Asian-American</td>\n",
              "      <td>European/Caucasian-American</td>\n",
              "      <td>0</td>\n",
              "      <td>...</td>\n",
              "      <td>2.0</td>\n",
              "      <td>4.0</td>\n",
              "      <td>[0-4]</td>\n",
              "      <td>[0-3]</td>\n",
              "      <td>[3-5]</td>\n",
              "      <td>7.0</td>\n",
              "      <td>6.0</td>\n",
              "      <td>[6-8]</td>\n",
              "      <td>[5-6]</td>\n",
              "      <td>0.0</td>\n",
              "    </tr>\n",
              "    <tr>\n",
              "      <th>4</th>\n",
              "      <td>0</td>\n",
              "      <td>1</td>\n",
              "      <td>female</td>\n",
              "      <td>21.0</td>\n",
              "      <td>24.0</td>\n",
              "      <td>3</td>\n",
              "      <td>[2-3]</td>\n",
              "      <td>Asian/Pacific Islander/Asian-American</td>\n",
              "      <td>Latino/Hispanic American</td>\n",
              "      <td>0</td>\n",
              "      <td>...</td>\n",
              "      <td>2.0</td>\n",
              "      <td>4.0</td>\n",
              "      <td>[0-4]</td>\n",
              "      <td>[0-3]</td>\n",
              "      <td>[3-5]</td>\n",
              "      <td>6.0</td>\n",
              "      <td>6.0</td>\n",
              "      <td>[6-8]</td>\n",
              "      <td>[5-6]</td>\n",
              "      <td>0.0</td>\n",
              "    </tr>\n",
              "  </tbody>\n",
              "</table>\n",
              "<p>5 rows × 120 columns</p>\n",
              "</div>\n",
              "    <div class=\"colab-df-buttons\">\n",
              "\n",
              "  <div class=\"colab-df-container\">\n",
              "    <button class=\"colab-df-convert\" onclick=\"convertToInteractive('df-88c1e5e5-b727-4f04-b130-012101e91300')\"\n",
              "            title=\"Convert this dataframe to an interactive table.\"\n",
              "            style=\"display:none;\">\n",
              "\n",
              "  <svg xmlns=\"http://www.w3.org/2000/svg\" height=\"24px\" viewBox=\"0 -960 960 960\">\n",
              "    <path d=\"M120-120v-720h720v720H120Zm60-500h600v-160H180v160Zm220 220h160v-160H400v160Zm0 220h160v-160H400v160ZM180-400h160v-160H180v160Zm440 0h160v-160H620v160ZM180-180h160v-160H180v160Zm440 0h160v-160H620v160Z\"/>\n",
              "  </svg>\n",
              "    </button>\n",
              "\n",
              "  <style>\n",
              "    .colab-df-container {\n",
              "      display:flex;\n",
              "      gap: 12px;\n",
              "    }\n",
              "\n",
              "    .colab-df-convert {\n",
              "      background-color: #E8F0FE;\n",
              "      border: none;\n",
              "      border-radius: 50%;\n",
              "      cursor: pointer;\n",
              "      display: none;\n",
              "      fill: #1967D2;\n",
              "      height: 32px;\n",
              "      padding: 0 0 0 0;\n",
              "      width: 32px;\n",
              "    }\n",
              "\n",
              "    .colab-df-convert:hover {\n",
              "      background-color: #E2EBFA;\n",
              "      box-shadow: 0px 1px 2px rgba(60, 64, 67, 0.3), 0px 1px 3px 1px rgba(60, 64, 67, 0.15);\n",
              "      fill: #174EA6;\n",
              "    }\n",
              "\n",
              "    .colab-df-buttons div {\n",
              "      margin-bottom: 4px;\n",
              "    }\n",
              "\n",
              "    [theme=dark] .colab-df-convert {\n",
              "      background-color: #3B4455;\n",
              "      fill: #D2E3FC;\n",
              "    }\n",
              "\n",
              "    [theme=dark] .colab-df-convert:hover {\n",
              "      background-color: #434B5C;\n",
              "      box-shadow: 0px 1px 3px 1px rgba(0, 0, 0, 0.15);\n",
              "      filter: drop-shadow(0px 1px 2px rgba(0, 0, 0, 0.3));\n",
              "      fill: #FFFFFF;\n",
              "    }\n",
              "  </style>\n",
              "\n",
              "    <script>\n",
              "      const buttonEl =\n",
              "        document.querySelector('#df-88c1e5e5-b727-4f04-b130-012101e91300 button.colab-df-convert');\n",
              "      buttonEl.style.display =\n",
              "        google.colab.kernel.accessAllowed ? 'block' : 'none';\n",
              "\n",
              "      async function convertToInteractive(key) {\n",
              "        const element = document.querySelector('#df-88c1e5e5-b727-4f04-b130-012101e91300');\n",
              "        const dataTable =\n",
              "          await google.colab.kernel.invokeFunction('convertToInteractive',\n",
              "                                                    [key], {});\n",
              "        if (!dataTable) return;\n",
              "\n",
              "        const docLinkHtml = 'Like what you see? Visit the ' +\n",
              "          '<a target=\"_blank\" href=https://colab.research.google.com/notebooks/data_table.ipynb>data table notebook</a>'\n",
              "          + ' to learn more about interactive tables.';\n",
              "        element.innerHTML = '';\n",
              "        dataTable['output_type'] = 'display_data';\n",
              "        await google.colab.output.renderOutput(dataTable, element);\n",
              "        const docLink = document.createElement('div');\n",
              "        docLink.innerHTML = docLinkHtml;\n",
              "        element.appendChild(docLink);\n",
              "      }\n",
              "    </script>\n",
              "  </div>\n",
              "\n",
              "\n",
              "<div id=\"df-b443e64e-1193-4543-8f2c-4f1f12c6b06c\">\n",
              "  <button class=\"colab-df-quickchart\" onclick=\"quickchart('df-b443e64e-1193-4543-8f2c-4f1f12c6b06c')\"\n",
              "            title=\"Suggest charts\"\n",
              "            style=\"display:none;\">\n",
              "\n",
              "<svg xmlns=\"http://www.w3.org/2000/svg\" height=\"24px\"viewBox=\"0 0 24 24\"\n",
              "     width=\"24px\">\n",
              "    <g>\n",
              "        <path d=\"M19 3H5c-1.1 0-2 .9-2 2v14c0 1.1.9 2 2 2h14c1.1 0 2-.9 2-2V5c0-1.1-.9-2-2-2zM9 17H7v-7h2v7zm4 0h-2V7h2v10zm4 0h-2v-4h2v4z\"/>\n",
              "    </g>\n",
              "</svg>\n",
              "  </button>\n",
              "\n",
              "<style>\n",
              "  .colab-df-quickchart {\n",
              "      --bg-color: #E8F0FE;\n",
              "      --fill-color: #1967D2;\n",
              "      --hover-bg-color: #E2EBFA;\n",
              "      --hover-fill-color: #174EA6;\n",
              "      --disabled-fill-color: #AAA;\n",
              "      --disabled-bg-color: #DDD;\n",
              "  }\n",
              "\n",
              "  [theme=dark] .colab-df-quickchart {\n",
              "      --bg-color: #3B4455;\n",
              "      --fill-color: #D2E3FC;\n",
              "      --hover-bg-color: #434B5C;\n",
              "      --hover-fill-color: #FFFFFF;\n",
              "      --disabled-bg-color: #3B4455;\n",
              "      --disabled-fill-color: #666;\n",
              "  }\n",
              "\n",
              "  .colab-df-quickchart {\n",
              "    background-color: var(--bg-color);\n",
              "    border: none;\n",
              "    border-radius: 50%;\n",
              "    cursor: pointer;\n",
              "    display: none;\n",
              "    fill: var(--fill-color);\n",
              "    height: 32px;\n",
              "    padding: 0;\n",
              "    width: 32px;\n",
              "  }\n",
              "\n",
              "  .colab-df-quickchart:hover {\n",
              "    background-color: var(--hover-bg-color);\n",
              "    box-shadow: 0 1px 2px rgba(60, 64, 67, 0.3), 0 1px 3px 1px rgba(60, 64, 67, 0.15);\n",
              "    fill: var(--button-hover-fill-color);\n",
              "  }\n",
              "\n",
              "  .colab-df-quickchart-complete:disabled,\n",
              "  .colab-df-quickchart-complete:disabled:hover {\n",
              "    background-color: var(--disabled-bg-color);\n",
              "    fill: var(--disabled-fill-color);\n",
              "    box-shadow: none;\n",
              "  }\n",
              "\n",
              "  .colab-df-spinner {\n",
              "    border: 2px solid var(--fill-color);\n",
              "    border-color: transparent;\n",
              "    border-bottom-color: var(--fill-color);\n",
              "    animation:\n",
              "      spin 1s steps(1) infinite;\n",
              "  }\n",
              "\n",
              "  @keyframes spin {\n",
              "    0% {\n",
              "      border-color: transparent;\n",
              "      border-bottom-color: var(--fill-color);\n",
              "      border-left-color: var(--fill-color);\n",
              "    }\n",
              "    20% {\n",
              "      border-color: transparent;\n",
              "      border-left-color: var(--fill-color);\n",
              "      border-top-color: var(--fill-color);\n",
              "    }\n",
              "    30% {\n",
              "      border-color: transparent;\n",
              "      border-left-color: var(--fill-color);\n",
              "      border-top-color: var(--fill-color);\n",
              "      border-right-color: var(--fill-color);\n",
              "    }\n",
              "    40% {\n",
              "      border-color: transparent;\n",
              "      border-right-color: var(--fill-color);\n",
              "      border-top-color: var(--fill-color);\n",
              "    }\n",
              "    60% {\n",
              "      border-color: transparent;\n",
              "      border-right-color: var(--fill-color);\n",
              "    }\n",
              "    80% {\n",
              "      border-color: transparent;\n",
              "      border-right-color: var(--fill-color);\n",
              "      border-bottom-color: var(--fill-color);\n",
              "    }\n",
              "    90% {\n",
              "      border-color: transparent;\n",
              "      border-bottom-color: var(--fill-color);\n",
              "    }\n",
              "  }\n",
              "</style>\n",
              "\n",
              "  <script>\n",
              "    async function quickchart(key) {\n",
              "      const quickchartButtonEl =\n",
              "        document.querySelector('#' + key + ' button');\n",
              "      quickchartButtonEl.disabled = true;  // To prevent multiple clicks.\n",
              "      quickchartButtonEl.classList.add('colab-df-spinner');\n",
              "      try {\n",
              "        const charts = await google.colab.kernel.invokeFunction(\n",
              "            'suggestCharts', [key], {});\n",
              "      } catch (error) {\n",
              "        console.error('Error during call to suggestCharts:', error);\n",
              "      }\n",
              "      quickchartButtonEl.classList.remove('colab-df-spinner');\n",
              "      quickchartButtonEl.classList.add('colab-df-quickchart-complete');\n",
              "    }\n",
              "    (() => {\n",
              "      let quickchartButtonEl =\n",
              "        document.querySelector('#df-b443e64e-1193-4543-8f2c-4f1f12c6b06c button');\n",
              "      quickchartButtonEl.style.display =\n",
              "        google.colab.kernel.accessAllowed ? 'block' : 'none';\n",
              "    })();\n",
              "  </script>\n",
              "</div>\n",
              "    </div>\n",
              "  </div>\n"
            ],
            "application/vnd.google.colaboratory.intrinsic+json": {
              "type": "dataframe"
            }
          },
          "metadata": {},
          "execution_count": 6
        }
      ],
      "source": [
        "data.data.head()"
      ]
    },
    {
      "cell_type": "code",
      "execution_count": 7,
      "id": "f1348f97",
      "metadata": {
        "id": "f1348f97",
        "outputId": "55e73aa7-4606-48ec-b6dd-7ef942fd41b5",
        "colab": {
          "base_uri": "https://localhost:8080/",
          "height": 430
        }
      },
      "outputs": [
        {
          "output_type": "display_data",
          "data": {
            "text/plain": [
              "<Figure size 640x480 with 1 Axes>"
            ],
            "image/png": "[encoded data removed]"
          },
          "metadata": {}
        }
      ],
      "source": [
        "data.target.hist();"
      ]
    },
    {
      "cell_type": "markdown",
      "id": "88daee89",
      "metadata": {
        "id": "88daee89"
      },
      "source": [
        "## Пример регрессии"
      ]
    },
    {
      "cell_type": "code",
      "execution_count": 23,
      "id": "237b211d",
      "metadata": {
        "id": "237b211d"
      },
      "outputs": [],
      "source": [
        "data_url = \"https://raw.githubusercontent.com/Pratik-Bhujade/Diamond-Dataset/master/DiamondData.csv\"\n",
        "data = pd.read_csv(data_url)"
      ]
    },
    {
      "cell_type": "markdown",
      "id": "f53facd0",
      "metadata": {
        "id": "f53facd0"
      },
      "source": [
        "[data description](https://www.kaggle.com/datasets/shivam2503/diamonds)"
      ]
    },
    {
      "cell_type": "code",
      "execution_count": 24,
      "id": "60fbfea9",
      "metadata": {
        "id": "60fbfea9",
        "outputId": "5ef631cf-820c-46db-ae83-7efb6ed72937",
        "colab": {
          "base_uri": "https://localhost:8080/",
          "height": 206
        }
      },
      "outputs": [
        {
          "output_type": "execute_result",
          "data": {
            "text/plain": [
              "   carat        cut color clarity  depth  table    price     x     y     z\n",
              "0   1.50       Fair     G     SI1   64.5   57.0  10352.0  7.15  7.09  4.59\n",
              "1   0.70      Ideal     E     VS2   61.4   57.0   2274.0  5.72  5.78  3.53\n",
              "2   1.22    Premium     G     VS1   61.3   58.0   8779.0  6.91  6.89  4.23\n",
              "3   0.51    Premium     E     VS2   62.5   60.0   1590.0  5.08  5.10  3.18\n",
              "4   2.02  Very Good     J     SI2   59.2   60.0  11757.0  8.27  8.39  4.91"
            ],
            "text/html": [
              "\n",
              "  <div id=\"df-aada5b2c-05e5-42c9-a9f0-0e97746759bf\" class=\"colab-df-container\">\n",
              "    <div>\n",
              "<style scoped>\n",
              "    .dataframe tbody tr th:only-of-type {\n",
              "        vertical-align: middle;\n",
              "    }\n",
              "\n",
              "    .dataframe tbody tr th {\n",
              "        vertical-align: top;\n",
              "    }\n",
              "\n",
              "    .dataframe thead th {\n",
              "        text-align: right;\n",
              "    }\n",
              "</style>\n",
              "<table border=\"1\" class=\"dataframe\">\n",
              "  <thead>\n",
              "    <tr style=\"text-align: right;\">\n",
              "      <th></th>\n",
              "      <th>carat</th>\n",
              "      <th>cut</th>\n",
              "      <th>color</th>\n",
              "      <th>clarity</th>\n",
              "      <th>depth</th>\n",
              "      <th>table</th>\n",
              "      <th>price</th>\n",
              "      <th>x</th>\n",
              "      <th>y</th>\n",
              "      <th>z</th>\n",
              "    </tr>\n",
              "  </thead>\n",
              "  <tbody>\n",
              "    <tr>\n",
              "      <th>0</th>\n",
              "      <td>1.50</td>\n",
              "      <td>Fair</td>\n",
              "      <td>G</td>\n",
              "      <td>SI1</td>\n",
              "      <td>64.5</td>\n",
              "      <td>57.0</td>\n",
              "      <td>10352.0</td>\n",
              "      <td>7.15</td>\n",
              "      <td>7.09</td>\n",
              "      <td>4.59</td>\n",
              "    </tr>\n",
              "    <tr>\n",
              "      <th>1</th>\n",
              "      <td>0.70</td>\n",
              "      <td>Ideal</td>\n",
              "      <td>E</td>\n",
              "      <td>VS2</td>\n",
              "      <td>61.4</td>\n",
              "      <td>57.0</td>\n",
              "      <td>2274.0</td>\n",
              "      <td>5.72</td>\n",
              "      <td>5.78</td>\n",
              "      <td>3.53</td>\n",
              "    </tr>\n",
              "    <tr>\n",
              "      <th>2</th>\n",
              "      <td>1.22</td>\n",
              "      <td>Premium</td>\n",
              "      <td>G</td>\n",
              "      <td>VS1</td>\n",
              "      <td>61.3</td>\n",
              "      <td>58.0</td>\n",
              "      <td>8779.0</td>\n",
              "      <td>6.91</td>\n",
              "      <td>6.89</td>\n",
              "      <td>4.23</td>\n",
              "    </tr>\n",
              "    <tr>\n",
              "      <th>3</th>\n",
              "      <td>0.51</td>\n",
              "      <td>Premium</td>\n",
              "      <td>E</td>\n",
              "      <td>VS2</td>\n",
              "      <td>62.5</td>\n",
              "      <td>60.0</td>\n",
              "      <td>1590.0</td>\n",
              "      <td>5.08</td>\n",
              "      <td>5.10</td>\n",
              "      <td>3.18</td>\n",
              "    </tr>\n",
              "    <tr>\n",
              "      <th>4</th>\n",
              "      <td>2.02</td>\n",
              "      <td>Very Good</td>\n",
              "      <td>J</td>\n",
              "      <td>SI2</td>\n",
              "      <td>59.2</td>\n",
              "      <td>60.0</td>\n",
              "      <td>11757.0</td>\n",
              "      <td>8.27</td>\n",
              "      <td>8.39</td>\n",
              "      <td>4.91</td>\n",
              "    </tr>\n",
              "  </tbody>\n",
              "</table>\n",
              "</div>\n",
              "    <div class=\"colab-df-buttons\">\n",
              "\n",
              "  <div class=\"colab-df-container\">\n",
              "    <button class=\"colab-df-convert\" onclick=\"convertToInteractive('df-aada5b2c-05e5-42c9-a9f0-0e97746759bf')\"\n",
              "            title=\"Convert this dataframe to an interactive table.\"\n",
              "            style=\"display:none;\">\n",
              "\n",
              "  <svg xmlns=\"http://www.w3.org/2000/svg\" height=\"24px\" viewBox=\"0 -960 960 960\">\n",
              "    <path d=\"M120-120v-720h720v720H120Zm60-500h600v-160H180v160Zm220 220h160v-160H400v160Zm0 220h160v-160H400v160ZM180-400h160v-160H180v160Zm440 0h160v-160H620v160ZM180-180h160v-160H180v160Zm440 0h160v-160H620v160Z\"/>\n",
              "  </svg>\n",
              "    </button>\n",
              "\n",
              "  <style>\n",
              "    .colab-df-container {\n",
              "      display:flex;\n",
              "      gap: 12px;\n",
              "    }\n",
              "\n",
              "    .colab-df-convert {\n",
              "      background-color: #E8F0FE;\n",
              "      border: none;\n",
              "      border-radius: 50%;\n",
              "      cursor: pointer;\n",
              "      display: none;\n",
              "      fill: #1967D2;\n",
              "      height: 32px;\n",
              "      padding: 0 0 0 0;\n",
              "      width: 32px;\n",
              "    }\n",
              "\n",
              "    .colab-df-convert:hover {\n",
              "      background-color: #E2EBFA;\n",
              "      box-shadow: 0px 1px 2px rgba(60, 64, 67, 0.3), 0px 1px 3px 1px rgba(60, 64, 67, 0.15);\n",
              "      fill: #174EA6;\n",
              "    }\n",
              "\n",
              "    .colab-df-buttons div {\n",
              "      margin-bottom: 4px;\n",
              "    }\n",
              "\n",
              "    [theme=dark] .colab-df-convert {\n",
              "      background-color: #3B4455;\n",
              "      fill: #D2E3FC;\n",
              "    }\n",
              "\n",
              "    [theme=dark] .colab-df-convert:hover {\n",
              "      background-color: #434B5C;\n",
              "      box-shadow: 0px 1px 3px 1px rgba(0, 0, 0, 0.15);\n",
              "      filter: drop-shadow(0px 1px 2px rgba(0, 0, 0, 0.3));\n",
              "      fill: #FFFFFF;\n",
              "    }\n",
              "  </style>\n",
              "\n",
              "    <script>\n",
              "      const buttonEl =\n",
              "        document.querySelector('#df-aada5b2c-05e5-42c9-a9f0-0e97746759bf button.colab-df-convert');\n",
              "      buttonEl.style.display =\n",
              "        google.colab.kernel.accessAllowed ? 'block' : 'none';\n",
              "\n",
              "      async function convertToInteractive(key) {\n",
              "        const element = document.querySelector('#df-aada5b2c-05e5-42c9-a9f0-0e97746759bf');\n",
              "        const dataTable =\n",
              "          await google.colab.kernel.invokeFunction('convertToInteractive',\n",
              "                                                    [key], {});\n",
              "        if (!dataTable) return;\n",
              "\n",
              "        const docLinkHtml = 'Like what you see? Visit the ' +\n",
              "          '<a target=\"_blank\" href=https://colab.research.google.com/notebooks/data_table.ipynb>data table notebook</a>'\n",
              "          + ' to learn more about interactive tables.';\n",
              "        element.innerHTML = '';\n",
              "        dataTable['output_type'] = 'display_data';\n",
              "        await google.colab.output.renderOutput(dataTable, element);\n",
              "        const docLink = document.createElement('div');\n",
              "        docLink.innerHTML = docLinkHtml;\n",
              "        element.appendChild(docLink);\n",
              "      }\n",
              "    </script>\n",
              "  </div>\n",
              "\n",
              "\n",
              "<div id=\"df-4b1e1974-2c3a-41b6-91a1-945ec2db38fd\">\n",
              "  <button class=\"colab-df-quickchart\" onclick=\"quickchart('df-4b1e1974-2c3a-41b6-91a1-945ec2db38fd')\"\n",
              "            title=\"Suggest charts\"\n",
              "            style=\"display:none;\">\n",
              "\n",
              "<svg xmlns=\"http://www.w3.org/2000/svg\" height=\"24px\"viewBox=\"0 0 24 24\"\n",
              "     width=\"24px\">\n",
              "    <g>\n",
              "        <path d=\"M19 3H5c-1.1 0-2 .9-2 2v14c0 1.1.9 2 2 2h14c1.1 0 2-.9 2-2V5c0-1.1-.9-2-2-2zM9 17H7v-7h2v7zm4 0h-2V7h2v10zm4 0h-2v-4h2v4z\"/>\n",
              "    </g>\n",
              "</svg>\n",
              "  </button>\n",
              "\n",
              "<style>\n",
              "  .colab-df-quickchart {\n",
              "      --bg-color: #E8F0FE;\n",
              "      --fill-color: #1967D2;\n",
              "      --hover-bg-color: #E2EBFA;\n",
              "      --hover-fill-color: #174EA6;\n",
              "      --disabled-fill-color: #AAA;\n",
              "      --disabled-bg-color: #DDD;\n",
              "  }\n",
              "\n",
              "  [theme=dark] .colab-df-quickchart {\n",
              "      --bg-color: #3B4455;\n",
              "      --fill-color: #D2E3FC;\n",
              "      --hover-bg-color: #434B5C;\n",
              "      --hover-fill-color: #FFFFFF;\n",
              "      --disabled-bg-color: #3B4455;\n",
              "      --disabled-fill-color: #666;\n",
              "  }\n",
              "\n",
              "  .colab-df-quickchart {\n",
              "    background-color: var(--bg-color);\n",
              "    border: none;\n",
              "    border-radius: 50%;\n",
              "    cursor: pointer;\n",
              "    display: none;\n",
              "    fill: var(--fill-color);\n",
              "    height: 32px;\n",
              "    padding: 0;\n",
              "    width: 32px;\n",
              "  }\n",
              "\n",
              "  .colab-df-quickchart:hover {\n",
              "    background-color: var(--hover-bg-color);\n",
              "    box-shadow: 0 1px 2px rgba(60, 64, 67, 0.3), 0 1px 3px 1px rgba(60, 64, 67, 0.15);\n",
              "    fill: var(--button-hover-fill-color);\n",
              "  }\n",
              "\n",
              "  .colab-df-quickchart-complete:disabled,\n",
              "  .colab-df-quickchart-complete:disabled:hover {\n",
              "    background-color: var(--disabled-bg-color);\n",
              "    fill: var(--disabled-fill-color);\n",
              "    box-shadow: none;\n",
              "  }\n",
              "\n",
              "  .colab-df-spinner {\n",
              "    border: 2px solid var(--fill-color);\n",
              "    border-color: transparent;\n",
              "    border-bottom-color: var(--fill-color);\n",
              "    animation:\n",
              "      spin 1s steps(1) infinite;\n",
              "  }\n",
              "\n",
              "  @keyframes spin {\n",
              "    0% {\n",
              "      border-color: transparent;\n",
              "      border-bottom-color: var(--fill-color);\n",
              "      border-left-color: var(--fill-color);\n",
              "    }\n",
              "    20% {\n",
              "      border-color: transparent;\n",
              "      border-left-color: var(--fill-color);\n",
              "      border-top-color: var(--fill-color);\n",
              "    }\n",
              "    30% {\n",
              "      border-color: transparent;\n",
              "      border-left-color: var(--fill-color);\n",
              "      border-top-color: var(--fill-color);\n",
              "      border-right-color: var(--fill-color);\n",
              "    }\n",
              "    40% {\n",
              "      border-color: transparent;\n",
              "      border-right-color: var(--fill-color);\n",
              "      border-top-color: var(--fill-color);\n",
              "    }\n",
              "    60% {\n",
              "      border-color: transparent;\n",
              "      border-right-color: var(--fill-color);\n",
              "    }\n",
              "    80% {\n",
              "      border-color: transparent;\n",
              "      border-right-color: var(--fill-color);\n",
              "      border-bottom-color: var(--fill-color);\n",
              "    }\n",
              "    90% {\n",
              "      border-color: transparent;\n",
              "      border-bottom-color: var(--fill-color);\n",
              "    }\n",
              "  }\n",
              "</style>\n",
              "\n",
              "  <script>\n",
              "    async function quickchart(key) {\n",
              "      const quickchartButtonEl =\n",
              "        document.querySelector('#' + key + ' button');\n",
              "      quickchartButtonEl.disabled = true;  // To prevent multiple clicks.\n",
              "      quickchartButtonEl.classList.add('colab-df-spinner');\n",
              "      try {\n",
              "        const charts = await google.colab.kernel.invokeFunction(\n",
              "            'suggestCharts', [key], {});\n",
              "      } catch (error) {\n",
              "        console.error('Error during call to suggestCharts:', error);\n",
              "      }\n",
              "      quickchartButtonEl.classList.remove('colab-df-spinner');\n",
              "      quickchartButtonEl.classList.add('colab-df-quickchart-complete');\n",
              "    }\n",
              "    (() => {\n",
              "      let quickchartButtonEl =\n",
              "        document.querySelector('#df-4b1e1974-2c3a-41b6-91a1-945ec2db38fd button');\n",
              "      quickchartButtonEl.style.display =\n",
              "        google.colab.kernel.accessAllowed ? 'block' : 'none';\n",
              "    })();\n",
              "  </script>\n",
              "</div>\n",
              "    </div>\n",
              "  </div>\n"
            ],
            "application/vnd.google.colaboratory.intrinsic+json": {
              "type": "dataframe",
              "variable_name": "data",
              "summary": "{\n  \"name\": \"data\",\n  \"rows\": 50000,\n  \"fields\": [\n    {\n      \"column\": \"carat\",\n      \"properties\": {\n        \"dtype\": \"number\",\n        \"std\": 2.0697215763917565,\n        \"min\": 0.2,\n        \"max\": 49.9903589324094,\n        \"num_unique_values\": 424,\n        \"samples\": [\n          0.44,\n          39.3495265347883,\n          1.63\n        ],\n        \"semantic_type\": \"\",\n        \"description\": \"\"\n      }\n    },\n    {\n      \"column\": \"cut\",\n      \"properties\": {\n        \"dtype\": \"category\",\n        \"num_unique_values\": 6,\n        \"samples\": [\n          \"Fair\",\n          \"Ideal\",\n          \"Good\"\n        ],\n        \"semantic_type\": \"\",\n        \"description\": \"\"\n      }\n    },\n    {\n      \"column\": \"color\",\n      \"properties\": {\n        \"dtype\": \"category\",\n        \"num_unique_values\": 7,\n        \"samples\": [\n          \"G\",\n          \"E\",\n          \"D\"\n        ],\n        \"semantic_type\": \"\",\n        \"description\": \"\"\n      }\n    },\n    {\n      \"column\": \"clarity\",\n      \"properties\": {\n        \"dtype\": \"category\",\n        \"num_unique_values\": 8,\n        \"samples\": [\n          \"VS2\",\n          \"VVS2\",\n          \"SI1\"\n        ],\n        \"semantic_type\": \"\",\n        \"description\": \"\"\n      }\n    },\n    {\n      \"column\": \"depth\",\n      \"properties\": {\n        \"dtype\": \"number\",\n        \"std\": 1.4294761402332608,\n        \"min\": 43.0,\n        \"max\": 79.0,\n        \"num_unique_values\": 179,\n        \"samples\": [\n          64.4,\n          62.4,\n          65.7\n        ],\n        \"semantic_type\": \"\",\n        \"description\": \"\"\n      }\n    },\n    {\n      \"column\": \"table\",\n      \"properties\": {\n        \"dtype\": \"number\",\n        \"std\": 2.242344880866605,\n        \"min\": 43.0,\n        \"max\": 95.0,\n        \"num_unique_values\": 126,\n        \"samples\": [\n          54.7,\n          57.7,\n          71.0\n        ],\n        \"semantic_type\": \"\",\n        \"description\": \"\"\n      }\n    },\n    {\n      \"column\": \"price\",\n      \"properties\": {\n        \"dtype\": \"number\",\n        \"std\": 3994.6432347341415,\n        \"min\": 326.0,\n        \"max\": 18823.0,\n        \"num_unique_values\": 11270,\n        \"samples\": [\n          17263.0,\n          2390.0,\n          7722.0\n        ],\n        \"semantic_type\": \"\",\n        \"description\": \"\"\n      }\n    },\n    {\n      \"column\": \"x\",\n      \"properties\": {\n        \"dtype\": \"number\",\n        \"std\": 1.1221246313865954,\n        \"min\": 0.0,\n        \"max\": 10.23,\n        \"num_unique_values\": 549,\n        \"samples\": [\n          6.57,\n          4.43,\n          8.46\n        ],\n        \"semantic_type\": \"\",\n        \"description\": \"\"\n      }\n    },\n    {\n      \"column\": \"y\",\n      \"properties\": {\n        \"dtype\": \"number\",\n        \"std\": 1.1199927878297227,\n        \"min\": 0.0,\n        \"max\": 31.8,\n        \"num_unique_values\": 547,\n        \"samples\": [\n          8.17,\n          5.04,\n          4.06\n        ],\n        \"semantic_type\": \"\",\n        \"description\": \"\"\n      }\n    },\n    {\n      \"column\": \"z\",\n      \"properties\": {\n        \"dtype\": \"number\",\n        \"std\": 0.7065328686439353,\n        \"min\": 0.0,\n        \"max\": 31.8,\n        \"num_unique_values\": 371,\n        \"samples\": [\n          5.6,\n          3.19,\n          4.32\n        ],\n        \"semantic_type\": \"\",\n        \"description\": \"\"\n      }\n    }\n  ]\n}"
            }
          },
          "metadata": {},
          "execution_count": 24
        }
      ],
      "source": [
        "data.head()"
      ]
    },
    {
      "cell_type": "code",
      "execution_count": 10,
      "id": "081991be",
      "metadata": {
        "id": "081991be",
        "outputId": "873f91b0-03d8-420a-ae73-4f2524a2bd93",
        "colab": {
          "base_uri": "https://localhost:8080/"
        }
      },
      "outputs": [
        {
          "output_type": "execute_result",
          "data": {
            "text/plain": [
              "(50000, 10)"
            ]
          },
          "metadata": {},
          "execution_count": 10
        }
      ],
      "source": [
        "data.shape"
      ]
    },
    {
      "cell_type": "code",
      "execution_count": 11,
      "id": "d0a9a854",
      "metadata": {
        "id": "d0a9a854",
        "outputId": "a8d172fc-9bb7-4035-da5e-8e210a42043e",
        "colab": {
          "base_uri": "https://localhost:8080/"
        }
      },
      "outputs": [
        {
          "output_type": "execute_result",
          "data": {
            "text/plain": [
              "11270"
            ]
          },
          "metadata": {},
          "execution_count": 11
        }
      ],
      "source": [
        "data[\"price\"].nunique()"
      ]
    },
    {
      "cell_type": "code",
      "execution_count": 28,
      "id": "cc77b100",
      "metadata": {
        "id": "cc77b100",
        "outputId": "83df0f01-a697-456a-d13d-5fa3e8925571",
        "colab": {
          "base_uri": "https://localhost:8080/",
          "height": 430
        }
      },
      "outputs": [
        {
          "output_type": "display_data",
          "data": {
            "text/plain": [
              "<Figure size 640x480 with 1 Axes>"
            ],
            "image/png": "[encoded data removed]"
          },
          "metadata": {}
        }
      ],
      "source": [
        "data[\"price\"].hist(bins=1000);"
      ]
    },
    {
      "cell_type": "markdown",
      "id": "82938c78",
      "metadata": {
        "id": "82938c78"
      },
      "source": [
        "## Пример кластеризации"
      ]
    },
    {
      "cell_type": "code",
      "execution_count": 29,
      "id": "c5213475",
      "metadata": {
        "id": "c5213475"
      },
      "outputs": [],
      "source": [
        "data_url = \"https://raw.githubusercontent.com/kennedykwangari/Mall-Customer-Segmentation-Data/master/Mall_Customers.csv\"\n",
        "data = pd.read_csv(data_url)"
      ]
    },
    {
      "cell_type": "code",
      "execution_count": 30,
      "id": "563f7538",
      "metadata": {
        "id": "563f7538",
        "outputId": "ec5b2a87-de90-4b1e-8d57-6dba96ec0c40",
        "colab": {
          "base_uri": "https://localhost:8080/",
          "height": 206
        }
      },
      "outputs": [
        {
          "output_type": "execute_result",
          "data": {
            "text/plain": [
              "   CustomerID  Gender  Age  Annual Income (k$)  Spending Score (1-100)\n",
              "0           1    Male   19                  15                      39\n",
              "1           2    Male   21                  15                      81\n",
              "2           3  Female   20                  16                       6\n",
              "3           4  Female   23                  16                      77\n",
              "4           5  Female   31                  17                      40"
            ],
            "text/html": [
              "\n",
              "  <div id=\"df-d31decd1-688f-431e-bf7b-2a3539056351\" class=\"colab-df-container\">\n",
              "    <div>\n",
              "<style scoped>\n",
              "    .dataframe tbody tr th:only-of-type {\n",
              "        vertical-align: middle;\n",
              "    }\n",
              "\n",
              "    .dataframe tbody tr th {\n",
              "        vertical-align: top;\n",
              "    }\n",
              "\n",
              "    .dataframe thead th {\n",
              "        text-align: right;\n",
              "    }\n",
              "</style>\n",
              "<table border=\"1\" class=\"dataframe\">\n",
              "  <thead>\n",
              "    <tr style=\"text-align: right;\">\n",
              "      <th></th>\n",
              "      <th>CustomerID</th>\n",
              "      <th>Gender</th>\n",
              "      <th>Age</th>\n",
              "      <th>Annual Income (k$)</th>\n",
              "      <th>Spending Score (1-100)</th>\n",
              "    </tr>\n",
              "  </thead>\n",
              "  <tbody>\n",
              "    <tr>\n",
              "      <th>0</th>\n",
              "      <td>1</td>\n",
              "      <td>Male</td>\n",
              "      <td>19</td>\n",
              "      <td>15</td>\n",
              "      <td>39</td>\n",
              "    </tr>\n",
              "    <tr>\n",
              "      <th>1</th>\n",
              "      <td>2</td>\n",
              "      <td>Male</td>\n",
              "      <td>21</td>\n",
              "      <td>15</td>\n",
              "      <td>81</td>\n",
              "    </tr>\n",
              "    <tr>\n",
              "      <th>2</th>\n",
              "      <td>3</td>\n",
              "      <td>Female</td>\n",
              "      <td>20</td>\n",
              "      <td>16</td>\n",
              "      <td>6</td>\n",
              "    </tr>\n",
              "    <tr>\n",
              "      <th>3</th>\n",
              "      <td>4</td>\n",
              "      <td>Female</td>\n",
              "      <td>23</td>\n",
              "      <td>16</td>\n",
              "      <td>77</td>\n",
              "    </tr>\n",
              "    <tr>\n",
              "      <th>4</th>\n",
              "      <td>5</td>\n",
              "      <td>Female</td>\n",
              "      <td>31</td>\n",
              "      <td>17</td>\n",
              "      <td>40</td>\n",
              "    </tr>\n",
              "  </tbody>\n",
              "</table>\n",
              "</div>\n",
              "    <div class=\"colab-df-buttons\">\n",
              "\n",
              "  <div class=\"colab-df-container\">\n",
              "    <button class=\"colab-df-convert\" onclick=\"convertToInteractive('df-d31decd1-688f-431e-bf7b-2a3539056351')\"\n",
              "            title=\"Convert this dataframe to an interactive table.\"\n",
              "            style=\"display:none;\">\n",
              "\n",
              "  <svg xmlns=\"http://www.w3.org/2000/svg\" height=\"24px\" viewBox=\"0 -960 960 960\">\n",
              "    <path d=\"M120-120v-720h720v720H120Zm60-500h600v-160H180v160Zm220 220h160v-160H400v160Zm0 220h160v-160H400v160ZM180-400h160v-160H180v160Zm440 0h160v-160H620v160ZM180-180h160v-160H180v160Zm440 0h160v-160H620v160Z\"/>\n",
              "  </svg>\n",
              "    </button>\n",
              "\n",
              "  <style>\n",
              "    .colab-df-container {\n",
              "      display:flex;\n",
              "      gap: 12px;\n",
              "    }\n",
              "\n",
              "    .colab-df-convert {\n",
              "      background-color: #E8F0FE;\n",
              "      border: none;\n",
              "      border-radius: 50%;\n",
              "      cursor: pointer;\n",
              "      display: none;\n",
              "      fill: #1967D2;\n",
              "      height: 32px;\n",
              "      padding: 0 0 0 0;\n",
              "      width: 32px;\n",
              "    }\n",
              "\n",
              "    .colab-df-convert:hover {\n",
              "      background-color: #E2EBFA;\n",
              "      box-shadow: 0px 1px 2px rgba(60, 64, 67, 0.3), 0px 1px 3px 1px rgba(60, 64, 67, 0.15);\n",
              "      fill: #174EA6;\n",
              "    }\n",
              "\n",
              "    .colab-df-buttons div {\n",
              "      margin-bottom: 4px;\n",
              "    }\n",
              "\n",
              "    [theme=dark] .colab-df-convert {\n",
              "      background-color: #3B4455;\n",
              "      fill: #D2E3FC;\n",
              "    }\n",
              "\n",
              "    [theme=dark] .colab-df-convert:hover {\n",
              "      background-color: #434B5C;\n",
              "      box-shadow: 0px 1px 3px 1px rgba(0, 0, 0, 0.15);\n",
              "      filter: drop-shadow(0px 1px 2px rgba(0, 0, 0, 0.3));\n",
              "      fill: #FFFFFF;\n",
              "    }\n",
              "  </style>\n",
              "\n",
              "    <script>\n",
              "      const buttonEl =\n",
              "        document.querySelector('#df-d31decd1-688f-431e-bf7b-2a3539056351 button.colab-df-convert');\n",
              "      buttonEl.style.display =\n",
              "        google.colab.kernel.accessAllowed ? 'block' : 'none';\n",
              "\n",
              "      async function convertToInteractive(key) {\n",
              "        const element = document.querySelector('#df-d31decd1-688f-431e-bf7b-2a3539056351');\n",
              "        const dataTable =\n",
              "          await google.colab.kernel.invokeFunction('convertToInteractive',\n",
              "                                                    [key], {});\n",
              "        if (!dataTable) return;\n",
              "\n",
              "        const docLinkHtml = 'Like what you see? Visit the ' +\n",
              "          '<a target=\"_blank\" href=https://colab.research.google.com/notebooks/data_table.ipynb>data table notebook</a>'\n",
              "          + ' to learn more about interactive tables.';\n",
              "        element.innerHTML = '';\n",
              "        dataTable['output_type'] = 'display_data';\n",
              "        await google.colab.output.renderOutput(dataTable, element);\n",
              "        const docLink = document.createElement('div');\n",
              "        docLink.innerHTML = docLinkHtml;\n",
              "        element.appendChild(docLink);\n",
              "      }\n",
              "    </script>\n",
              "  </div>\n",
              "\n",
              "\n",
              "<div id=\"df-7df2751d-1d58-4614-abe2-39e4d3d13ae3\">\n",
              "  <button class=\"colab-df-quickchart\" onclick=\"quickchart('df-7df2751d-1d58-4614-abe2-39e4d3d13ae3')\"\n",
              "            title=\"Suggest charts\"\n",
              "            style=\"display:none;\">\n",
              "\n",
              "<svg xmlns=\"http://www.w3.org/2000/svg\" height=\"24px\"viewBox=\"0 0 24 24\"\n",
              "     width=\"24px\">\n",
              "    <g>\n",
              "        <path d=\"M19 3H5c-1.1 0-2 .9-2 2v14c0 1.1.9 2 2 2h14c1.1 0 2-.9 2-2V5c0-1.1-.9-2-2-2zM9 17H7v-7h2v7zm4 0h-2V7h2v10zm4 0h-2v-4h2v4z\"/>\n",
              "    </g>\n",
              "</svg>\n",
              "  </button>\n",
              "\n",
              "<style>\n",
              "  .colab-df-quickchart {\n",
              "      --bg-color: #E8F0FE;\n",
              "      --fill-color: #1967D2;\n",
              "      --hover-bg-color: #E2EBFA;\n",
              "      --hover-fill-color: #174EA6;\n",
              "      --disabled-fill-color: #AAA;\n",
              "      --disabled-bg-color: #DDD;\n",
              "  }\n",
              "\n",
              "  [theme=dark] .colab-df-quickchart {\n",
              "      --bg-color: #3B4455;\n",
              "      --fill-color: #D2E3FC;\n",
              "      --hover-bg-color: #434B5C;\n",
              "      --hover-fill-color: #FFFFFF;\n",
              "      --disabled-bg-color: #3B4455;\n",
              "      --disabled-fill-color: #666;\n",
              "  }\n",
              "\n",
              "  .colab-df-quickchart {\n",
              "    background-color: var(--bg-color);\n",
              "    border: none;\n",
              "    border-radius: 50%;\n",
              "    cursor: pointer;\n",
              "    display: none;\n",
              "    fill: var(--fill-color);\n",
              "    height: 32px;\n",
              "    padding: 0;\n",
              "    width: 32px;\n",
              "  }\n",
              "\n",
              "  .colab-df-quickchart:hover {\n",
              "    background-color: var(--hover-bg-color);\n",
              "    box-shadow: 0 1px 2px rgba(60, 64, 67, 0.3), 0 1px 3px 1px rgba(60, 64, 67, 0.15);\n",
              "    fill: var(--button-hover-fill-color);\n",
              "  }\n",
              "\n",
              "  .colab-df-quickchart-complete:disabled,\n",
              "  .colab-df-quickchart-complete:disabled:hover {\n",
              "    background-color: var(--disabled-bg-color);\n",
              "    fill: var(--disabled-fill-color);\n",
              "    box-shadow: none;\n",
              "  }\n",
              "\n",
              "  .colab-df-spinner {\n",
              "    border: 2px solid var(--fill-color);\n",
              "    border-color: transparent;\n",
              "    border-bottom-color: var(--fill-color);\n",
              "    animation:\n",
              "      spin 1s steps(1) infinite;\n",
              "  }\n",
              "\n",
              "  @keyframes spin {\n",
              "    0% {\n",
              "      border-color: transparent;\n",
              "      border-bottom-color: var(--fill-color);\n",
              "      border-left-color: var(--fill-color);\n",
              "    }\n",
              "    20% {\n",
              "      border-color: transparent;\n",
              "      border-left-color: var(--fill-color);\n",
              "      border-top-color: var(--fill-color);\n",
              "    }\n",
              "    30% {\n",
              "      border-color: transparent;\n",
              "      border-left-color: var(--fill-color);\n",
              "      border-top-color: var(--fill-color);\n",
              "      border-right-color: var(--fill-color);\n",
              "    }\n",
              "    40% {\n",
              "      border-color: transparent;\n",
              "      border-right-color: var(--fill-color);\n",
              "      border-top-color: var(--fill-color);\n",
              "    }\n",
              "    60% {\n",
              "      border-color: transparent;\n",
              "      border-right-color: var(--fill-color);\n",
              "    }\n",
              "    80% {\n",
              "      border-color: transparent;\n",
              "      border-right-color: var(--fill-color);\n",
              "      border-bottom-color: var(--fill-color);\n",
              "    }\n",
              "    90% {\n",
              "      border-color: transparent;\n",
              "      border-bottom-color: var(--fill-color);\n",
              "    }\n",
              "  }\n",
              "</style>\n",
              "\n",
              "  <script>\n",
              "    async function quickchart(key) {\n",
              "      const quickchartButtonEl =\n",
              "        document.querySelector('#' + key + ' button');\n",
              "      quickchartButtonEl.disabled = true;  // To prevent multiple clicks.\n",
              "      quickchartButtonEl.classList.add('colab-df-spinner');\n",
              "      try {\n",
              "        const charts = await google.colab.kernel.invokeFunction(\n",
              "            'suggestCharts', [key], {});\n",
              "      } catch (error) {\n",
              "        console.error('Error during call to suggestCharts:', error);\n",
              "      }\n",
              "      quickchartButtonEl.classList.remove('colab-df-spinner');\n",
              "      quickchartButtonEl.classList.add('colab-df-quickchart-complete');\n",
              "    }\n",
              "    (() => {\n",
              "      let quickchartButtonEl =\n",
              "        document.querySelector('#df-7df2751d-1d58-4614-abe2-39e4d3d13ae3 button');\n",
              "      quickchartButtonEl.style.display =\n",
              "        google.colab.kernel.accessAllowed ? 'block' : 'none';\n",
              "    })();\n",
              "  </script>\n",
              "</div>\n",
              "    </div>\n",
              "  </div>\n"
            ],
            "application/vnd.google.colaboratory.intrinsic+json": {
              "type": "dataframe",
              "variable_name": "data",
              "summary": "{\n  \"name\": \"data\",\n  \"rows\": 200,\n  \"fields\": [\n    {\n      \"column\": \"CustomerID\",\n      \"properties\": {\n        \"dtype\": \"number\",\n        \"std\": 57,\n        \"min\": 1,\n        \"max\": 200,\n        \"num_unique_values\": 200,\n        \"samples\": [\n          96,\n          16,\n          31\n        ],\n        \"semantic_type\": \"\",\n        \"description\": \"\"\n      }\n    },\n    {\n      \"column\": \"Gender\",\n      \"properties\": {\n        \"dtype\": \"category\",\n        \"num_unique_values\": 2,\n        \"samples\": [\n          \"Female\",\n          \"Male\"\n        ],\n        \"semantic_type\": \"\",\n        \"description\": \"\"\n      }\n    },\n    {\n      \"column\": \"Age\",\n      \"properties\": {\n        \"dtype\": \"number\",\n        \"std\": 13,\n        \"min\": 18,\n        \"max\": 70,\n        \"num_unique_values\": 51,\n        \"samples\": [\n          55,\n          26\n        ],\n        \"semantic_type\": \"\",\n        \"description\": \"\"\n      }\n    },\n    {\n      \"column\": \"Annual Income (k$)\",\n      \"properties\": {\n        \"dtype\": \"number\",\n        \"std\": 26,\n        \"min\": 15,\n        \"max\": 137,\n        \"num_unique_values\": 64,\n        \"samples\": [\n          87,\n          101\n        ],\n        \"semantic_type\": \"\",\n        \"description\": \"\"\n      }\n    },\n    {\n      \"column\": \"Spending Score (1-100)\",\n      \"properties\": {\n        \"dtype\": \"number\",\n        \"std\": 25,\n        \"min\": 1,\n        \"max\": 99,\n        \"num_unique_values\": 84,\n        \"samples\": [\n          83,\n          39\n        ],\n        \"semantic_type\": \"\",\n        \"description\": \"\"\n      }\n    }\n  ]\n}"
            }
          },
          "metadata": {},
          "execution_count": 30
        }
      ],
      "source": [
        "data.head()"
      ]
    },
    {
      "cell_type": "code",
      "execution_count": 31,
      "id": "71cd3639",
      "metadata": {
        "id": "71cd3639",
        "outputId": "ee043f53-206b-46d4-a735-589a08c48193",
        "colab": {
          "base_uri": "https://localhost:8080/"
        }
      },
      "outputs": [
        {
          "output_type": "stream",
          "name": "stderr",
          "text": [
            "<ipython-input-31-824997aafe83>:2: FutureWarning: Downcasting behavior in `replace` is deprecated and will be removed in a future version. To retain the old behavior, explicitly call `result.infer_objects(copy=False)`. To opt-in to the future behavior, set `pd.set_option('future.no_silent_downcasting', True)`\n",
            "  data['Gender'] = data['Gender'].replace({\"Male\": 0, \"Female\": 1})\n"
          ]
        }
      ],
      "source": [
        "data.drop(['CustomerID'], axis=1, inplace=True)\n",
        "data['Gender'] = data['Gender'].replace({\"Male\": 0, \"Female\": 1})"
      ]
    },
    {
      "cell_type": "code",
      "execution_count": 32,
      "id": "e7f24d6f",
      "metadata": {
        "id": "e7f24d6f"
      },
      "outputs": [],
      "source": [
        "from sklearn.manifold import TSNE\n",
        "#перегнояет точки из н-мерного пр-ва в двухмерное\n",
        "\n",
        "tsne = TSNE()\n",
        "data_tsne = tsne.fit_transform(data)"
      ]
    },
    {
      "cell_type": "code",
      "execution_count": 33,
      "id": "3fa25115",
      "metadata": {
        "id": "3fa25115",
        "outputId": "06b7c887-a35a-41f0-9e75-cecfdfff21e1",
        "colab": {
          "base_uri": "https://localhost:8080/",
          "height": 430
        }
      },
      "outputs": [
        {
          "output_type": "display_data",
          "data": {
            "text/plain": [
              "<Figure size 640x480 with 1 Axes>"
            ],
            "image/png": "[encoded data removed]"
          },
          "metadata": {}
        }
      ],
      "source": [
        "import matplotlib.pyplot as plt\n",
        "\n",
        "\n",
        "plt.scatter(data_tsne[:, 0], data_tsne[:, 1]);"
      ]
    },
    {
      "cell_type": "code",
      "execution_count": 34,
      "id": "9926fbca",
      "metadata": {
        "id": "9926fbca"
      },
      "outputs": [],
      "source": [
        "from sklearn.cluster import KMeans\n",
        "#алгоритм кластеризации\n",
        "\n",
        "kmeans = KMeans(n_clusters=6)\n",
        "kmeans.fit(data)\n",
        "y_pred = kmeans.predict(data)"
      ]
    },
    {
      "cell_type": "code",
      "execution_count": 35,
      "id": "47f1108a",
      "metadata": {
        "id": "47f1108a",
        "outputId": "9f0895e5-5402-4e91-e8df-dccf9fa2ce8a",
        "colab": {
          "base_uri": "https://localhost:8080/",
          "height": 430
        }
      },
      "outputs": [
        {
          "output_type": "display_data",
          "data": {
            "text/plain": [
              "<Figure size 640x480 with 1 Axes>"
            ],
            "image/png": "[encoded data removed]"
          },
          "metadata": {}
        }
      ],
      "source": [
        "import matplotlib.pyplot as plt\n",
        "\n",
        "\n",
        "plt.scatter(data_tsne[:, 0], data_tsne[:, 1], c=y_pred, s=30);"
      ]
    },
    {
      "cell_type": "markdown",
      "id": "3f34b970",
      "metadata": {
        "id": "3f34b970"
      },
      "source": [
        "# 2. Важные понятия в машинном обучении"
      ]
    },
    {
      "cell_type": "code",
      "execution_count": 36,
      "id": "2446139f",
      "metadata": {
        "id": "2446139f"
      },
      "outputs": [],
      "source": [
        "import numpy as np"
      ]
    },
    {
      "cell_type": "code",
      "execution_count": 37,
      "id": "5c4b0306",
      "metadata": {
        "id": "5c4b0306"
      },
      "outputs": [],
      "source": [
        "RANDOM_STATE = 17\n",
        "SAMPLE_SIZE = 30\n",
        "NOISE_AMPLITUDE = 5\n",
        "\n",
        "np.random.seed(RANDOM_STATE)\n",
        "X = np.arange(0, SAMPLE_SIZE)\n",
        "y = 2 * X + np.random.randint(-NOISE_AMPLITUDE, NOISE_AMPLITUDE, size=SAMPLE_SIZE) + 30"
      ]
    },
    {
      "cell_type": "code",
      "execution_count": 38,
      "id": "80d81f72",
      "metadata": {
        "id": "80d81f72",
        "outputId": "6ecf9f76-00c1-4159-ae91-6ed247636fba",
        "colab": {
          "base_uri": "https://localhost:8080/",
          "height": 304
        }
      },
      "outputs": [
        {
          "output_type": "error",
          "ename": "FileNotFoundError",
          "evalue": "[Errno 2] No such file or directory: '../../data/SOCR-HeightWeight.csv'",
          "traceback": [
            "\u001b[0;31m---------------------------------------------------------------------------\u001b[0m",
            "\u001b[0;31mFileNotFoundError\u001b[0m                         Traceback (most recent call last)",
            "\u001b[0;32m<ipython-input-38-dc9c13942878>\u001b[0m in \u001b[0;36m<cell line: 1>\u001b[0;34m()\u001b[0m\n\u001b[0;32m----> 1\u001b[0;31m \u001b[0mdata\u001b[0m \u001b[0;34m=\u001b[0m \u001b[0mpd\u001b[0m\u001b[0;34m.\u001b[0m\u001b[0mread_csv\u001b[0m\u001b[0;34m(\u001b[0m\u001b[0;34m\"../../data/SOCR-HeightWeight.csv\"\u001b[0m\u001b[0;34m)\u001b[0m\u001b[0;34m\u001b[0m\u001b[0;34m\u001b[0m\u001b[0m\n\u001b[0m\u001b[1;32m      2\u001b[0m \u001b[0mdata\u001b[0m\u001b[0;34m.\u001b[0m\u001b[0mhead\u001b[0m\u001b[0;34m(\u001b[0m\u001b[0;34m)\u001b[0m\u001b[0;34m\u001b[0m\u001b[0;34m\u001b[0m\u001b[0m\n",
            "\u001b[0;32m/usr/local/lib/python3.10/dist-packages/pandas/io/parsers/readers.py\u001b[0m in \u001b[0;36mread_csv\u001b[0;34m(filepath_or_buffer, sep, delimiter, header, names, index_col, usecols, dtype, engine, converters, true_values, false_values, skipinitialspace, skiprows, skipfooter, nrows, na_values, keep_default_na, na_filter, verbose, skip_blank_lines, parse_dates, infer_datetime_format, keep_date_col, date_parser, date_format, dayfirst, cache_dates, iterator, chunksize, compression, thousands, decimal, lineterminator, quotechar, quoting, doublequote, escapechar, comment, encoding, encoding_errors, dialect, on_bad_lines, delim_whitespace, low_memory, memory_map, float_precision, storage_options, dtype_backend)\u001b[0m\n\u001b[1;32m   1024\u001b[0m     \u001b[0mkwds\u001b[0m\u001b[0;34m.\u001b[0m\u001b[0mupdate\u001b[0m\u001b[0;34m(\u001b[0m\u001b[0mkwds_defaults\u001b[0m\u001b[0;34m)\u001b[0m\u001b[0;34m\u001b[0m\u001b[0;34m\u001b[0m\u001b[0m\n\u001b[1;32m   1025\u001b[0m \u001b[0;34m\u001b[0m\u001b[0m\n\u001b[0;32m-> 1026\u001b[0;31m     \u001b[0;32mreturn\u001b[0m \u001b[0m_read\u001b[0m\u001b[0;34m(\u001b[0m\u001b[0mfilepath_or_buffer\u001b[0m\u001b[0;34m,\u001b[0m \u001b[0mkwds\u001b[0m\u001b[0;34m)\u001b[0m\u001b[0;34m\u001b[0m\u001b[0;34m\u001b[0m\u001b[0m\n\u001b[0m\u001b[1;32m   1027\u001b[0m \u001b[0;34m\u001b[0m\u001b[0m\n\u001b[1;32m   1028\u001b[0m \u001b[0;34m\u001b[0m\u001b[0m\n",
            "\u001b[0;32m/usr/local/lib/python3.10/dist-packages/pandas/io/parsers/readers.py\u001b[0m in \u001b[0;36m_read\u001b[0;34m(filepath_or_buffer, kwds)\u001b[0m\n\u001b[1;32m    618\u001b[0m \u001b[0;34m\u001b[0m\u001b[0m\n\u001b[1;32m    619\u001b[0m     \u001b[0;31m# Create the parser.\u001b[0m\u001b[0;34m\u001b[0m\u001b[0;34m\u001b[0m\u001b[0m\n\u001b[0;32m--> 620\u001b[0;31m     \u001b[0mparser\u001b[0m \u001b[0;34m=\u001b[0m \u001b[0mTextFileReader\u001b[0m\u001b[0;34m(\u001b[0m\u001b[0mfilepath_or_buffer\u001b[0m\u001b[0;34m,\u001b[0m \u001b[0;34m**\u001b[0m\u001b[0mkwds\u001b[0m\u001b[0;34m)\u001b[0m\u001b[0;34m\u001b[0m\u001b[0;34m\u001b[0m\u001b[0m\n\u001b[0m\u001b[1;32m    621\u001b[0m \u001b[0;34m\u001b[0m\u001b[0m\n\u001b[1;32m    622\u001b[0m     \u001b[0;32mif\u001b[0m \u001b[0mchunksize\u001b[0m \u001b[0;32mor\u001b[0m \u001b[0miterator\u001b[0m\u001b[0;34m:\u001b[0m\u001b[0;34m\u001b[0m\u001b[0;34m\u001b[0m\u001b[0m\n",
            "\u001b[0;32m/usr/local/lib/python3.10/dist-packages/pandas/io/parsers/readers.py\u001b[0m in \u001b[0;36m__init__\u001b[0;34m(self, f, engine, **kwds)\u001b[0m\n\u001b[1;32m   1618\u001b[0m \u001b[0;34m\u001b[0m\u001b[0m\n\u001b[1;32m   1619\u001b[0m         \u001b[0mself\u001b[0m\u001b[0;34m.\u001b[0m\u001b[0mhandles\u001b[0m\u001b[0;34m:\u001b[0m \u001b[0mIOHandles\u001b[0m \u001b[0;34m|\u001b[0m \u001b[0;32mNone\u001b[0m \u001b[0;34m=\u001b[0m \u001b[0;32mNone\u001b[0m\u001b[0;34m\u001b[0m\u001b[0;34m\u001b[0m\u001b[0m\n\u001b[0;32m-> 1620\u001b[0;31m         \u001b[0mself\u001b[0m\u001b[0;34m.\u001b[0m\u001b[0m_engine\u001b[0m \u001b[0;34m=\u001b[0m \u001b[0mself\u001b[0m\u001b[0;34m.\u001b[0m\u001b[0m_make_engine\u001b[0m\u001b[0;34m(\u001b[0m\u001b[0mf\u001b[0m\u001b[0;34m,\u001b[0m \u001b[0mself\u001b[0m\u001b[0;34m.\u001b[0m\u001b[0mengine\u001b[0m\u001b[0;34m)\u001b[0m\u001b[0;34m\u001b[0m\u001b[0;34m\u001b[0m\u001b[0m\n\u001b[0m\u001b[1;32m   1621\u001b[0m \u001b[0;34m\u001b[0m\u001b[0m\n\u001b[1;32m   1622\u001b[0m     \u001b[0;32mdef\u001b[0m \u001b[0mclose\u001b[0m\u001b[0;34m(\u001b[0m\u001b[0mself\u001b[0m\u001b[0;34m)\u001b[0m \u001b[0;34m->\u001b[0m \u001b[0;32mNone\u001b[0m\u001b[0;34m:\u001b[0m\u001b[0;34m\u001b[0m\u001b[0;34m\u001b[0m\u001b[0m\n",
            "\u001b[0;32m/usr/local/lib/python3.10/dist-packages/pandas/io/parsers/readers.py\u001b[0m in \u001b[0;36m_make_engine\u001b[0;34m(self, f, engine)\u001b[0m\n\u001b[1;32m   1878\u001b[0m                 \u001b[0;32mif\u001b[0m \u001b[0;34m\"b\"\u001b[0m \u001b[0;32mnot\u001b[0m \u001b[0;32min\u001b[0m \u001b[0mmode\u001b[0m\u001b[0;34m:\u001b[0m\u001b[0;34m\u001b[0m\u001b[0;34m\u001b[0m\u001b[0m\n\u001b[1;32m   1879\u001b[0m                     \u001b[0mmode\u001b[0m \u001b[0;34m+=\u001b[0m \u001b[0;34m\"b\"\u001b[0m\u001b[0;34m\u001b[0m\u001b[0;34m\u001b[0m\u001b[0m\n\u001b[0;32m-> 1880\u001b[0;31m             self.handles = get_handle(\n\u001b[0m\u001b[1;32m   1881\u001b[0m                 \u001b[0mf\u001b[0m\u001b[0;34m,\u001b[0m\u001b[0;34m\u001b[0m\u001b[0;34m\u001b[0m\u001b[0m\n\u001b[1;32m   1882\u001b[0m                 \u001b[0mmode\u001b[0m\u001b[0;34m,\u001b[0m\u001b[0;34m\u001b[0m\u001b[0;34m\u001b[0m\u001b[0m\n",
            "\u001b[0;32m/usr/local/lib/python3.10/dist-packages/pandas/io/common.py\u001b[0m in \u001b[0;36mget_handle\u001b[0;34m(path_or_buf, mode, encoding, compression, memory_map, is_text, errors, storage_options)\u001b[0m\n\u001b[1;32m    871\u001b[0m         \u001b[0;32mif\u001b[0m \u001b[0mioargs\u001b[0m\u001b[0;34m.\u001b[0m\u001b[0mencoding\u001b[0m \u001b[0;32mand\u001b[0m \u001b[0;34m\"b\"\u001b[0m \u001b[0;32mnot\u001b[0m \u001b[0;32min\u001b[0m \u001b[0mioargs\u001b[0m\u001b[0;34m.\u001b[0m\u001b[0mmode\u001b[0m\u001b[0;34m:\u001b[0m\u001b[0;34m\u001b[0m\u001b[0;34m\u001b[0m\u001b[0m\n\u001b[1;32m    872\u001b[0m             \u001b[0;31m# Encoding\u001b[0m\u001b[0;34m\u001b[0m\u001b[0;34m\u001b[0m\u001b[0m\n\u001b[0;32m--> 873\u001b[0;31m             handle = open(\n\u001b[0m\u001b[1;32m    874\u001b[0m                 \u001b[0mhandle\u001b[0m\u001b[0;34m,\u001b[0m\u001b[0;34m\u001b[0m\u001b[0;34m\u001b[0m\u001b[0m\n\u001b[1;32m    875\u001b[0m                 \u001b[0mioargs\u001b[0m\u001b[0;34m.\u001b[0m\u001b[0mmode\u001b[0m\u001b[0;34m,\u001b[0m\u001b[0;34m\u001b[0m\u001b[0;34m\u001b[0m\u001b[0m\n",
            "\u001b[0;31mFileNotFoundError\u001b[0m: [Errno 2] No such file or directory: '../../data/SOCR-HeightWeight.csv'"
          ]
        }
      ],
      "source": [
        "data = pd.read_csv(\"../../data/SOCR-HeightWeight.csv\")\n",
        "data.head()"
      ]
    },
    {
      "cell_type": "code",
      "execution_count": null,
      "id": "799be99e",
      "metadata": {
        "id": "799be99e"
      },
      "outputs": [],
      "source": [
        "data.drop(['Index'], axis=1, inplace=True)\n",
        "data.columns = ['height', 'weight']\n",
        "data.head()"
      ]
    },
    {
      "cell_type": "code",
      "execution_count": null,
      "id": "d326af64",
      "metadata": {
        "id": "d326af64"
      },
      "outputs": [],
      "source": [
        "data['height'] = data['height'] * 2.54\n",
        "data['weight'] = data['weight'] * 0.453592"
      ]
    },
    {
      "cell_type": "code",
      "execution_count": null,
      "id": "39c10e4c",
      "metadata": {
        "id": "39c10e4c"
      },
      "outputs": [],
      "source": [
        "data.shape"
      ]
    },
    {
      "cell_type": "code",
      "execution_count": null,
      "id": "4d353f2b",
      "metadata": {
        "id": "4d353f2b"
      },
      "outputs": [],
      "source": [
        "data.head()"
      ]
    },
    {
      "cell_type": "code",
      "execution_count": null,
      "id": "d2e24670",
      "metadata": {
        "id": "d2e24670"
      },
      "outputs": [],
      "source": [
        "plt.scatter(data['height'], data['weight'], s=0.5)\n",
        "plt.ylabel('Вес, кг')\n",
        "plt.xlabel('Рост, см')\n",
        "plt.title('Зависимость веса от роста');"
      ]
    },
    {
      "cell_type": "markdown",
      "id": "c53750b5",
      "metadata": {
        "id": "c53750b5"
      },
      "source": [
        "Представим зависимость веса от роста как линейную:  \n",
        "$$ y = kx + b $$\n",
        "$$ Вес = k \\cdot Рост + b $$  \n",
        "\n",
        "Как найти `k` и `b`?  (вручную не хотим)"
      ]
    },
    {
      "cell_type": "markdown",
      "id": "3d2b731d",
      "metadata": {
        "id": "3d2b731d"
      },
      "source": [
        "Можно ввести функцию потерь для нашего решения и итеративно улучшать его."
      ]
    },
    {
      "cell_type": "code",
      "execution_count": null,
      "id": "8945103d",
      "metadata": {
        "id": "8945103d"
      },
      "outputs": [],
      "source": [
        "X = data['height'].values\n",
        "y = data['weight'].values\n",
        "k = 0\n",
        "b = 0\n",
        "y_pred = k * X + b"
      ]
    },
    {
      "cell_type": "code",
      "execution_count": null,
      "id": "3efb4935",
      "metadata": {
        "id": "3efb4935"
      },
      "outputs": [],
      "source": [
        "plt.scatter(data['height'], data['weight'], s=0.5, label='Истинное значение')\n",
        "plt.scatter(data['height'], y_pred, s=0.5, label='Предсказанное значение')\n",
        "plt.ylabel('Вес, кг')\n",
        "plt.xlabel('Рост, см')\n",
        "plt.title('Зависимость веса от роста')\n",
        "plt.legend();"
      ]
    },
    {
      "cell_type": "code",
      "execution_count": null,
      "id": "94cfef30",
      "metadata": {
        "id": "94cfef30"
      },
      "outputs": [],
      "source": [
        "from IPython.display import clear_output"
      ]
    },
    {
      "cell_type": "code",
      "execution_count": null,
      "id": "d7c0ca96",
      "metadata": {
        "id": "d7c0ca96"
      },
      "outputs": [],
      "source": [
        "k = 0\n",
        "b = 0\n",
        "N_ITER = 30\n",
        "learning_rate = 1e-5\n",
        "for i in range(N_ITER):\n",
        "    clear_output(True)\n",
        "    y_pred = k * X + b\n",
        "    error = y_pred - y\n",
        "\n",
        "    plt.scatter(data['height'], data['weight'], s=0.5, label='Истинное значение')\n",
        "    plt.scatter(data['height'], y_pred, s=0.5, label='Предсказанное значение')\n",
        "    plt.ylabel('Вес, кг')\n",
        "    plt.xlabel('Рост, см')\n",
        "    plt.title(f'Зависимость веса от роста, итерация {i}. Средняя ошибка = {error.mean():.2f}')\n",
        "    plt.legend()\n",
        "    plt.show()\n",
        "    #приращение коэффициента\n",
        "    k -= (error * X).mean() * learning_rate #X тк матрица\n",
        "    b -= error.mean() * learning_rate"
      ]
    },
    {
      "cell_type": "markdown",
      "source": [
        "Для задачи регресии error = y_pred - y\n",
        "\n",
        "Тк это может сделать общую ошибку 0, берем модуль либо (y_pred - y)^2\n",
        "\n",
        "E = (y_pred - y)^2\n",
        "\n",
        "y_pred = f(x, w, b)\n",
        "\n",
        "градиент - вектор частных производных\n",
        "\n",
        "learning rate - задает масштаб шага\n",
        "\n",
        "dE = 2(y_pred - y)\n"
      ],
      "metadata": {
        "id": "IktJfijm_w9N"
      },
      "id": "IktJfijm_w9N"
    },
    {
      "cell_type": "markdown",
      "source": [],
      "metadata": {
        "id": "05304M-ZJOfn"
      },
      "id": "05304M-ZJOfn"
    },
    {
      "cell_type": "code",
      "execution_count": null,
      "id": "522f3728",
      "metadata": {
        "id": "522f3728"
      },
      "outputs": [],
      "source": [
        "from sklearn.linear_model import LinearRegression"
      ]
    },
    {
      "cell_type": "code",
      "execution_count": null,
      "id": "6fc0f36c",
      "metadata": {
        "id": "6fc0f36c"
      },
      "outputs": [],
      "source": [
        "lr = LinearRegression()\n",
        "lr.fit(X.reshape(-1, 1), y)"
      ]
    },
    {
      "cell_type": "code",
      "execution_count": null,
      "id": "a64cf3a4",
      "metadata": {
        "id": "a64cf3a4"
      },
      "outputs": [],
      "source": [
        "lr_pred = lr.predict(X.reshape(-1, 1))"
      ]
    },
    {
      "cell_type": "code",
      "execution_count": null,
      "id": "66539674",
      "metadata": {
        "id": "66539674"
      },
      "outputs": [],
      "source": [
        "lr.coef_ #w"
      ]
    },
    {
      "cell_type": "code",
      "execution_count": null,
      "id": "4775d3ee",
      "metadata": {
        "id": "4775d3ee"
      },
      "outputs": [],
      "source": [
        "lr.intercept_ #b"
      ]
    },
    {
      "cell_type": "code",
      "execution_count": null,
      "id": "7da2eead",
      "metadata": {
        "id": "7da2eead"
      },
      "outputs": [],
      "source": [
        "plt.scatter(data['height'], data['weight'], s=0.5, label='Истинное значение')\n",
        "plt.scatter(data['height'], lr_pred, s=0.5, label='Предсказанное значение')\n",
        "plt.scatter(data['height'], y_pred, s=0.5, label='Предсказанное нами значение')\n",
        "plt.ylabel('Вес, кг')\n",
        "plt.xlabel('Рост, см')\n",
        "plt.title(f'Зависимость веса от роста')\n",
        "plt.legend()\n",
        "plt.show()"
      ]
    },
    {
      "cell_type": "markdown",
      "id": "61fb7200",
      "metadata": {
        "id": "61fb7200"
      },
      "source": [
        "![](https://www.saedsayad.com/images/LogReg_1.png)"
      ]
    },
    {
      "cell_type": "markdown",
      "source": [
        "Сигмоида\n",
        "\n",
        "Модель классификации?"
      ],
      "metadata": {
        "id": "3Oy15h_cE98e"
      },
      "id": "3Oy15h_cE98e"
    },
    {
      "cell_type": "markdown",
      "id": "4c314fcf",
      "metadata": {
        "id": "4c314fcf"
      },
      "source": [
        "## 2.0 Функции потерь и модели  \n",
        "Функция потерь -- функция, которая в теории статистических решений характеризует потери при неправильном принятии решений на основе наблюдаемых данных."
      ]
    },
    {
      "cell_type": "markdown",
      "id": "d4eb2bae",
      "metadata": {
        "id": "d4eb2bae"
      },
      "source": [
        "![image.png](attachment:image.png)\n",
        "Janocha, K., & Czarnecki, W.M. (2017). On Loss Functions for Deep Neural Networks in Classification. ArXiv, abs/1702.05659."
      ]
    },
    {
      "cell_type": "markdown",
      "source": [
        "![image.png](data:image/png;base64,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)"
      ],
      "metadata": {
        "id": "VBL1nJ8FF-xj"
      },
      "id": "VBL1nJ8FF-xj"
    },
    {
      "cell_type": "markdown",
      "id": "8413f0f3",
      "metadata": {
        "id": "8413f0f3"
      },
      "source": [
        "### Наивный Байес"
      ]
    },
    {
      "cell_type": "markdown",
      "id": "4a32bfe4",
      "metadata": {
        "id": "4a32bfe4"
      },
      "source": [
        "![](https://www.saedsayad.com/images/Bayes_rule.png)"
      ]
    },
    {
      "cell_type": "markdown",
      "source": [
        "перемножить все вероятности"
      ],
      "metadata": {
        "id": "nu9_e_RcGn7p"
      },
      "id": "nu9_e_RcGn7p"
    },
    {
      "cell_type": "code",
      "execution_count": 39,
      "id": "bee3d52b",
      "metadata": {
        "id": "bee3d52b"
      },
      "outputs": [],
      "source": [
        "from sklearn.naive_bayes import GaussianNB"
      ]
    },
    {
      "cell_type": "code",
      "execution_count": 40,
      "id": "eba77965",
      "metadata": {
        "id": "eba77965",
        "outputId": "2c71ad9e-da38-4466-d05e-4da69b4254e9",
        "colab": {
          "base_uri": "https://localhost:8080/",
          "height": 391
        }
      },
      "outputs": [
        {
          "output_type": "error",
          "ename": "ValueError",
          "evalue": "Expected 2D array, got 1D array instead:\narray=[ 0  1  2  3  4  5  6  7  8  9 10 11 12 13 14 15 16 17 18 19 20 21 22 23\n 24 25 26 27 28 29].\nReshape your data either using array.reshape(-1, 1) if your data has a single feature or array.reshape(1, -1) if it contains a single sample.",
          "traceback": [
            "\u001b[0;31m---------------------------------------------------------------------------\u001b[0m",
            "\u001b[0;31mValueError\u001b[0m                                Traceback (most recent call last)",
            "\u001b[0;32m<ipython-input-40-cdbc4c81823f>\u001b[0m in \u001b[0;36m<cell line: 2>\u001b[0;34m()\u001b[0m\n\u001b[1;32m      1\u001b[0m \u001b[0mclassifier\u001b[0m \u001b[0;34m=\u001b[0m \u001b[0mGaussianNB\u001b[0m\u001b[0;34m(\u001b[0m\u001b[0;34m)\u001b[0m\u001b[0;34m\u001b[0m\u001b[0;34m\u001b[0m\u001b[0m\n\u001b[0;32m----> 2\u001b[0;31m \u001b[0mclassifier\u001b[0m\u001b[0;34m.\u001b[0m\u001b[0mfit\u001b[0m\u001b[0;34m(\u001b[0m\u001b[0mX\u001b[0m\u001b[0;34m,\u001b[0m \u001b[0my\u001b[0m\u001b[0;34m)\u001b[0m\u001b[0;34m\u001b[0m\u001b[0;34m\u001b[0m\u001b[0m\n\u001b[0m\u001b[1;32m      3\u001b[0m \u001b[0my_pred\u001b[0m \u001b[0;34m=\u001b[0m \u001b[0mclassifier\u001b[0m\u001b[0;34m.\u001b[0m\u001b[0mpredict\u001b[0m\u001b[0;34m(\u001b[0m\u001b[0manother_X\u001b[0m\u001b[0;34m)\u001b[0m\u001b[0;34m\u001b[0m\u001b[0;34m\u001b[0m\u001b[0m\n",
            "\u001b[0;32m/usr/local/lib/python3.10/dist-packages/sklearn/base.py\u001b[0m in \u001b[0;36mwrapper\u001b[0;34m(estimator, *args, **kwargs)\u001b[0m\n\u001b[1;32m   1471\u001b[0m                 )\n\u001b[1;32m   1472\u001b[0m             ):\n\u001b[0;32m-> 1473\u001b[0;31m                 \u001b[0;32mreturn\u001b[0m \u001b[0mfit_method\u001b[0m\u001b[0;34m(\u001b[0m\u001b[0mestimator\u001b[0m\u001b[0;34m,\u001b[0m \u001b[0;34m*\u001b[0m\u001b[0margs\u001b[0m\u001b[0;34m,\u001b[0m \u001b[0;34m**\u001b[0m\u001b[0mkwargs\u001b[0m\u001b[0;34m)\u001b[0m\u001b[0;34m\u001b[0m\u001b[0;34m\u001b[0m\u001b[0m\n\u001b[0m\u001b[1;32m   1474\u001b[0m \u001b[0;34m\u001b[0m\u001b[0m\n\u001b[1;32m   1475\u001b[0m         \u001b[0;32mreturn\u001b[0m \u001b[0mwrapper\u001b[0m\u001b[0;34m\u001b[0m\u001b[0;34m\u001b[0m\u001b[0m\n",
            "\u001b[0;32m/usr/local/lib/python3.10/dist-packages/sklearn/naive_bayes.py\u001b[0m in \u001b[0;36mfit\u001b[0;34m(self, X, y, sample_weight)\u001b[0m\n\u001b[1;32m    261\u001b[0m         \"\"\"\n\u001b[1;32m    262\u001b[0m         \u001b[0my\u001b[0m \u001b[0;34m=\u001b[0m \u001b[0mself\u001b[0m\u001b[0;34m.\u001b[0m\u001b[0m_validate_data\u001b[0m\u001b[0;34m(\u001b[0m\u001b[0my\u001b[0m\u001b[0;34m=\u001b[0m\u001b[0my\u001b[0m\u001b[0;34m)\u001b[0m\u001b[0;34m\u001b[0m\u001b[0;34m\u001b[0m\u001b[0m\n\u001b[0;32m--> 263\u001b[0;31m         return self._partial_fit(\n\u001b[0m\u001b[1;32m    264\u001b[0m             \u001b[0mX\u001b[0m\u001b[0;34m,\u001b[0m \u001b[0my\u001b[0m\u001b[0;34m,\u001b[0m \u001b[0mnp\u001b[0m\u001b[0;34m.\u001b[0m\u001b[0munique\u001b[0m\u001b[0;34m(\u001b[0m\u001b[0my\u001b[0m\u001b[0;34m)\u001b[0m\u001b[0;34m,\u001b[0m \u001b[0m_refit\u001b[0m\u001b[0;34m=\u001b[0m\u001b[0;32mTrue\u001b[0m\u001b[0;34m,\u001b[0m \u001b[0msample_weight\u001b[0m\u001b[0;34m=\u001b[0m\u001b[0msample_weight\u001b[0m\u001b[0;34m\u001b[0m\u001b[0;34m\u001b[0m\u001b[0m\n\u001b[1;32m    265\u001b[0m         )\n",
            "\u001b[0;32m/usr/local/lib/python3.10/dist-packages/sklearn/naive_bayes.py\u001b[0m in \u001b[0;36m_partial_fit\u001b[0;34m(self, X, y, classes, _refit, sample_weight)\u001b[0m\n\u001b[1;32m    421\u001b[0m \u001b[0;34m\u001b[0m\u001b[0m\n\u001b[1;32m    422\u001b[0m         \u001b[0mfirst_call\u001b[0m \u001b[0;34m=\u001b[0m \u001b[0m_check_partial_fit_first_call\u001b[0m\u001b[0;34m(\u001b[0m\u001b[0mself\u001b[0m\u001b[0;34m,\u001b[0m \u001b[0mclasses\u001b[0m\u001b[0;34m)\u001b[0m\u001b[0;34m\u001b[0m\u001b[0;34m\u001b[0m\u001b[0m\n\u001b[0;32m--> 423\u001b[0;31m         \u001b[0mX\u001b[0m\u001b[0;34m,\u001b[0m \u001b[0my\u001b[0m \u001b[0;34m=\u001b[0m \u001b[0mself\u001b[0m\u001b[0;34m.\u001b[0m\u001b[0m_validate_data\u001b[0m\u001b[0;34m(\u001b[0m\u001b[0mX\u001b[0m\u001b[0;34m,\u001b[0m \u001b[0my\u001b[0m\u001b[0;34m,\u001b[0m \u001b[0mreset\u001b[0m\u001b[0;34m=\u001b[0m\u001b[0mfirst_call\u001b[0m\u001b[0;34m)\u001b[0m\u001b[0;34m\u001b[0m\u001b[0;34m\u001b[0m\u001b[0m\n\u001b[0m\u001b[1;32m    424\u001b[0m         \u001b[0;32mif\u001b[0m \u001b[0msample_weight\u001b[0m \u001b[0;32mis\u001b[0m \u001b[0;32mnot\u001b[0m \u001b[0;32mNone\u001b[0m\u001b[0;34m:\u001b[0m\u001b[0;34m\u001b[0m\u001b[0;34m\u001b[0m\u001b[0m\n\u001b[1;32m    425\u001b[0m             \u001b[0msample_weight\u001b[0m \u001b[0;34m=\u001b[0m \u001b[0m_check_sample_weight\u001b[0m\u001b[0;34m(\u001b[0m\u001b[0msample_weight\u001b[0m\u001b[0;34m,\u001b[0m \u001b[0mX\u001b[0m\u001b[0;34m)\u001b[0m\u001b[0;34m\u001b[0m\u001b[0;34m\u001b[0m\u001b[0m\n",
            "\u001b[0;32m/usr/local/lib/python3.10/dist-packages/sklearn/base.py\u001b[0m in \u001b[0;36m_validate_data\u001b[0;34m(self, X, y, reset, validate_separately, cast_to_ndarray, **check_params)\u001b[0m\n\u001b[1;32m    648\u001b[0m                 \u001b[0my\u001b[0m \u001b[0;34m=\u001b[0m \u001b[0mcheck_array\u001b[0m\u001b[0;34m(\u001b[0m\u001b[0my\u001b[0m\u001b[0;34m,\u001b[0m \u001b[0minput_name\u001b[0m\u001b[0;34m=\u001b[0m\u001b[0;34m\"y\"\u001b[0m\u001b[0;34m,\u001b[0m \u001b[0;34m**\u001b[0m\u001b[0mcheck_y_params\u001b[0m\u001b[0;34m)\u001b[0m\u001b[0;34m\u001b[0m\u001b[0;34m\u001b[0m\u001b[0m\n\u001b[1;32m    649\u001b[0m             \u001b[0;32melse\u001b[0m\u001b[0;34m:\u001b[0m\u001b[0;34m\u001b[0m\u001b[0;34m\u001b[0m\u001b[0m\n\u001b[0;32m--> 650\u001b[0;31m                 \u001b[0mX\u001b[0m\u001b[0;34m,\u001b[0m \u001b[0my\u001b[0m \u001b[0;34m=\u001b[0m \u001b[0mcheck_X_y\u001b[0m\u001b[0;34m(\u001b[0m\u001b[0mX\u001b[0m\u001b[0;34m,\u001b[0m \u001b[0my\u001b[0m\u001b[0;34m,\u001b[0m \u001b[0;34m**\u001b[0m\u001b[0mcheck_params\u001b[0m\u001b[0;34m)\u001b[0m\u001b[0;34m\u001b[0m\u001b[0;34m\u001b[0m\u001b[0m\n\u001b[0m\u001b[1;32m    651\u001b[0m             \u001b[0mout\u001b[0m \u001b[0;34m=\u001b[0m \u001b[0mX\u001b[0m\u001b[0;34m,\u001b[0m \u001b[0my\u001b[0m\u001b[0;34m\u001b[0m\u001b[0;34m\u001b[0m\u001b[0m\n\u001b[1;32m    652\u001b[0m \u001b[0;34m\u001b[0m\u001b[0m\n",
            "\u001b[0;32m/usr/local/lib/python3.10/dist-packages/sklearn/utils/validation.py\u001b[0m in \u001b[0;36mcheck_X_y\u001b[0;34m(X, y, accept_sparse, accept_large_sparse, dtype, order, copy, force_writeable, force_all_finite, ensure_2d, allow_nd, multi_output, ensure_min_samples, ensure_min_features, y_numeric, estimator)\u001b[0m\n\u001b[1;32m   1299\u001b[0m         )\n\u001b[1;32m   1300\u001b[0m \u001b[0;34m\u001b[0m\u001b[0m\n\u001b[0;32m-> 1301\u001b[0;31m     X = check_array(\n\u001b[0m\u001b[1;32m   1302\u001b[0m         \u001b[0mX\u001b[0m\u001b[0;34m,\u001b[0m\u001b[0;34m\u001b[0m\u001b[0;34m\u001b[0m\u001b[0m\n\u001b[1;32m   1303\u001b[0m         \u001b[0maccept_sparse\u001b[0m\u001b[0;34m=\u001b[0m\u001b[0maccept_sparse\u001b[0m\u001b[0;34m,\u001b[0m\u001b[0;34m\u001b[0m\u001b[0;34m\u001b[0m\u001b[0m\n",
            "\u001b[0;32m/usr/local/lib/python3.10/dist-packages/sklearn/utils/validation.py\u001b[0m in \u001b[0;36mcheck_array\u001b[0;34m(array, accept_sparse, accept_large_sparse, dtype, order, copy, force_writeable, force_all_finite, ensure_2d, allow_nd, ensure_min_samples, ensure_min_features, estimator, input_name)\u001b[0m\n\u001b[1;32m   1048\u001b[0m                         \u001b[0;34m\"if it contains a single sample.\"\u001b[0m\u001b[0;34m\u001b[0m\u001b[0;34m\u001b[0m\u001b[0m\n\u001b[1;32m   1049\u001b[0m                     )\n\u001b[0;32m-> 1050\u001b[0;31m                 \u001b[0;32mraise\u001b[0m \u001b[0mValueError\u001b[0m\u001b[0;34m(\u001b[0m\u001b[0mmsg\u001b[0m\u001b[0;34m)\u001b[0m\u001b[0;34m\u001b[0m\u001b[0;34m\u001b[0m\u001b[0m\n\u001b[0m\u001b[1;32m   1051\u001b[0m \u001b[0;34m\u001b[0m\u001b[0m\n\u001b[1;32m   1052\u001b[0m         \u001b[0;32mif\u001b[0m \u001b[0mdtype_numeric\u001b[0m \u001b[0;32mand\u001b[0m \u001b[0mhasattr\u001b[0m\u001b[0;34m(\u001b[0m\u001b[0marray\u001b[0m\u001b[0;34m.\u001b[0m\u001b[0mdtype\u001b[0m\u001b[0;34m,\u001b[0m \u001b[0;34m\"kind\"\u001b[0m\u001b[0;34m)\u001b[0m \u001b[0;32mand\u001b[0m \u001b[0marray\u001b[0m\u001b[0;34m.\u001b[0m\u001b[0mdtype\u001b[0m\u001b[0;34m.\u001b[0m\u001b[0mkind\u001b[0m \u001b[0;32min\u001b[0m \u001b[0;34m\"USV\"\u001b[0m\u001b[0;34m:\u001b[0m\u001b[0;34m\u001b[0m\u001b[0;34m\u001b[0m\u001b[0m\n",
            "\u001b[0;31mValueError\u001b[0m: Expected 2D array, got 1D array instead:\narray=[ 0  1  2  3  4  5  6  7  8  9 10 11 12 13 14 15 16 17 18 19 20 21 22 23\n 24 25 26 27 28 29].\nReshape your data either using array.reshape(-1, 1) if your data has a single feature or array.reshape(1, -1) if it contains a single sample."
          ]
        }
      ],
      "source": [
        "classifier = GaussianNB()\n",
        "classifier.fit(X, y)\n",
        "y_pred = classifier.predict(another_X)"
      ]
    },
    {
      "cell_type": "markdown",
      "id": "73ac396c",
      "metadata": {
        "id": "73ac396c"
      },
      "source": [
        "### К-ближайших соседей\n",
        "![](https://www.ibm.com/content/dam/connectedassets-adobe-cms/worldwide-content/cdp/cf/ul/g/ef/3a/KNN.component.complex-narrative-xl.ts=1708637519167.png/content/adobe-cms/us/en/topics/knn/jcr:content/root/table_of_contents/body/content_section_styled/content-section-body/complex_narrative/items/content_group/image)"
      ]
    },
    {
      "cell_type": "markdown",
      "source": [
        "определяет класс новой точки по k соседям"
      ],
      "metadata": {
        "id": "k47hBfP4HgG0"
      },
      "id": "k47hBfP4HgG0"
    },
    {
      "cell_type": "code",
      "execution_count": null,
      "id": "f278b892",
      "metadata": {
        "id": "f278b892"
      },
      "outputs": [],
      "source": [
        "from sklearn.neighbors import KNeighborsClassifier, KNeighborsRegressor"
      ]
    },
    {
      "cell_type": "markdown",
      "source": [
        "для классификации возвращает вероятность (0, 1)"
      ],
      "metadata": {
        "id": "nrQjQgrIHtA7"
      },
      "id": "nrQjQgrIHtA7"
    },
    {
      "cell_type": "code",
      "execution_count": null,
      "id": "3a0a10b0",
      "metadata": {
        "id": "3a0a10b0"
      },
      "outputs": [],
      "source": [
        "knn = KNeighborsRegressor()\n",
        "knn.fit(X, y)\n",
        "knn.predict(another_X)"
      ]
    },
    {
      "cell_type": "markdown",
      "id": "0b9486cf",
      "metadata": {
        "id": "0b9486cf"
      },
      "source": [
        "### Деревья решений\n",
        "![](https://regenerativetoday.com/wp-content/uploads/2022/04/dt.png)\n",
        "![](https://i.pinimg.com/originals/91/d3/31/91d3314ae9bc6525ed709b08c0214255.png)\n",
        "![](https://www.researchgate.net/publication/347070799/figure/fig1/AS:970120969068545@1608306271088/Example-of-a-supervised-machine-learning-algorithm-a-decision-tree-Decision-trees-come.png)"
      ]
    },
    {
      "cell_type": "code",
      "execution_count": null,
      "id": "7e383d7f",
      "metadata": {
        "id": "7e383d7f"
      },
      "outputs": [],
      "source": [
        "from sklearn.tree import DecisionTreeClassifier, DecisionTreeRegressor"
      ]
    },
    {
      "cell_type": "code",
      "execution_count": null,
      "id": "d1aa18d9",
      "metadata": {
        "id": "d1aa18d9"
      },
      "outputs": [],
      "source": [
        "tree = DecisionTreeClassifier()\n",
        "tree.fit(X, y)\n",
        "tree.predict(another_X)"
      ]
    },
    {
      "cell_type": "markdown",
      "id": "5090df29",
      "metadata": {
        "id": "5090df29"
      },
      "source": [
        "## 2.1 Неодообучение, переобучение"
      ]
    },
    {
      "cell_type": "markdown",
      "id": "f2da2c85",
      "metadata": {
        "id": "f2da2c85"
      },
      "source": [
        "![](https://docs.aws.amazon.com/images/machine-learning/latest/dg/images/mlconcepts_image5.png)"
      ]
    },
    {
      "cell_type": "code",
      "execution_count": null,
      "id": "a30d537d",
      "metadata": {
        "id": "a30d537d"
      },
      "outputs": [],
      "source": [
        "sigma = 1 / (1 + e ^ (-XW))"
      ]
    },
    {
      "cell_type": "code",
      "execution_count": null,
      "id": "1c95d2ec",
      "metadata": {
        "id": "1c95d2ec"
      },
      "outputs": [],
      "source": [
        "loss = sum((y_true - y_pred) ** 2) * 1 / n"
      ]
    },
    {
      "cell_type": "code",
      "execution_count": null,
      "id": "b8b6dd0d",
      "metadata": {
        "id": "b8b6dd0d"
      },
      "outputs": [],
      "source": [
        "dloss / dW\n",
        "\n",
        "grad(loss) - growth\n",
        "-grad(loss) - downgrade"
      ]
    },
    {
      "cell_type": "code",
      "execution_count": null,
      "id": "871e35c7",
      "metadata": {
        "id": "871e35c7"
      },
      "outputs": [],
      "source": [
        "W = W - (dloss / dW)"
      ]
    },
    {
      "cell_type": "code",
      "execution_count": null,
      "id": "28eec86e",
      "metadata": {
        "id": "28eec86e"
      },
      "outputs": [],
      "source": [
        "y_pred = XW"
      ]
    },
    {
      "cell_type": "code",
      "execution_count": null,
      "id": "0b94d644",
      "metadata": {
        "id": "0b94d644"
      },
      "outputs": [],
      "source": [
        "from sklearn.datasets import make_regression\n",
        "\n",
        "\n",
        "X, y = make_regression(n_samples=30, n_features=1, noise=5, random_state=17)\n",
        "plt.scatter(X, y);"
      ]
    },
    {
      "cell_type": "code",
      "execution_count": null,
      "id": "d8dc45f6",
      "metadata": {
        "id": "d8dc45f6"
      },
      "outputs": [],
      "source": [
        "from sklearn.linear_model import SGDRegressor\n",
        "\n",
        "\n",
        "estimator = SGDRegressor(max_iter=1)\n",
        "estimator.fit(X, y)\n",
        "y_pred = estimator.predict(X)\n",
        "\n",
        "plt.scatter(X, y, label='true')\n",
        "plt.scatter(X, y_pred, label='pred')\n",
        "plt.legend();"
      ]
    },
    {
      "cell_type": "code",
      "execution_count": null,
      "id": "ff8a3a5d",
      "metadata": {
        "id": "ff8a3a5d"
      },
      "outputs": [],
      "source": [
        "estimator = SGDRegressor()\n",
        "estimator.fit(X, y)\n",
        "y_pred = estimator.predict(X)\n",
        "\n",
        "plt.scatter(X, y, label='true')\n",
        "plt.scatter(X, y_pred, label='pred')\n",
        "plt.legend();"
      ]
    },
    {
      "cell_type": "code",
      "execution_count": null,
      "id": "7ca81cb5",
      "metadata": {
        "id": "7ca81cb5"
      },
      "outputs": [],
      "source": [
        "estimator.coef_"
      ]
    },
    {
      "cell_type": "code",
      "execution_count": null,
      "id": "13a1d59f",
      "metadata": {
        "id": "13a1d59f"
      },
      "outputs": [],
      "source": [
        "estimator.intercept_"
      ]
    },
    {
      "cell_type": "code",
      "execution_count": null,
      "id": "e633651a",
      "metadata": {
        "id": "e633651a"
      },
      "outputs": [],
      "source": [
        "y = w1 * x1 + w0"
      ]
    },
    {
      "cell_type": "code",
      "execution_count": null,
      "id": "ea8bd751",
      "metadata": {
        "id": "ea8bd751"
      },
      "outputs": [],
      "source": [
        "y = w0 + w1 * x + w2 * x^2 + w3 * x^3 ... w9 * x^9"
      ]
    },
    {
      "cell_type": "code",
      "execution_count": null,
      "id": "ecfd539a",
      "metadata": {
        "id": "ecfd539a"
      },
      "outputs": [],
      "source": [
        "from sklearn.preprocessing import PolynomialFeatures\n",
        "\n",
        "\n",
        "X_poly = PolynomialFeatures(degree=10).fit_transform(X)\n",
        "estimator = SGDRegressor()\n",
        "estimator.fit(X_poly, y)\n",
        "y_pred = estimator.predict(X_poly)\n",
        "\n",
        "plt.scatter(X, y, label='true')\n",
        "plt.scatter(X, y_pred, label='pred')\n",
        "plt.legend();"
      ]
    },
    {
      "cell_type": "code",
      "execution_count": null,
      "id": "43181c08",
      "metadata": {
        "id": "43181c08"
      },
      "outputs": [],
      "source": [
        "import numpy as np\n",
        "\n",
        "\n",
        "X_sample = np.arange(-2, 1.5, step=0.01)\n",
        "X_poly = PolynomialFeatures(degree=10).fit_transform(X_sample.reshape(-1, 1))\n",
        "y_pred = estimator.predict(X_poly)\n",
        "plt.plot(y_pred, label='pred')\n",
        "plt.legend();"
      ]
    },
    {
      "cell_type": "code",
      "execution_count": null,
      "id": "78473779",
      "metadata": {
        "id": "78473779"
      },
      "outputs": [],
      "source": [
        "estimator.coef_"
      ]
    },
    {
      "cell_type": "markdown",
      "id": "bf4cd340",
      "metadata": {
        "id": "bf4cd340"
      },
      "source": [
        "Большие веса означают переобучение модели"
      ]
    },
    {
      "cell_type": "markdown",
      "id": "81ff1c53",
      "metadata": {
        "id": "81ff1c53"
      },
      "source": [
        "## 2.2.1 Метрики качества"
      ]
    },
    {
      "cell_type": "markdown",
      "id": "c238003e",
      "metadata": {
        "id": "c238003e"
      },
      "source": [
        "#### Классификация\n",
        "\n",
        "Confusion Matrix\n",
        "![](https://plat.ai/wp-content/uploads/Table1-2.png.webp)\n",
        "Basic\n",
        "![](https://www.fticonsulting.com/insights/articles/-/media/ec68c768d8314ee9bd1d00109c2b603c.ashx)\n",
        "![](https://developers.google.com/static/machine-learning/crash-course/images/AUCPredictionsRanked.svg)\n",
        "![](data:image/png;base64,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)\n",
        "![](https://www.codecamp.ru/content/images/2021/08/read_roc2.png)"
      ]
    },
    {
      "cell_type": "markdown",
      "id": "de197b6a",
      "metadata": {
        "id": "de197b6a"
      },
      "source": [
        "#### Регрессия\n",
        "\n",
        "![](https://jonathan-sands.com/images/regression_metrics.png)\n",
        "![](https://www.freecodecamp.org/news/content/images/2022/08/image.png)"
      ]
    },
    {
      "cell_type": "markdown",
      "id": "2e101154",
      "metadata": {
        "id": "2e101154"
      },
      "source": [
        "## 2.2 Как бороться с переобучением (overfitting) модели?"
      ]
    },
    {
      "cell_type": "markdown",
      "id": "e862a56f",
      "metadata": {
        "id": "e862a56f"
      },
      "source": [
        "### 2.2.1 Разделять выборку на тренировочную и тестовую"
      ]
    },
    {
      "cell_type": "markdown",
      "id": "0604f3ec",
      "metadata": {
        "id": "0604f3ec"
      },
      "source": [
        "![](https://builtin.com/sites/www.builtin.com/files/styles/ckeditor_optimize/public/inline-images/4_train-test-split.jpg)"
      ]
    },
    {
      "cell_type": "code",
      "execution_count": null,
      "id": "b053f4b7",
      "metadata": {
        "id": "b053f4b7"
      },
      "outputs": [],
      "source": [
        "from sklearn.model_selection import train_test_split\n",
        "\n",
        "\n",
        "X_train, X_test, y_train, y_test = train_test_split(X, y, test_size=0.2, random_state=17)"
      ]
    },
    {
      "cell_type": "markdown",
      "id": "57bc1de9",
      "metadata": {
        "id": "57bc1de9"
      },
      "source": [
        "Обучаем модель на **тренировочной** выборке, смотрим метрики на **тестовой**"
      ]
    },
    {
      "cell_type": "code",
      "execution_count": null,
      "id": "430fe661",
      "metadata": {
        "id": "430fe661"
      },
      "outputs": [],
      "source": [
        "from sklearn.metrics import mean_absolute_error\n",
        "\n",
        "\n",
        "estimator = SGDRegressor()\n",
        "estimator.fit(X_train, y_train)\n",
        "\n",
        "y_pred_test = estimator.predict(X_test)\n",
        "\n",
        "mae = mean_absolute_error(y_test, y_pred_test)\n",
        "print(f\"MAE Test = {mae:.2f}\")\n",
        "\n",
        "mae = mean_absolute_error(y_train, estimator.predict(X_train))\n",
        "print(f\"MAE Train = {mae:.2f}\")"
      ]
    },
    {
      "cell_type": "code",
      "execution_count": null,
      "id": "07357c80",
      "metadata": {
        "id": "07357c80"
      },
      "outputs": [],
      "source": [
        "estimator = SGDRegressor()\n",
        "estimator.fit(PolynomialFeatures(degree=10).fit_transform(X_train), y_train)\n",
        "\n",
        "y_pred_test = estimator.predict(PolynomialFeatures(degree=10).fit_transform(X_test))\n",
        "\n",
        "mae = mean_absolute_error(y_test, y_pred_test)\n",
        "print(f\"MAE test = {mae:.2f}\")\n",
        "\n",
        "mae = mean_absolute_error(y_train, estimator.predict(PolynomialFeatures(degree=10).fit_transform(X_train)))\n",
        "print(f\"MAE train = {mae:.2f}\")"
      ]
    },
    {
      "cell_type": "markdown",
      "id": "04d6882d",
      "metadata": {
        "id": "04d6882d"
      },
      "source": [
        "Высокая ошибка на тесте = переобучились  \n",
        "Будем выбирать ту модель, которая на тесте показывает наименьшую ошибку"
      ]
    },
    {
      "cell_type": "markdown",
      "id": "d7e088e6",
      "metadata": {
        "id": "d7e088e6"
      },
      "source": [
        "### Cross Validation для подбора гиперпараметров и выбора лучших моделей"
      ]
    },
    {
      "cell_type": "markdown",
      "id": "7f433f0e",
      "metadata": {
        "id": "7f433f0e"
      },
      "source": [
        "![](https://scikit-learn.org/stable/_images/grid_search_cross_validation.png)"
      ]
    },
    {
      "cell_type": "markdown",
      "id": "2c786f12",
      "metadata": {
        "id": "2c786f12"
      },
      "source": [
        "**Обратите внимание!**  \n",
        "Кросс валидацию проводят на тренировочном множестве"
      ]
    },
    {
      "cell_type": "code",
      "execution_count": null,
      "id": "6b671e40",
      "metadata": {
        "id": "6b671e40"
      },
      "outputs": [],
      "source": [
        "X = np.arange(-10, 10, 0.01)\n",
        "y = X ** 2 + X ** 4\n",
        "plt.plot(X, y);"
      ]
    },
    {
      "cell_type": "code",
      "execution_count": null,
      "id": "db6ffad5",
      "metadata": {
        "id": "db6ffad5"
      },
      "outputs": [],
      "source": [
        "y_new = y + np.random.normal(0, 200, y.shape)\n",
        "plt.scatter(X, y_new, s=3);"
      ]
    },
    {
      "cell_type": "code",
      "execution_count": null,
      "id": "98262261",
      "metadata": {
        "id": "98262261"
      },
      "outputs": [],
      "source": [
        "X_train, X_test, y_train, y_test = train_test_split(X, y_new, test_size=0.2, random_state=17)"
      ]
    },
    {
      "cell_type": "code",
      "execution_count": null,
      "id": "f210d862",
      "metadata": {
        "id": "f210d862"
      },
      "outputs": [],
      "source": [
        "from sklearn.model_selection import cross_val_score\n",
        "\n",
        "\n",
        "cross_val_score(SGDRegressor(), X_train.reshape(-1, 1), y_train, scoring='neg_mean_absolute_error')"
      ]
    },
    {
      "cell_type": "code",
      "execution_count": null,
      "id": "fadf6647",
      "metadata": {
        "id": "fadf6647"
      },
      "outputs": [],
      "source": [
        "from sklearn.linear_model import Lasso\n",
        "\n",
        "\n",
        "powers = range(1, 8)\n",
        "for power in powers:\n",
        "    X_power = PolynomialFeatures(degree=power).fit_transform(X_train.reshape(-1, 1))\n",
        "    estimator = SGDRegressor()\n",
        "    cv_scores = cross_val_score(estimator, X_power, y_train, scoring='neg_mean_absolute_error')\n",
        "    print(f\"Power = {power:2}, CV negative-MAE = {cv_scores.mean():.2f}\")\n",
        "\n",
        "    cv_scores = cross_val_score(Lasso(max_iter=50000), X_power, y_train, scoring='neg_mean_absolute_error')\n",
        "    print(f\"Lasso  --  Power = {power:2}, CV negative-MAE = {cv_scores.mean():.2f}\")"
      ]
    },
    {
      "cell_type": "code",
      "execution_count": null,
      "id": "bf78588c",
      "metadata": {
        "id": "bf78588c"
      },
      "outputs": [],
      "source": [
        "best_estimator = Lasso(max_iter=50000)\n",
        "X_power = PolynomialFeatures(degree=4).fit_transform(X_train.reshape(-1, 1))\n",
        "best_estimator.fit(X_power, y_train)"
      ]
    },
    {
      "cell_type": "code",
      "execution_count": null,
      "id": "47448bf4",
      "metadata": {
        "id": "47448bf4"
      },
      "outputs": [],
      "source": [
        "y_pred_test = best_estimator.predict(PolynomialFeatures(degree=4).fit_transform(X_test.reshape(-1, 1)))\n",
        "\n",
        "plt.scatter(X_test, y_test, alpha=0.5, label='true')\n",
        "plt.scatter(X_test, y_pred_test, alpha=0.5, label='predict')\n",
        "plt.legend();"
      ]
    },
    {
      "cell_type": "markdown",
      "id": "3af6df43",
      "metadata": {
        "id": "3af6df43"
      },
      "source": [
        "### 2.2.2 Регуляризация"
      ]
    },
    {
      "cell_type": "markdown",
      "id": "08b68d05",
      "metadata": {
        "id": "08b68d05"
      },
      "source": [
        "![](https://camo.githubusercontent.com/c6bad12af0242455193151eed8482efc3645188c78d37636c1d41eb9c58d1d10/68747470733a2f2f6d69726f2e6d656469756d2e636f6d2f6d61782f3535302f312a2d4c79646851454479672d347979356847456a3577412e706e67)"
      ]
    },
    {
      "cell_type": "code",
      "execution_count": null,
      "id": "c9257d4f",
      "metadata": {
        "id": "c9257d4f"
      },
      "outputs": [],
      "source": [
        "from sklearn.linear_model import Ridge, Lasso\n",
        "\n",
        "\n",
        "X_power = PolynomialFeatures(degree=15).fit_transform(X_train.reshape(-1, 1))\n",
        "X_power_test = PolynomialFeatures(degree=15).fit_transform(X_test.reshape(-1, 1))\n",
        "\n",
        "lasso = Lasso(max_iter=500000)\n",
        "lasso.fit(X_power, y_train)\n",
        "lasso_predict = lasso.predict(X_power_test)\n",
        "\n",
        "ridge = Ridge(max_iter=500000)\n",
        "ridge.fit(X_power, y_train)\n",
        "ridge_predict = ridge.predict(X_power_test)\n",
        "\n",
        "\n",
        "plt.scatter(X_test, lasso_predict, alpha=0.5, label='Lasso')\n",
        "plt.scatter(X_test, ridge_predict, alpha=0.5, label='Ridge')\n",
        "plt.legend();"
      ]
    },
    {
      "cell_type": "code",
      "execution_count": null,
      "id": "54117a5e",
      "metadata": {
        "id": "54117a5e"
      },
      "outputs": [],
      "source": [
        "lasso.coef_"
      ]
    },
    {
      "cell_type": "code",
      "execution_count": null,
      "id": "1e0e0140",
      "metadata": {
        "id": "1e0e0140"
      },
      "outputs": [],
      "source": [
        "ridge.coef_"
      ]
    },
    {
      "cell_type": "markdown",
      "id": "7b866861",
      "metadata": {
        "id": "7b866861"
      },
      "source": [
        "L1 зануляет веса, L2 не зануляет"
      ]
    },
    {
      "cell_type": "markdown",
      "id": "ae98519c",
      "metadata": {
        "id": "ae98519c"
      },
      "source": [
        "![](https://www.researchgate.net/publication/281210149/figure/fig3/AS:668932620967964@1536497373944/a-The-L1-loss-function-blue-square-in-relationship-to-the-minimal-achievable-loss-b.png)"
      ]
    },
    {
      "cell_type": "markdown",
      "id": "64955862",
      "metadata": {
        "id": "64955862"
      },
      "source": [
        "### 2.2.3 Упростить модель"
      ]
    },
    {
      "cell_type": "markdown",
      "id": "3375b2fd",
      "metadata": {
        "id": "3375b2fd"
      },
      "source": [
        "# 2.3 Как бороться с недообученностью (underfitting)?\n",
        "1. Увеличивать количество итераций, чтобы градиентный спуск достиг минимума\n",
        "2. Усложнять модель"
      ]
    },
    {
      "cell_type": "markdown",
      "id": "52e67818",
      "metadata": {
        "id": "52e67818"
      },
      "source": [
        "# 3. Предобработка признаков"
      ]
    },
    {
      "cell_type": "markdown",
      "id": "7acbd187",
      "metadata": {
        "id": "7acbd187"
      },
      "source": [
        "## 3.1 Числовые переменные"
      ]
    },
    {
      "cell_type": "markdown",
      "id": "4404fbff",
      "metadata": {
        "id": "4404fbff"
      },
      "source": [
        "### 3.1.1 Логарифмирование (либо применение других функций)"
      ]
    },
    {
      "cell_type": "code",
      "execution_count": null,
      "id": "6fff1448",
      "metadata": {
        "id": "6fff1448"
      },
      "outputs": [],
      "source": [
        "DATA_URL = \"https://raw.githubusercontent.com/stedy/Machine-Learning-with-R-datasets/master/insurance.csv\"\n",
        "data = pd.read_csv(DATA_URL)"
      ]
    },
    {
      "cell_type": "code",
      "execution_count": null,
      "id": "d55283d7",
      "metadata": {
        "id": "d55283d7"
      },
      "outputs": [],
      "source": [
        "data.head()"
      ]
    },
    {
      "cell_type": "code",
      "execution_count": null,
      "id": "36ad8b00",
      "metadata": {
        "id": "36ad8b00"
      },
      "outputs": [],
      "source": [
        "data['charges'].hist();"
      ]
    },
    {
      "cell_type": "code",
      "execution_count": null,
      "id": "133f3063",
      "metadata": {
        "id": "133f3063"
      },
      "outputs": [],
      "source": [
        "data['charges_log'] = np.log(data['charges'])\n",
        "data['charges_log'].hist();"
      ]
    },
    {
      "cell_type": "markdown",
      "id": "ed7c4f79",
      "metadata": {
        "id": "ed7c4f79"
      },
      "source": [
        "### 3.1.2 Масштабирование"
      ]
    },
    {
      "cell_type": "markdown",
      "id": "cc434f2c",
      "metadata": {
        "id": "cc434f2c"
      },
      "source": [
        "MinMaxScaler\n",
        "![](http://androidkt.com/wp-content/uploads/2020/10/Selection_060.png)  \n",
        "---\n",
        "StandartScaler\n",
        "![](https://cdn-images-1.medium.com/max/370/1*Nlgc_wq2b-VfdawWX9MLWA.png)"
      ]
    },
    {
      "cell_type": "code",
      "execution_count": null,
      "id": "da1a78da",
      "metadata": {
        "id": "da1a78da"
      },
      "outputs": [],
      "source": [
        "from sklearn.preprocessing import StandardScaler, MinMaxScaler\n",
        "\n",
        "\n",
        "standart_scaled = StandardScaler().fit_transform(data['bmi'].values.reshape(-1, 1))\n",
        "minmax_scaled = MinMaxScaler().fit_transform(data['bmi'].values.reshape(-1, 1))"
      ]
    },
    {
      "cell_type": "code",
      "execution_count": null,
      "id": "e741c6ed",
      "metadata": {
        "id": "e741c6ed"
      },
      "outputs": [],
      "source": [
        "fig, axes = plt.subplots(ncols=3, figsize=(12, 3))\n",
        "\n",
        "axes[0].scatter(range(len(standart_scaled)), data['bmi'].values.reshape(-1, 1))\n",
        "axes[0].set_title(\"Original\")\n",
        "\n",
        "axes[1].scatter(range(len(standart_scaled)), standart_scaled)\n",
        "axes[1].set_title(\"Standart scale\")\n",
        "\n",
        "axes[2].scatter(range(len(standart_scaled)), minmax_scaled)\n",
        "axes[2].set_title(\"MinMax scale\");"
      ]
    },
    {
      "cell_type": "code",
      "execution_count": null,
      "id": "83f52f8e",
      "metadata": {
        "id": "83f52f8e"
      },
      "outputs": [],
      "source": [
        "from sklearn.preprocessing import QuantileTransformer"
      ]
    },
    {
      "cell_type": "code",
      "execution_count": null,
      "id": "0d0bacc2",
      "metadata": {
        "id": "0d0bacc2"
      },
      "outputs": [],
      "source": [
        "quantiles = QuantileTransformer().fit_transform(data['bmi'].values.reshape(-1, 1))"
      ]
    },
    {
      "cell_type": "code",
      "execution_count": null,
      "id": "1fcf53ee",
      "metadata": {
        "id": "1fcf53ee"
      },
      "outputs": [],
      "source": [
        "plt.scatter(range(len(standart_scaled)), quantiles);"
      ]
    },
    {
      "cell_type": "code",
      "execution_count": null,
      "id": "b080f8ed",
      "metadata": {
        "id": "b080f8ed"
      },
      "outputs": [],
      "source": [
        "plt.hist(data['bmi']);"
      ]
    },
    {
      "cell_type": "code",
      "execution_count": null,
      "id": "935ac872",
      "metadata": {
        "id": "935ac872"
      },
      "outputs": [],
      "source": [
        "plt.hist(quantiles);"
      ]
    },
    {
      "cell_type": "markdown",
      "id": "36afdd1f",
      "metadata": {
        "id": "36afdd1f"
      },
      "source": [
        "## 3.2 Категориальные признаки"
      ]
    },
    {
      "cell_type": "markdown",
      "id": "b85806b5",
      "metadata": {
        "id": "b85806b5"
      },
      "source": [
        "### 3.2.1 Label Encoder"
      ]
    },
    {
      "cell_type": "code",
      "execution_count": null,
      "id": "a085c0e4",
      "metadata": {
        "id": "a085c0e4"
      },
      "outputs": [],
      "source": [
        "from sklearn.preprocessing import LabelEncoder\n",
        "\n",
        "\n",
        "data['sex_LE'] = LabelEncoder().fit_transform(data['sex'])\n",
        "data['smoker_LE'] = LabelEncoder().fit_transform(data['smoker'])\n",
        "data['region_LE'] = LabelEncoder().fit_transform(data['region'])"
      ]
    },
    {
      "cell_type": "code",
      "execution_count": null,
      "id": "f67a244b",
      "metadata": {
        "id": "f67a244b"
      },
      "outputs": [],
      "source": [
        "data.head()"
      ]
    },
    {
      "cell_type": "code",
      "execution_count": null,
      "id": "a9899bd0",
      "metadata": {
        "id": "a9899bd0"
      },
      "outputs": [],
      "source": [
        "data['sex'].hist();"
      ]
    },
    {
      "cell_type": "code",
      "execution_count": null,
      "id": "ec7ac959",
      "metadata": {
        "id": "ec7ac959"
      },
      "outputs": [],
      "source": [
        "data['region'].hist();"
      ]
    },
    {
      "cell_type": "markdown",
      "id": "9d4d3e58",
      "metadata": {
        "id": "9d4d3e58"
      },
      "source": [
        "### 3.2.2 One Hot Encoding"
      ]
    },
    {
      "cell_type": "markdown",
      "id": "27c675c3",
      "metadata": {
        "id": "27c675c3"
      },
      "source": [
        "![](https://datagy.io/wp-content/uploads/2022/01/One-Hot-Encoding-for-Scikit-Learn-in-Python-Explained-1024x576.png)"
      ]
    },
    {
      "cell_type": "code",
      "execution_count": null,
      "id": "f132d2fb",
      "metadata": {
        "id": "f132d2fb"
      },
      "outputs": [],
      "source": [
        "from sklearn.preprocessing import OneHotEncoder\n",
        "\n",
        "\n",
        "sparsed_matrix = OneHotEncoder().fit_transform(data['region'].values.reshape(-1, 1))\n",
        "sparsed_matrix.toarray()"
      ]
    },
    {
      "cell_type": "code",
      "execution_count": null,
      "id": "dd293ed0",
      "metadata": {
        "id": "dd293ed0"
      },
      "outputs": [],
      "source": [
        "dummy_data = pd.get_dummies(data[['sex', 'smoker', 'region']])\n",
        "dummy_data.head()"
      ]
    },
    {
      "cell_type": "markdown",
      "id": "92dca795",
      "metadata": {
        "id": "92dca795"
      },
      "source": [
        "### 3.2.3 Стараться в информативность кодирования"
      ]
    },
    {
      "cell_type": "code",
      "execution_count": null,
      "id": "d237ed85",
      "metadata": {
        "id": "d237ed85"
      },
      "outputs": [],
      "source": [
        "data.groupby(['region']).mean()['charges_log'].to_dict()"
      ]
    },
    {
      "cell_type": "code",
      "execution_count": null,
      "id": "b615490f",
      "metadata": {
        "id": "b615490f"
      },
      "outputs": [],
      "source": [
        "data['region_encoded'] = data['region'].replace(data.groupby(['region']).mean()['charges_log'].to_dict())"
      ]
    },
    {
      "cell_type": "code",
      "execution_count": null,
      "id": "203b1ea6",
      "metadata": {
        "id": "203b1ea6"
      },
      "outputs": [],
      "source": [
        "data.head()"
      ]
    },
    {
      "cell_type": "markdown",
      "id": "2df59a24",
      "metadata": {
        "id": "2df59a24"
      },
      "source": [
        "Для классификации можно вставлять величины, основанные на вероятностях события при данном классе  \n",
        "Например WoE  \n",
        "![](data:image/png;base64,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)"
      ]
    },
    {
      "cell_type": "markdown",
      "id": "2ca6deae",
      "metadata": {
        "id": "2ca6deae"
      },
      "source": [
        "# 4. Работа с пропущенными значениями"
      ]
    },
    {
      "cell_type": "markdown",
      "id": "f1c444f9",
      "metadata": {
        "id": "f1c444f9"
      },
      "source": [
        "## 4.1 Выкинуть наблюдения с прощенными значениями"
      ]
    },
    {
      "cell_type": "code",
      "execution_count": null,
      "id": "9b678a4d",
      "metadata": {
        "id": "9b678a4d"
      },
      "outputs": [],
      "source": [
        "data.dropna(how='any')"
      ]
    },
    {
      "cell_type": "markdown",
      "id": "be3fac4a",
      "metadata": {
        "id": "be3fac4a"
      },
      "source": [
        "## 4.2 Замена на что-либо\n",
        "На что заменяют:\n",
        "- Мода\n",
        "- Среднее\n",
        "- Максимум\n",
        "- Минимум\n",
        "- Отдельная категория вроде \"Unknown\" (для категориальных)"
      ]
    },
    {
      "cell_type": "code",
      "execution_count": null,
      "id": "528cfc34",
      "metadata": {
        "id": "528cfc34"
      },
      "outputs": [],
      "source": [
        "data.fillna({\"age\": np.mean(data['age']),\n",
        "             \"bmi\": np.max(data['bmi']),\n",
        "             \"smoker\": \"unknown\",\n",
        "             \"region\": data['region'].mode().values[0]})"
      ]
    },
    {
      "cell_type": "code",
      "execution_count": null,
      "id": "46f32d42",
      "metadata": {
        "id": "46f32d42"
      },
      "outputs": [],
      "source": []
    }
  ],
  "metadata": {
    "kernelspec": {
      "display_name": "misis_mag_nn_fall_2023-venv",
      "language": "python",
      "name": "misis_mag_nn_fall_2023-venv"
    },
    "language_info": {
      "codemirror_mode": {
        "name": "ipython",
        "version": 3
      },
      "file_extension": ".py",
      "mimetype": "text/x-python",
      "name": "python",
      "nbconvert_exporter": "python",
      "pygments_lexer": "ipython3",
      "version": "3.9.6"
    },
    "colab": {
      "provenance": []
    }
  },
  "nbformat": 4,
  "nbformat_minor": 5
}