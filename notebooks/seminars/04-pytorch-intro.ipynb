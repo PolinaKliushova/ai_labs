{
  "cells": [
    {
      "cell_type": "markdown",
      "metadata": {
        "id": "apOCg85d9SLV"
      },
      "source": [
        "# Семинар по Pytorch.\n"
      ]
    },
    {
      "cell_type": "code",
      "execution_count": 1,
      "metadata": {
        "id": "_gLdrFvh9SLX"
      },
      "outputs": [],
      "source": [
        "import matplotlib.pyplot as plt\n",
        "import numpy as np\n",
        "import sklearn\n",
        "%matplotlib inline"
      ]
    },
    {
      "cell_type": "markdown",
      "metadata": {
        "id": "OYzpWFqt9SLY"
      },
      "source": [
        "Установка: https://pytorch.org/get-started/locally/  \n",
        "В этом ноутбуке будут разобраны основные особенности фреймворка Pytorch. Pytorch - это как Numpy, только умеет эффективно автоматически считать градиенты."
      ]
    },
    {
      "cell_type": "code",
      "execution_count": 2,
      "metadata": {
        "colab": {
          "base_uri": "https://localhost:8080/"
        },
        "id": "ejEH9lf39SLZ",
        "outputId": "f9023c46-a475-4064-c2ea-9288d0c10b54"
      },
      "outputs": [
        {
          "output_type": "stream",
          "name": "stdout",
          "text": [
            "2.5.1+cu121\n"
          ]
        }
      ],
      "source": [
        "import torch\n",
        "\n",
        "print(torch.__version__)"
      ]
    },
    {
      "cell_type": "code",
      "execution_count": 3,
      "metadata": {
        "id": "CvX6ONy29SLa"
      },
      "outputs": [],
      "source": [
        "import torchvision\n",
        "from torch import nn\n",
        "import os\n",
        "from torchvision.datasets import MNIST\n",
        "import torchvision.transforms as transforms\n",
        "import tqdm"
      ]
    },
    {
      "cell_type": "code",
      "execution_count": 4,
      "metadata": {
        "colab": {
          "base_uri": "https://localhost:8080/"
        },
        "id": "iyXIU9K29SLb",
        "outputId": "27646b4a-bf64-4866-e825-b73ab2c21b90"
      },
      "outputs": [
        {
          "output_type": "execute_result",
          "data": {
            "text/plain": [
              "False"
            ]
          },
          "metadata": {},
          "execution_count": 4
        }
      ],
      "source": [
        "# проверить, доступна ли у вас cuda.\n",
        "torch.cuda.is_available()"
      ]
    },
    {
      "cell_type": "markdown",
      "metadata": {
        "id": "7eVL0Xh49SLb"
      },
      "source": [
        "# Базовые операции"
      ]
    },
    {
      "cell_type": "code",
      "execution_count": 5,
      "metadata": {
        "colab": {
          "base_uri": "https://localhost:8080/"
        },
        "id": "VJh2krfQ9SLb",
        "outputId": "2faf4778-1a35-47ac-a178-3597bf49f0ce"
      },
      "outputs": [
        {
          "output_type": "stream",
          "name": "stdout",
          "text": [
            "X :\n",
            " [[ 0  1  2  3  4]\n",
            " [ 5  6  7  8  9]\n",
            " [10 11 12 13 14]\n",
            " [15 16 17 18 19]\n",
            " [20 21 22 23 24]]\n",
            "\n",
            "X.shape : (5, 5)\n",
            " \n",
            "Возвести в квадрат:\n",
            " [[  0   1   4   9  16]\n",
            " [ 25  36  49  64  81]\n",
            " [100 121 144 169 196]\n",
            " [225 256 289 324 361]\n",
            " [400 441 484 529 576]]\n",
            "\n",
            "X*X^T  :\n",
            " [[  30   80  130  180  230]\n",
            " [  80  255  430  605  780]\n",
            " [ 130  430  730 1030 1330]\n",
            " [ 180  605 1030 1455 1880]\n",
            " [ 230  780 1330 1880 2430]]\n",
            "\n",
            "Cреднее по столбцам :\n",
            " [10. 11. 12. 13. 14.]\n",
            "\n",
            "Сумма по строкам:\n",
            " [[  0   1   3   6  10]\n",
            " [  5  11  18  26  35]\n",
            " [ 10  21  33  46  60]\n",
            " [ 15  31  48  66  85]\n",
            " [ 20  41  63  86 110]]\n",
            "\n"
          ]
        }
      ],
      "source": [
        "# numpy\n",
        "\n",
        "x = np.arange(25).reshape(5, 5)\n",
        "\n",
        "print(\"X :\\n {}\\n\".format(x))\n",
        "print(\"X.shape : {}\\n \".format(x.shape))\n",
        "print(\"Возвести в квадрат:\\n {}\\n\".format(x * x))\n",
        "print(\"X*X^T  :\\n {}\\n\".format(np.matmul(x, x.T)))\n",
        "print(\"Cреднее по столбцам :\\n {}\\n\".format(np.mean(x, axis=0)))\n",
        "print(\"Сумма по строкам:\\n {}\\n\".format(np.cumsum(x, axis=1)))"
      ]
    },
    {
      "cell_type": "markdown",
      "source": [
        "tensor - numpy array, только можно считать градиенты"
      ],
      "metadata": {
        "id": "Nh0cg-dMb-0t"
      }
    },
    {
      "cell_type": "code",
      "execution_count": 6,
      "metadata": {
        "colab": {
          "base_uri": "https://localhost:8080/"
        },
        "id": "qRoNIUAm9SLc",
        "outputId": "5015ca75-9fb0-4510-c9c5-ef5f5714a893"
      },
      "outputs": [
        {
          "output_type": "stream",
          "name": "stdout",
          "text": [
            "X :\n",
            " tensor([[ 0.,  1.,  2.,  3.,  4.],\n",
            "        [ 5.,  6.,  7.,  8.,  9.],\n",
            "        [10., 11., 12., 13., 14.],\n",
            "        [15., 16., 17., 18., 19.],\n",
            "        [20., 21., 22., 23., 24.]])\n",
            "\n",
            "X.shape : torch.Size([5, 5])\n",
            " \n",
            "Возвести в квадрат:\n",
            " tensor([[  0.,   1.,   4.,   9.,  16.],\n",
            "        [ 25.,  36.,  49.,  64.,  81.],\n",
            "        [100., 121., 144., 169., 196.],\n",
            "        [225., 256., 289., 324., 361.],\n",
            "        [400., 441., 484., 529., 576.]])\n",
            "\n",
            "X*X^T  :\n",
            " tensor([[  30.,   80.,  130.,  180.,  230.],\n",
            "        [  80.,  255.,  430.,  605.,  780.],\n",
            "        [ 130.,  430.,  730., 1030., 1330.],\n",
            "        [ 180.,  605., 1030., 1455., 1880.],\n",
            "        [ 230.,  780., 1330., 1880., 2430.]])\n",
            "\n",
            "Cреднее по столбцам :\n",
            " tensor([10., 11., 12., 13., 14.])\n",
            "\n",
            "Сумма по строкам:\n",
            " tensor([[  0.,   1.,   3.,   6.,  10.],\n",
            "        [  5.,  11.,  18.,  26.,  35.],\n",
            "        [ 10.,  21.,  33.,  46.,  60.],\n",
            "        [ 15.,  31.,  48.,  66.,  85.],\n",
            "        [ 20.,  41.,  63.,  86., 110.]])\n",
            "\n"
          ]
        }
      ],
      "source": [
        "# torch\n",
        "\n",
        "x = torch.arange(25).reshape(5, 5).float()\n",
        "\n",
        "print(\"X :\\n {}\\n\".format(x))\n",
        "print(\"X.shape : {}\\n \".format(x.shape))\n",
        "print(\"Возвести в квадрат:\\n {}\\n\".format(x * x))\n",
        "print(\"X*X^T  :\\n {}\\n\".format(torch.matmul(x, x.T)))\n",
        "print(\"Cреднее по столбцам :\\n {}\\n\".format(torch.mean(x, axis=0)))\n",
        "print(\"Сумма по строкам:\\n {}\\n\".format(torch.cumsum(x, axis=1)))"
      ]
    },
    {
      "cell_type": "markdown",
      "metadata": {
        "id": "PErs03Qf9SLc"
      },
      "source": [
        "# Pytorch - почти Numpy.\n",
        "Вы можете создавать тензоры, смотреть на их градиенты, не создавая сессии как в tensorflow.\n",
        "Названия методов очень похожи. Если они отличаются - загляните в таблицу: https://github.com/torch/torch7/wiki/Torch-for-Numpy-users\n"
      ]
    },
    {
      "cell_type": "markdown",
      "metadata": {
        "id": "OVAZNles9SLd"
      },
      "source": [
        "# Pytroch сам считает backpropagation для нас с помощью модуля autograd"
      ]
    },
    {
      "cell_type": "code",
      "execution_count": 7,
      "metadata": {
        "colab": {
          "base_uri": "https://localhost:8080/"
        },
        "id": "BxomQQ3u9SLd",
        "outputId": "9653396d-c7d7-46c1-db8a-eb0e564e9328"
      },
      "outputs": [
        {
          "output_type": "stream",
          "name": "stdout",
          "text": [
            "tensor(1., grad_fn=<MeanBackward0>)\n"
          ]
        }
      ],
      "source": [
        "# создаем тензор\n",
        "preds = torch.zeros(5, requires_grad=True)\n",
        "\n",
        "# вектор предсказаний\n",
        "labels = torch.ones(5, requires_grad=True)\n",
        "\n",
        "# loss: MAE\n",
        "loss = torch.mean(torch.abs(labels - preds))\n",
        "\n",
        "print(loss)\n",
        "\n",
        "# запускаем backprop\n",
        "loss.backward() #граф вычислений - от него зависел loss"
      ]
    },
    {
      "cell_type": "markdown",
      "source": [
        "Градиенты нужны чтоб минимизировать функцию потерь - менять веса модели - обучение"
      ],
      "metadata": {
        "id": "bj5MnXlfdOTe"
      }
    },
    {
      "cell_type": "code",
      "execution_count": 8,
      "metadata": {
        "colab": {
          "base_uri": "https://localhost:8080/"
        },
        "id": "aSu1ITF99SLe",
        "outputId": "9ac7ed55-ecae-4049-e009-aeadba599527"
      },
      "outputs": [
        {
          "output_type": "execute_result",
          "data": {
            "text/plain": [
              "tensor([-0.2000, -0.2000, -0.2000, -0.2000, -0.2000])"
            ]
          },
          "metadata": {},
          "execution_count": 8
        }
      ],
      "source": [
        "# градиенты доступны в поле .grad:\n",
        "preds.grad"
      ]
    },
    {
      "cell_type": "code",
      "execution_count": 9,
      "metadata": {
        "colab": {
          "base_uri": "https://localhost:8080/"
        },
        "id": "JlpI3Th29SLe",
        "outputId": "abbab506-db5d-4124-c2df-23b5720fc1ee"
      },
      "outputs": [
        {
          "output_type": "execute_result",
          "data": {
            "text/plain": [
              "tensor([0., 0., 0., 0., 0.])"
            ]
          },
          "metadata": {},
          "execution_count": 9
        }
      ],
      "source": [
        "# градиенты можно занулить\n",
        "preds.grad.zero_()"
      ]
    },
    {
      "cell_type": "code",
      "execution_count": 10,
      "metadata": {
        "colab": {
          "base_uri": "https://localhost:8080/"
        },
        "id": "zBjOk_jH9SLe",
        "outputId": "96d2ca8c-92ca-4d2a-ebc7-fb5967049779"
      },
      "outputs": [
        {
          "output_type": "execute_result",
          "data": {
            "text/plain": [
              "tensor([0., 0., 0., 0., 0.])"
            ]
          },
          "metadata": {},
          "execution_count": 10
        }
      ],
      "source": [
        "# теперь градиенты снова 0\n",
        "preds.grad"
      ]
    },
    {
      "cell_type": "markdown",
      "source": [
        "Градиенты нужно занулять каждый раз, когда происходит итерация обучения"
      ],
      "metadata": {
        "id": "ORPI4lqYdey2"
      }
    },
    {
      "cell_type": "markdown",
      "source": [
        "Показывает насколько нужно сдвинуть вес\n",
        "\n",
        "Слишком большие градиенты - не сойдется или будет слишком долго"
      ],
      "metadata": {
        "id": "nM3IpGeUdw-Z"
      }
    },
    {
      "cell_type": "markdown",
      "metadata": {
        "id": "rzwlsjQC9SLf"
      },
      "source": [
        "###  Градиенты накапливаются при каждом вызове backward()"
      ]
    },
    {
      "cell_type": "code",
      "execution_count": 11,
      "metadata": {
        "colab": {
          "base_uri": "https://localhost:8080/"
        },
        "id": "kgydtalG9SLf",
        "outputId": "5e69048f-1928-4f99-a3de-f50daafb7075"
      },
      "outputs": [
        {
          "output_type": "stream",
          "name": "stdout",
          "text": [
            "tensor(1., grad_fn=<MeanBackward0>)\n",
            "0 tensor([-0.2000, -0.2000, -0.2000, -0.2000, -0.2000])\n",
            "1 tensor([-0.4000, -0.4000, -0.4000, -0.4000, -0.4000])\n",
            "2 tensor([-0.6000, -0.6000, -0.6000, -0.6000, -0.6000])\n",
            "3 tensor([-0.8000, -0.8000, -0.8000, -0.8000, -0.8000])\n",
            "4 tensor([-1., -1., -1., -1., -1.])\n"
          ]
        }
      ],
      "source": [
        "# создаем тензор\n",
        "preds = torch.zeros(5, requires_grad=True)\n",
        "\n",
        "# вектор предсказаний\n",
        "labels = torch.ones(5, requires_grad=True)\n",
        "\n",
        "# loss: MAE\n",
        "loss = torch.mean(torch.abs(labels - preds))\n",
        "\n",
        "print(loss)\n",
        "\n",
        "# запускаем backprop\n",
        "for i in range(5):\n",
        "    loss.backward(retain_graph=True)\n",
        "    print(i, preds.grad)"
      ]
    },
    {
      "cell_type": "markdown",
      "metadata": {
        "id": "xt-q2Fk79SLg"
      },
      "source": [
        "# Пишем свою логистическую регрессию на пайторче"
      ]
    },
    {
      "cell_type": "code",
      "execution_count": 12,
      "metadata": {
        "id": "J3yFTWek9SLg"
      },
      "outputs": [],
      "source": [
        "from sklearn.datasets import make_blobs\n",
        "import sklearn\n",
        "\n",
        "X, y = make_blobs(\n",
        "    n_samples=200,\n",
        "    centers=((10, 5), (5, -5)),\n",
        "    n_features=2,\n",
        "    random_state=0,\n",
        "    cluster_std=3,\n",
        ")"
      ]
    },
    {
      "cell_type": "code",
      "execution_count": 13,
      "metadata": {
        "colab": {
          "base_uri": "https://localhost:8080/",
          "height": 448
        },
        "id": "FDd7e9339SLg",
        "outputId": "44711cab-50be-4409-f4d2-6d7d6aa39abb"
      },
      "outputs": [
        {
          "output_type": "execute_result",
          "data": {
            "text/plain": [
              "<matplotlib.collections.PathCollection at 0x7bbb27cddc30>"
            ]
          },
          "metadata": {},
          "execution_count": 13
        },
        {
          "output_type": "display_data",
          "data": {
            "text/plain": [
              "<Figure size 640x480 with 1 Axes>"
            ],
            "image/png": "[encoded data removed]"
          },
          "metadata": {}
        }
      ],
      "source": [
        "plt.scatter(X[:, 0], X[:, 1], marker=\"o\", c=y, s=25, edgecolor=\"k\")"
      ]
    },
    {
      "cell_type": "markdown",
      "metadata": {
        "id": "5NU6rOBC9SLh"
      },
      "source": [
        "# Напоминание. Как это было в Sklearn:"
      ]
    },
    {
      "cell_type": "code",
      "execution_count": 14,
      "metadata": {
        "id": "7wWhBHPH9SLh"
      },
      "outputs": [],
      "source": [
        "from sklearn.linear_model import LogisticRegression"
      ]
    },
    {
      "cell_type": "code",
      "execution_count": 15,
      "metadata": {
        "id": "2HmP5WB_9SLi"
      },
      "outputs": [],
      "source": [
        "model = LogisticRegression()"
      ]
    },
    {
      "cell_type": "code",
      "execution_count": 16,
      "metadata": {
        "colab": {
          "base_uri": "https://localhost:8080/",
          "height": 80
        },
        "id": "WBcgUibg9SLi",
        "outputId": "30dd3cea-fc54-4a26-c408-88dc58270f76"
      },
      "outputs": [
        {
          "output_type": "execute_result",
          "data": {
            "text/plain": [
              "LogisticRegression()"
            ],
            "text/html": [
              "<style>#sk-container-id-1 {\n",
              "  /* Definition of color scheme common for light and dark mode */\n",
              "  --sklearn-color-text: black;\n",
              "  --sklearn-color-line: gray;\n",
              "  /* Definition of color scheme for unfitted estimators */\n",
              "  --sklearn-color-unfitted-level-0: #fff5e6;\n",
              "  --sklearn-color-unfitted-level-1: #f6e4d2;\n",
              "  --sklearn-color-unfitted-level-2: #ffe0b3;\n",
              "  --sklearn-color-unfitted-level-3: chocolate;\n",
              "  /* Definition of color scheme for fitted estimators */\n",
              "  --sklearn-color-fitted-level-0: #f0f8ff;\n",
              "  --sklearn-color-fitted-level-1: #d4ebff;\n",
              "  --sklearn-color-fitted-level-2: #b3dbfd;\n",
              "  --sklearn-color-fitted-level-3: cornflowerblue;\n",
              "\n",
              "  /* Specific color for light theme */\n",
              "  --sklearn-color-text-on-default-background: var(--sg-text-color, var(--theme-code-foreground, var(--jp-content-font-color1, black)));\n",
              "  --sklearn-color-background: var(--sg-background-color, var(--theme-background, var(--jp-layout-color0, white)));\n",
              "  --sklearn-color-border-box: var(--sg-text-color, var(--theme-code-foreground, var(--jp-content-font-color1, black)));\n",
              "  --sklearn-color-icon: #696969;\n",
              "\n",
              "  @media (prefers-color-scheme: dark) {\n",
              "    /* Redefinition of color scheme for dark theme */\n",
              "    --sklearn-color-text-on-default-background: var(--sg-text-color, var(--theme-code-foreground, var(--jp-content-font-color1, white)));\n",
              "    --sklearn-color-background: var(--sg-background-color, var(--theme-background, var(--jp-layout-color0, #111)));\n",
              "    --sklearn-color-border-box: var(--sg-text-color, var(--theme-code-foreground, var(--jp-content-font-color1, white)));\n",
              "    --sklearn-color-icon: #878787;\n",
              "  }\n",
              "}\n",
              "\n",
              "#sk-container-id-1 {\n",
              "  color: var(--sklearn-color-text);\n",
              "}\n",
              "\n",
              "#sk-container-id-1 pre {\n",
              "  padding: 0;\n",
              "}\n",
              "\n",
              "#sk-container-id-1 input.sk-hidden--visually {\n",
              "  border: 0;\n",
              "  clip: rect(1px 1px 1px 1px);\n",
              "  clip: rect(1px, 1px, 1px, 1px);\n",
              "  height: 1px;\n",
              "  margin: -1px;\n",
              "  overflow: hidden;\n",
              "  padding: 0;\n",
              "  position: absolute;\n",
              "  width: 1px;\n",
              "}\n",
              "\n",
              "#sk-container-id-1 div.sk-dashed-wrapped {\n",
              "  border: 1px dashed var(--sklearn-color-line);\n",
              "  margin: 0 0.4em 0.5em 0.4em;\n",
              "  box-sizing: border-box;\n",
              "  padding-bottom: 0.4em;\n",
              "  background-color: var(--sklearn-color-background);\n",
              "}\n",
              "\n",
              "#sk-container-id-1 div.sk-container {\n",
              "  /* jupyter's `normalize.less` sets `[hidden] { display: none; }`\n",
              "     but bootstrap.min.css set `[hidden] { display: none !important; }`\n",
              "     so we also need the `!important` here to be able to override the\n",
              "     default hidden behavior on the sphinx rendered scikit-learn.org.\n",
              "     See: https://github.com/scikit-learn/scikit-learn/issues/21755 */\n",
              "  display: inline-block !important;\n",
              "  position: relative;\n",
              "}\n",
              "\n",
              "#sk-container-id-1 div.sk-text-repr-fallback {\n",
              "  display: none;\n",
              "}\n",
              "\n",
              "div.sk-parallel-item,\n",
              "div.sk-serial,\n",
              "div.sk-item {\n",
              "  /* draw centered vertical line to link estimators */\n",
              "  background-image: linear-gradient(var(--sklearn-color-text-on-default-background), var(--sklearn-color-text-on-default-background));\n",
              "  background-size: 2px 100%;\n",
              "  background-repeat: no-repeat;\n",
              "  background-position: center center;\n",
              "}\n",
              "\n",
              "/* Parallel-specific style estimator block */\n",
              "\n",
              "#sk-container-id-1 div.sk-parallel-item::after {\n",
              "  content: \"\";\n",
              "  width: 100%;\n",
              "  border-bottom: 2px solid var(--sklearn-color-text-on-default-background);\n",
              "  flex-grow: 1;\n",
              "}\n",
              "\n",
              "#sk-container-id-1 div.sk-parallel {\n",
              "  display: flex;\n",
              "  align-items: stretch;\n",
              "  justify-content: center;\n",
              "  background-color: var(--sklearn-color-background);\n",
              "  position: relative;\n",
              "}\n",
              "\n",
              "#sk-container-id-1 div.sk-parallel-item {\n",
              "  display: flex;\n",
              "  flex-direction: column;\n",
              "}\n",
              "\n",
              "#sk-container-id-1 div.sk-parallel-item:first-child::after {\n",
              "  align-self: flex-end;\n",
              "  width: 50%;\n",
              "}\n",
              "\n",
              "#sk-container-id-1 div.sk-parallel-item:last-child::after {\n",
              "  align-self: flex-start;\n",
              "  width: 50%;\n",
              "}\n",
              "\n",
              "#sk-container-id-1 div.sk-parallel-item:only-child::after {\n",
              "  width: 0;\n",
              "}\n",
              "\n",
              "/* Serial-specific style estimator block */\n",
              "\n",
              "#sk-container-id-1 div.sk-serial {\n",
              "  display: flex;\n",
              "  flex-direction: column;\n",
              "  align-items: center;\n",
              "  background-color: var(--sklearn-color-background);\n",
              "  padding-right: 1em;\n",
              "  padding-left: 1em;\n",
              "}\n",
              "\n",
              "\n",
              "/* Toggleable style: style used for estimator/Pipeline/ColumnTransformer box that is\n",
              "clickable and can be expanded/collapsed.\n",
              "- Pipeline and ColumnTransformer use this feature and define the default style\n",
              "- Estimators will overwrite some part of the style using the `sk-estimator` class\n",
              "*/\n",
              "\n",
              "/* Pipeline and ColumnTransformer style (default) */\n",
              "\n",
              "#sk-container-id-1 div.sk-toggleable {\n",
              "  /* Default theme specific background. It is overwritten whether we have a\n",
              "  specific estimator or a Pipeline/ColumnTransformer */\n",
              "  background-color: var(--sklearn-color-background);\n",
              "}\n",
              "\n",
              "/* Toggleable label */\n",
              "#sk-container-id-1 label.sk-toggleable__label {\n",
              "  cursor: pointer;\n",
              "  display: block;\n",
              "  width: 100%;\n",
              "  margin-bottom: 0;\n",
              "  padding: 0.5em;\n",
              "  box-sizing: border-box;\n",
              "  text-align: center;\n",
              "}\n",
              "\n",
              "#sk-container-id-1 label.sk-toggleable__label-arrow:before {\n",
              "  /* Arrow on the left of the label */\n",
              "  content: \"▸\";\n",
              "  float: left;\n",
              "  margin-right: 0.25em;\n",
              "  color: var(--sklearn-color-icon);\n",
              "}\n",
              "\n",
              "#sk-container-id-1 label.sk-toggleable__label-arrow:hover:before {\n",
              "  color: var(--sklearn-color-text);\n",
              "}\n",
              "\n",
              "/* Toggleable content - dropdown */\n",
              "\n",
              "#sk-container-id-1 div.sk-toggleable__content {\n",
              "  max-height: 0;\n",
              "  max-width: 0;\n",
              "  overflow: hidden;\n",
              "  text-align: left;\n",
              "  /* unfitted */\n",
              "  background-color: var(--sklearn-color-unfitted-level-0);\n",
              "}\n",
              "\n",
              "#sk-container-id-1 div.sk-toggleable__content.fitted {\n",
              "  /* fitted */\n",
              "  background-color: var(--sklearn-color-fitted-level-0);\n",
              "}\n",
              "\n",
              "#sk-container-id-1 div.sk-toggleable__content pre {\n",
              "  margin: 0.2em;\n",
              "  border-radius: 0.25em;\n",
              "  color: var(--sklearn-color-text);\n",
              "  /* unfitted */\n",
              "  background-color: var(--sklearn-color-unfitted-level-0);\n",
              "}\n",
              "\n",
              "#sk-container-id-1 div.sk-toggleable__content.fitted pre {\n",
              "  /* unfitted */\n",
              "  background-color: var(--sklearn-color-fitted-level-0);\n",
              "}\n",
              "\n",
              "#sk-container-id-1 input.sk-toggleable__control:checked~div.sk-toggleable__content {\n",
              "  /* Expand drop-down */\n",
              "  max-height: 200px;\n",
              "  max-width: 100%;\n",
              "  overflow: auto;\n",
              "}\n",
              "\n",
              "#sk-container-id-1 input.sk-toggleable__control:checked~label.sk-toggleable__label-arrow:before {\n",
              "  content: \"▾\";\n",
              "}\n",
              "\n",
              "/* Pipeline/ColumnTransformer-specific style */\n",
              "\n",
              "#sk-container-id-1 div.sk-label input.sk-toggleable__control:checked~label.sk-toggleable__label {\n",
              "  color: var(--sklearn-color-text);\n",
              "  background-color: var(--sklearn-color-unfitted-level-2);\n",
              "}\n",
              "\n",
              "#sk-container-id-1 div.sk-label.fitted input.sk-toggleable__control:checked~label.sk-toggleable__label {\n",
              "  background-color: var(--sklearn-color-fitted-level-2);\n",
              "}\n",
              "\n",
              "/* Estimator-specific style */\n",
              "\n",
              "/* Colorize estimator box */\n",
              "#sk-container-id-1 div.sk-estimator input.sk-toggleable__control:checked~label.sk-toggleable__label {\n",
              "  /* unfitted */\n",
              "  background-color: var(--sklearn-color-unfitted-level-2);\n",
              "}\n",
              "\n",
              "#sk-container-id-1 div.sk-estimator.fitted input.sk-toggleable__control:checked~label.sk-toggleable__label {\n",
              "  /* fitted */\n",
              "  background-color: var(--sklearn-color-fitted-level-2);\n",
              "}\n",
              "\n",
              "#sk-container-id-1 div.sk-label label.sk-toggleable__label,\n",
              "#sk-container-id-1 div.sk-label label {\n",
              "  /* The background is the default theme color */\n",
              "  color: var(--sklearn-color-text-on-default-background);\n",
              "}\n",
              "\n",
              "/* On hover, darken the color of the background */\n",
              "#sk-container-id-1 div.sk-label:hover label.sk-toggleable__label {\n",
              "  color: var(--sklearn-color-text);\n",
              "  background-color: var(--sklearn-color-unfitted-level-2);\n",
              "}\n",
              "\n",
              "/* Label box, darken color on hover, fitted */\n",
              "#sk-container-id-1 div.sk-label.fitted:hover label.sk-toggleable__label.fitted {\n",
              "  color: var(--sklearn-color-text);\n",
              "  background-color: var(--sklearn-color-fitted-level-2);\n",
              "}\n",
              "\n",
              "/* Estimator label */\n",
              "\n",
              "#sk-container-id-1 div.sk-label label {\n",
              "  font-family: monospace;\n",
              "  font-weight: bold;\n",
              "  display: inline-block;\n",
              "  line-height: 1.2em;\n",
              "}\n",
              "\n",
              "#sk-container-id-1 div.sk-label-container {\n",
              "  text-align: center;\n",
              "}\n",
              "\n",
              "/* Estimator-specific */\n",
              "#sk-container-id-1 div.sk-estimator {\n",
              "  font-family: monospace;\n",
              "  border: 1px dotted var(--sklearn-color-border-box);\n",
              "  border-radius: 0.25em;\n",
              "  box-sizing: border-box;\n",
              "  margin-bottom: 0.5em;\n",
              "  /* unfitted */\n",
              "  background-color: var(--sklearn-color-unfitted-level-0);\n",
              "}\n",
              "\n",
              "#sk-container-id-1 div.sk-estimator.fitted {\n",
              "  /* fitted */\n",
              "  background-color: var(--sklearn-color-fitted-level-0);\n",
              "}\n",
              "\n",
              "/* on hover */\n",
              "#sk-container-id-1 div.sk-estimator:hover {\n",
              "  /* unfitted */\n",
              "  background-color: var(--sklearn-color-unfitted-level-2);\n",
              "}\n",
              "\n",
              "#sk-container-id-1 div.sk-estimator.fitted:hover {\n",
              "  /* fitted */\n",
              "  background-color: var(--sklearn-color-fitted-level-2);\n",
              "}\n",
              "\n",
              "/* Specification for estimator info (e.g. \"i\" and \"?\") */\n",
              "\n",
              "/* Common style for \"i\" and \"?\" */\n",
              "\n",
              ".sk-estimator-doc-link,\n",
              "a:link.sk-estimator-doc-link,\n",
              "a:visited.sk-estimator-doc-link {\n",
              "  float: right;\n",
              "  font-size: smaller;\n",
              "  line-height: 1em;\n",
              "  font-family: monospace;\n",
              "  background-color: var(--sklearn-color-background);\n",
              "  border-radius: 1em;\n",
              "  height: 1em;\n",
              "  width: 1em;\n",
              "  text-decoration: none !important;\n",
              "  margin-left: 1ex;\n",
              "  /* unfitted */\n",
              "  border: var(--sklearn-color-unfitted-level-1) 1pt solid;\n",
              "  color: var(--sklearn-color-unfitted-level-1);\n",
              "}\n",
              "\n",
              ".sk-estimator-doc-link.fitted,\n",
              "a:link.sk-estimator-doc-link.fitted,\n",
              "a:visited.sk-estimator-doc-link.fitted {\n",
              "  /* fitted */\n",
              "  border: var(--sklearn-color-fitted-level-1) 1pt solid;\n",
              "  color: var(--sklearn-color-fitted-level-1);\n",
              "}\n",
              "\n",
              "/* On hover */\n",
              "div.sk-estimator:hover .sk-estimator-doc-link:hover,\n",
              ".sk-estimator-doc-link:hover,\n",
              "div.sk-label-container:hover .sk-estimator-doc-link:hover,\n",
              ".sk-estimator-doc-link:hover {\n",
              "  /* unfitted */\n",
              "  background-color: var(--sklearn-color-unfitted-level-3);\n",
              "  color: var(--sklearn-color-background);\n",
              "  text-decoration: none;\n",
              "}\n",
              "\n",
              "div.sk-estimator.fitted:hover .sk-estimator-doc-link.fitted:hover,\n",
              ".sk-estimator-doc-link.fitted:hover,\n",
              "div.sk-label-container:hover .sk-estimator-doc-link.fitted:hover,\n",
              ".sk-estimator-doc-link.fitted:hover {\n",
              "  /* fitted */\n",
              "  background-color: var(--sklearn-color-fitted-level-3);\n",
              "  color: var(--sklearn-color-background);\n",
              "  text-decoration: none;\n",
              "}\n",
              "\n",
              "/* Span, style for the box shown on hovering the info icon */\n",
              ".sk-estimator-doc-link span {\n",
              "  display: none;\n",
              "  z-index: 9999;\n",
              "  position: relative;\n",
              "  font-weight: normal;\n",
              "  right: .2ex;\n",
              "  padding: .5ex;\n",
              "  margin: .5ex;\n",
              "  width: min-content;\n",
              "  min-width: 20ex;\n",
              "  max-width: 50ex;\n",
              "  color: var(--sklearn-color-text);\n",
              "  box-shadow: 2pt 2pt 4pt #999;\n",
              "  /* unfitted */\n",
              "  background: var(--sklearn-color-unfitted-level-0);\n",
              "  border: .5pt solid var(--sklearn-color-unfitted-level-3);\n",
              "}\n",
              "\n",
              ".sk-estimator-doc-link.fitted span {\n",
              "  /* fitted */\n",
              "  background: var(--sklearn-color-fitted-level-0);\n",
              "  border: var(--sklearn-color-fitted-level-3);\n",
              "}\n",
              "\n",
              ".sk-estimator-doc-link:hover span {\n",
              "  display: block;\n",
              "}\n",
              "\n",
              "/* \"?\"-specific style due to the `<a>` HTML tag */\n",
              "\n",
              "#sk-container-id-1 a.estimator_doc_link {\n",
              "  float: right;\n",
              "  font-size: 1rem;\n",
              "  line-height: 1em;\n",
              "  font-family: monospace;\n",
              "  background-color: var(--sklearn-color-background);\n",
              "  border-radius: 1rem;\n",
              "  height: 1rem;\n",
              "  width: 1rem;\n",
              "  text-decoration: none;\n",
              "  /* unfitted */\n",
              "  color: var(--sklearn-color-unfitted-level-1);\n",
              "  border: var(--sklearn-color-unfitted-level-1) 1pt solid;\n",
              "}\n",
              "\n",
              "#sk-container-id-1 a.estimator_doc_link.fitted {\n",
              "  /* fitted */\n",
              "  border: var(--sklearn-color-fitted-level-1) 1pt solid;\n",
              "  color: var(--sklearn-color-fitted-level-1);\n",
              "}\n",
              "\n",
              "/* On hover */\n",
              "#sk-container-id-1 a.estimator_doc_link:hover {\n",
              "  /* unfitted */\n",
              "  background-color: var(--sklearn-color-unfitted-level-3);\n",
              "  color: var(--sklearn-color-background);\n",
              "  text-decoration: none;\n",
              "}\n",
              "\n",
              "#sk-container-id-1 a.estimator_doc_link.fitted:hover {\n",
              "  /* fitted */\n",
              "  background-color: var(--sklearn-color-fitted-level-3);\n",
              "}\n",
              "</style><div id=\"sk-container-id-1\" class=\"sk-top-container\"><div class=\"sk-text-repr-fallback\"><pre>LogisticRegression()</pre><b>In a Jupyter environment, please rerun this cell to show the HTML representation or trust the notebook. <br />On GitHub, the HTML representation is unable to render, please try loading this page with nbviewer.org.</b></div><div class=\"sk-container\" hidden><div class=\"sk-item\"><div class=\"sk-estimator fitted sk-toggleable\"><input class=\"sk-toggleable__control sk-hidden--visually\" id=\"sk-estimator-id-1\" type=\"checkbox\" checked><label for=\"sk-estimator-id-1\" class=\"sk-toggleable__label fitted sk-toggleable__label-arrow fitted\">&nbsp;&nbsp;LogisticRegression<a class=\"sk-estimator-doc-link fitted\" rel=\"noreferrer\" target=\"_blank\" href=\"https://scikit-learn.org/1.5/modules/generated/sklearn.linear_model.LogisticRegression.html\">?<span>Documentation for LogisticRegression</span></a><span class=\"sk-estimator-doc-link fitted\">i<span>Fitted</span></span></label><div class=\"sk-toggleable__content fitted\"><pre>LogisticRegression()</pre></div> </div></div></div></div>"
            ]
          },
          "metadata": {},
          "execution_count": 16
        }
      ],
      "source": [
        "model.fit(X, y)"
      ]
    },
    {
      "cell_type": "code",
      "execution_count": 17,
      "metadata": {
        "colab": {
          "base_uri": "https://localhost:8080/"
        },
        "id": "lk966UsF9SLj",
        "outputId": "a4deaa17-0fac-4406-c170-1edead30c2c0"
      },
      "outputs": [
        {
          "output_type": "execute_result",
          "data": {
            "text/plain": [
              "array([[-0.8841315 , -1.38568117]])"
            ]
          },
          "metadata": {},
          "execution_count": 17
        }
      ],
      "source": [
        "model.coef_"
      ]
    },
    {
      "cell_type": "code",
      "execution_count": 18,
      "metadata": {
        "colab": {
          "base_uri": "https://localhost:8080/"
        },
        "id": "tInwNtdw9SLj",
        "outputId": "1ecc5f2f-bab2-471f-800f-0a590c276324"
      },
      "outputs": [
        {
          "output_type": "execute_result",
          "data": {
            "text/plain": [
              "array([5.78149723])"
            ]
          },
          "metadata": {},
          "execution_count": 18
        }
      ],
      "source": [
        "model.intercept_"
      ]
    },
    {
      "cell_type": "markdown",
      "metadata": {
        "id": "tyw6b4ZG9SLk"
      },
      "source": [
        "## Визуализируем разделяющую плоскость"
      ]
    },
    {
      "cell_type": "code",
      "execution_count": 19,
      "metadata": {
        "colab": {
          "base_uri": "https://localhost:8080/",
          "height": 818
        },
        "id": "zeQ1czKR9SLk",
        "outputId": "8c924b7b-9efe-44cd-dd77-8eb836fe61e1"
      },
      "outputs": [
        {
          "output_type": "display_data",
          "data": {
            "text/plain": [
              "<Figure size 2000x1000 with 1 Axes>"
            ],
            "image/png": "[encoded data removed]"
          },
          "metadata": {}
        }
      ],
      "source": [
        "w_1 = model.coef_[0][0]\n",
        "w_2 = model.coef_[0][1]\n",
        "w_0 = model.intercept_[0]\n",
        "\n",
        "plt.figure(figsize=(20, 10))\n",
        "plt.scatter(X[:, 0], X[:, 1], marker=\"o\", c=y, s=25, edgecolor=\"k\")\n",
        "plt.legend([\"y = -1\", \"y = 1\"])\n",
        "x_arr = np.linspace(-3, 18, 1000)\n",
        "\n",
        "y_arr = -(w_0 + w_1 * x_arr) / w_2\n",
        "plt.plot(x_arr, y_arr)\n",
        "plt.show()"
      ]
    },
    {
      "cell_type": "markdown",
      "metadata": {
        "id": "uqe74hxI9SLl"
      },
      "source": [
        "# Pytorch"
      ]
    },
    {
      "cell_type": "code",
      "execution_count": 20,
      "metadata": {
        "id": "zeYuViOh9SLl"
      },
      "outputs": [],
      "source": [
        "X, y = make_blobs(n_samples=200, centers=2, n_features=2, random_state=0, cluster_std=3)"
      ]
    },
    {
      "cell_type": "code",
      "execution_count": 21,
      "metadata": {
        "colab": {
          "base_uri": "https://localhost:8080/"
        },
        "id": "jrbIbcUf9SLl",
        "outputId": "2a67f629-8f5f-479e-c1a6-3d0291a56700"
      },
      "outputs": [
        {
          "output_type": "execute_result",
          "data": {
            "text/plain": [
              "(numpy.ndarray, numpy.ndarray)"
            ]
          },
          "metadata": {},
          "execution_count": 21
        }
      ],
      "source": [
        "type(X), type(y)"
      ]
    },
    {
      "cell_type": "code",
      "execution_count": 22,
      "metadata": {
        "id": "NkSB7ldb9SLm"
      },
      "outputs": [],
      "source": [
        "X = torch.tensor(X) #нужно конвертировать\n",
        "y = torch.tensor(y)"
      ]
    },
    {
      "cell_type": "code",
      "execution_count": 23,
      "metadata": {
        "colab": {
          "base_uri": "https://localhost:8080/"
        },
        "id": "R5pyIO1k9SLm",
        "outputId": "16519345-0cf4-4cab-ceac-52f2fd4d6e90"
      },
      "outputs": [
        {
          "output_type": "execute_result",
          "data": {
            "text/plain": [
              "(torch.Tensor, torch.Tensor)"
            ]
          },
          "metadata": {},
          "execution_count": 23
        }
      ],
      "source": [
        "type(X), type(y)"
      ]
    },
    {
      "cell_type": "code",
      "execution_count": 24,
      "metadata": {
        "colab": {
          "base_uri": "https://localhost:8080/"
        },
        "id": "JdoThC549SLm",
        "outputId": "17ee702d-4026-4ff7-d881-7fcee4bf627c"
      },
      "outputs": [
        {
          "output_type": "stream",
          "name": "stdout",
          "text": [
            "torch.Size([200, 2]) torch.Size([200])\n"
          ]
        }
      ],
      "source": [
        "print(X.shape, y.shape)"
      ]
    },
    {
      "cell_type": "code",
      "execution_count": 25,
      "metadata": {
        "colab": {
          "base_uri": "https://localhost:8080/"
        },
        "id": "T6dvOti89SLo",
        "outputId": "7d710890-8ac9-49c8-bd70-ee471eeafef9"
      },
      "outputs": [
        {
          "output_type": "execute_result",
          "data": {
            "text/plain": [
              "200"
            ]
          },
          "metadata": {},
          "execution_count": 25
        }
      ],
      "source": [
        "len(X)"
      ]
    },
    {
      "cell_type": "code",
      "execution_count": 26,
      "metadata": {
        "colab": {
          "base_uri": "https://localhost:8080/"
        },
        "id": "TSwk0ae39SLo",
        "outputId": "a6e771b8-eec6-4d16-e93d-a0746415f403"
      },
      "outputs": [
        {
          "output_type": "execute_result",
          "data": {
            "text/plain": [
              "200"
            ]
          },
          "metadata": {},
          "execution_count": 26
        }
      ],
      "source": [
        "len(y)"
      ]
    },
    {
      "cell_type": "markdown",
      "metadata": {
        "id": "0DW4OIky9SLo"
      },
      "source": [
        "# Напишем свою логистическую регрессию на пайторче"
      ]
    },
    {
      "cell_type": "code",
      "execution_count": 27,
      "metadata": {
        "id": "RcTuxVya9SLo"
      },
      "outputs": [],
      "source": [
        "X, y = make_blobs(\n",
        "    n_samples=200,\n",
        "    centers=((10, 5), (5, -5)),\n",
        "    n_features=2,\n",
        "    random_state=0,\n",
        "    cluster_std=3,\n",
        ")"
      ]
    },
    {
      "cell_type": "code",
      "execution_count": 28,
      "metadata": {
        "colab": {
          "base_uri": "https://localhost:8080/"
        },
        "id": "l9nsTljs9SLp",
        "outputId": "a81e31f6-dc7f-402f-f04d-cfed44fcadf6"
      },
      "outputs": [
        {
          "output_type": "execute_result",
          "data": {
            "text/plain": [
              "(numpy.ndarray, numpy.ndarray)"
            ]
          },
          "metadata": {},
          "execution_count": 28
        }
      ],
      "source": [
        "type(X), type(y)"
      ]
    },
    {
      "cell_type": "code",
      "execution_count": 29,
      "metadata": {
        "id": "dRCnYCIZ9SLp"
      },
      "outputs": [],
      "source": [
        "X = torch.tensor(X)\n",
        "y = torch.tensor(y)"
      ]
    },
    {
      "cell_type": "code",
      "execution_count": 30,
      "metadata": {
        "id": "XLWyyMy29SLp"
      },
      "outputs": [],
      "source": [
        "assert type(X) == torch.Tensor\n",
        "assert type(y) == torch.Tensor"
      ]
    },
    {
      "cell_type": "markdown",
      "source": [
        "Инициализируем веса"
      ],
      "metadata": {
        "id": "CWO2FlKHekTK"
      }
    },
    {
      "cell_type": "code",
      "execution_count": 31,
      "metadata": {
        "id": "d5sC_9z79SLp"
      },
      "outputs": [],
      "source": [
        "w = torch.zeros(2, requires_grad=True, dtype=torch.double)\n",
        "b = torch.zeros(1, requires_grad=True, dtype=torch.double)"
      ]
    },
    {
      "cell_type": "code",
      "execution_count": 32,
      "metadata": {
        "id": "NGup3ODwaSek",
        "outputId": "490665cc-bfd3-4dbd-ebcf-56454dc30561",
        "colab": {
          "base_uri": "https://localhost:8080/"
        }
      },
      "outputs": [
        {
          "output_type": "execute_result",
          "data": {
            "text/plain": [
              "tensor([0., 0.], dtype=torch.float64, requires_grad=True)"
            ]
          },
          "metadata": {},
          "execution_count": 32
        }
      ],
      "source": [
        "w"
      ]
    },
    {
      "cell_type": "code",
      "execution_count": 33,
      "metadata": {
        "id": "IAqSr-BFaSek",
        "outputId": "cee8754e-9bca-4441-caa4-632f5abcb529",
        "colab": {
          "base_uri": "https://localhost:8080/"
        }
      },
      "outputs": [
        {
          "output_type": "execute_result",
          "data": {
            "text/plain": [
              "tensor([0.], dtype=torch.float64, requires_grad=True)"
            ]
          },
          "metadata": {},
          "execution_count": 33
        }
      ],
      "source": [
        "b"
      ]
    },
    {
      "cell_type": "code",
      "execution_count": null,
      "metadata": {
        "id": "oXS_iaNV9SLq"
      },
      "outputs": [],
      "source": [
        "assert w.requires_grad\n",
        "assert len(w.shape) == 1\n",
        "assert w.shape[0] == X.shape[1]\n",
        "assert w.dtype == X.dtype\n",
        "assert b.requires_grad\n",
        "assert len(b.shape) == 1\n",
        "assert b.dtype == X.dtype"
      ]
    },
    {
      "cell_type": "markdown",
      "source": [
        "Функция рассчета loss для задачи классификации"
      ],
      "metadata": {
        "id": "McBc2ZsoexVa"
      }
    },
    {
      "cell_type": "code",
      "execution_count": 34,
      "metadata": {
        "id": "mHrha4x49SLq"
      },
      "outputs": [],
      "source": [
        "def binary_cross_entropy(y, y_predicted):\n",
        "    \"\"\"\n",
        "    y: binary tensor, shape: N, example: [0, 1, 0, 1, 1]\n",
        "    y_pred: tensor with values from 0 to 1. shape: N. example: [0.2, 0, 1, 0.75, 0.999]\n",
        "\n",
        "    output: tensor, shape: N\n",
        "\n",
        "    \"\"\"\n",
        "    return -(y * (torch.log(y_predicted)) + (1 - y) * torch.log(1 - y_predicted))"
      ]
    },
    {
      "cell_type": "code",
      "execution_count": 35,
      "metadata": {
        "id": "Bc7UtPD-9SLq"
      },
      "outputs": [],
      "source": [
        "y_test = torch.tensor([1, 0, 1, 1])\n",
        "y_pred = torch.tensor([0.7, 0.3, 0.5, 0.9])\n",
        "bce_correct = torch.tensor([0.3567, 0.3567, 0.6931, 0.1054])\n",
        "bce_predicted = binary_cross_entropy(y_test, y_pred)\n",
        "assert bce_predicted.shape == y_test.shape\n",
        "assert torch.allclose(bce_predicted, bce_correct, rtol=1e-03)"
      ]
    },
    {
      "cell_type": "markdown",
      "source": [
        "Реализация логистической регрессии"
      ],
      "metadata": {
        "id": "vJgqiIXJfA4E"
      }
    },
    {
      "cell_type": "code",
      "execution_count": 36,
      "metadata": {
        "colab": {
          "base_uri": "https://localhost:8080/",
          "height": 784
        },
        "id": "27EK6JmN9SLq",
        "outputId": "c01da07b-2854-4c5b-8f81-d9bb578cbeb3"
      },
      "outputs": [
        {
          "output_type": "error",
          "ename": "KeyboardInterrupt",
          "evalue": "",
          "traceback": [
            "\u001b[0;31m---------------------------------------------------------------------------\u001b[0m",
            "\u001b[0;31mKeyboardInterrupt\u001b[0m                         Traceback (most recent call last)",
            "\u001b[0;32m<ipython-input-36-c783a37806c9>\u001b[0m in \u001b[0;36m<cell line: 6>\u001b[0;34m()\u001b[0m\n\u001b[1;32m     30\u001b[0m \u001b[0;34m\u001b[0m\u001b[0m\n\u001b[1;32m     31\u001b[0m         \u001b[0mx_arr\u001b[0m \u001b[0;34m=\u001b[0m \u001b[0mtorch\u001b[0m\u001b[0;34m.\u001b[0m\u001b[0mlinspace\u001b[0m\u001b[0;34m(\u001b[0m\u001b[0;34m-\u001b[0m\u001b[0;36m10\u001b[0m\u001b[0;34m,\u001b[0m \u001b[0;36m20\u001b[0m\u001b[0;34m,\u001b[0m \u001b[0;36m1000\u001b[0m\u001b[0;34m)\u001b[0m\u001b[0;34m\u001b[0m\u001b[0;34m\u001b[0m\u001b[0m\n\u001b[0;32m---> 32\u001b[0;31m         \u001b[0mplt\u001b[0m\u001b[0;34m.\u001b[0m\u001b[0mplot\u001b[0m\u001b[0;34m(\u001b[0m\u001b[0mx_arr\u001b[0m\u001b[0;34m,\u001b[0m \u001b[0;34m-\u001b[0m\u001b[0;34m(\u001b[0m\u001b[0mw_0\u001b[0m \u001b[0;34m+\u001b[0m \u001b[0mw_1\u001b[0m \u001b[0;34m*\u001b[0m \u001b[0mx_arr\u001b[0m\u001b[0;34m)\u001b[0m \u001b[0;34m/\u001b[0m \u001b[0mw_2\u001b[0m\u001b[0;34m)\u001b[0m\u001b[0;34m\u001b[0m\u001b[0;34m\u001b[0m\u001b[0m\n\u001b[0m\u001b[1;32m     33\u001b[0m         \u001b[0mplt\u001b[0m\u001b[0;34m.\u001b[0m\u001b[0mshow\u001b[0m\u001b[0;34m(\u001b[0m\u001b[0;34m)\u001b[0m\u001b[0;34m\u001b[0m\u001b[0;34m\u001b[0m\u001b[0m\n\u001b[1;32m     34\u001b[0m \u001b[0;34m\u001b[0m\u001b[0m\n",
            "\u001b[0;32m/usr/local/lib/python3.10/dist-packages/matplotlib/pyplot.py\u001b[0m in \u001b[0;36mplot\u001b[0;34m(scalex, scaley, data, *args, **kwargs)\u001b[0m\n\u001b[1;32m   3576\u001b[0m     \u001b[0;34m**\u001b[0m\u001b[0mkwargs\u001b[0m\u001b[0;34m,\u001b[0m\u001b[0;34m\u001b[0m\u001b[0;34m\u001b[0m\u001b[0m\n\u001b[1;32m   3577\u001b[0m ) -> list[Line2D]:\n\u001b[0;32m-> 3578\u001b[0;31m     return gca().plot(\n\u001b[0m\u001b[1;32m   3579\u001b[0m         \u001b[0;34m*\u001b[0m\u001b[0margs\u001b[0m\u001b[0;34m,\u001b[0m\u001b[0;34m\u001b[0m\u001b[0;34m\u001b[0m\u001b[0m\n\u001b[1;32m   3580\u001b[0m         \u001b[0mscalex\u001b[0m\u001b[0;34m=\u001b[0m\u001b[0mscalex\u001b[0m\u001b[0;34m,\u001b[0m\u001b[0;34m\u001b[0m\u001b[0;34m\u001b[0m\u001b[0m\n",
            "\u001b[0;32m/usr/local/lib/python3.10/dist-packages/matplotlib/axes/_axes.py\u001b[0m in \u001b[0;36mplot\u001b[0;34m(self, scalex, scaley, data, *args, **kwargs)\u001b[0m\n\u001b[1;32m   1719\u001b[0m         \"\"\"\n\u001b[1;32m   1720\u001b[0m         \u001b[0mkwargs\u001b[0m \u001b[0;34m=\u001b[0m \u001b[0mcbook\u001b[0m\u001b[0;34m.\u001b[0m\u001b[0mnormalize_kwargs\u001b[0m\u001b[0;34m(\u001b[0m\u001b[0mkwargs\u001b[0m\u001b[0;34m,\u001b[0m \u001b[0mmlines\u001b[0m\u001b[0;34m.\u001b[0m\u001b[0mLine2D\u001b[0m\u001b[0;34m)\u001b[0m\u001b[0;34m\u001b[0m\u001b[0;34m\u001b[0m\u001b[0m\n\u001b[0;32m-> 1721\u001b[0;31m         \u001b[0mlines\u001b[0m \u001b[0;34m=\u001b[0m \u001b[0;34m[\u001b[0m\u001b[0;34m*\u001b[0m\u001b[0mself\u001b[0m\u001b[0;34m.\u001b[0m\u001b[0m_get_lines\u001b[0m\u001b[0;34m(\u001b[0m\u001b[0mself\u001b[0m\u001b[0;34m,\u001b[0m \u001b[0;34m*\u001b[0m\u001b[0margs\u001b[0m\u001b[0;34m,\u001b[0m \u001b[0mdata\u001b[0m\u001b[0;34m=\u001b[0m\u001b[0mdata\u001b[0m\u001b[0;34m,\u001b[0m \u001b[0;34m**\u001b[0m\u001b[0mkwargs\u001b[0m\u001b[0;34m)\u001b[0m\u001b[0;34m]\u001b[0m\u001b[0;34m\u001b[0m\u001b[0;34m\u001b[0m\u001b[0m\n\u001b[0m\u001b[1;32m   1722\u001b[0m         \u001b[0;32mfor\u001b[0m \u001b[0mline\u001b[0m \u001b[0;32min\u001b[0m \u001b[0mlines\u001b[0m\u001b[0;34m:\u001b[0m\u001b[0;34m\u001b[0m\u001b[0;34m\u001b[0m\u001b[0m\n\u001b[1;32m   1723\u001b[0m             \u001b[0mself\u001b[0m\u001b[0;34m.\u001b[0m\u001b[0madd_line\u001b[0m\u001b[0;34m(\u001b[0m\u001b[0mline\u001b[0m\u001b[0;34m)\u001b[0m\u001b[0;34m\u001b[0m\u001b[0;34m\u001b[0m\u001b[0m\n",
            "\u001b[0;32m/usr/local/lib/python3.10/dist-packages/matplotlib/axes/_base.py\u001b[0m in \u001b[0;36m__call__\u001b[0;34m(self, axes, data, *args, **kwargs)\u001b[0m\n\u001b[1;32m    301\u001b[0m                 \u001b[0mthis\u001b[0m \u001b[0;34m+=\u001b[0m \u001b[0margs\u001b[0m\u001b[0;34m[\u001b[0m\u001b[0;36m0\u001b[0m\u001b[0;34m]\u001b[0m\u001b[0;34m,\u001b[0m\u001b[0;34m\u001b[0m\u001b[0;34m\u001b[0m\u001b[0m\n\u001b[1;32m    302\u001b[0m                 \u001b[0margs\u001b[0m \u001b[0;34m=\u001b[0m \u001b[0margs\u001b[0m\u001b[0;34m[\u001b[0m\u001b[0;36m1\u001b[0m\u001b[0;34m:\u001b[0m\u001b[0;34m]\u001b[0m\u001b[0;34m\u001b[0m\u001b[0;34m\u001b[0m\u001b[0m\n\u001b[0;32m--> 303\u001b[0;31m             yield from self._plot_args(\n\u001b[0m\u001b[1;32m    304\u001b[0m                 axes, this, kwargs, ambiguous_fmt_datakey=ambiguous_fmt_datakey)\n\u001b[1;32m    305\u001b[0m \u001b[0;34m\u001b[0m\u001b[0m\n",
            "\u001b[0;32m/usr/local/lib/python3.10/dist-packages/matplotlib/axes/_base.py\u001b[0m in \u001b[0;36m_plot_args\u001b[0;34m(self, axes, tup, kwargs, return_kwargs, ambiguous_fmt_datakey)\u001b[0m\n\u001b[1;32m    537\u001b[0m             \u001b[0;32mreturn\u001b[0m \u001b[0mlist\u001b[0m\u001b[0;34m(\u001b[0m\u001b[0mresult\u001b[0m\u001b[0;34m)\u001b[0m\u001b[0;34m\u001b[0m\u001b[0;34m\u001b[0m\u001b[0m\n\u001b[1;32m    538\u001b[0m         \u001b[0;32melse\u001b[0m\u001b[0;34m:\u001b[0m\u001b[0;34m\u001b[0m\u001b[0;34m\u001b[0m\u001b[0m\n\u001b[0;32m--> 539\u001b[0;31m             \u001b[0;32mreturn\u001b[0m \u001b[0;34m[\u001b[0m\u001b[0ml\u001b[0m\u001b[0;34m[\u001b[0m\u001b[0;36m0\u001b[0m\u001b[0;34m]\u001b[0m \u001b[0;32mfor\u001b[0m \u001b[0ml\u001b[0m \u001b[0;32min\u001b[0m \u001b[0mresult\u001b[0m\u001b[0;34m]\u001b[0m\u001b[0;34m\u001b[0m\u001b[0;34m\u001b[0m\u001b[0m\n\u001b[0m\u001b[1;32m    540\u001b[0m \u001b[0;34m\u001b[0m\u001b[0m\n\u001b[1;32m    541\u001b[0m \u001b[0;34m\u001b[0m\u001b[0m\n",
            "\u001b[0;32m/usr/local/lib/python3.10/dist-packages/matplotlib/axes/_base.py\u001b[0m in \u001b[0;36m<listcomp>\u001b[0;34m(.0)\u001b[0m\n\u001b[1;32m    537\u001b[0m             \u001b[0;32mreturn\u001b[0m \u001b[0mlist\u001b[0m\u001b[0;34m(\u001b[0m\u001b[0mresult\u001b[0m\u001b[0;34m)\u001b[0m\u001b[0;34m\u001b[0m\u001b[0;34m\u001b[0m\u001b[0m\n\u001b[1;32m    538\u001b[0m         \u001b[0;32melse\u001b[0m\u001b[0;34m:\u001b[0m\u001b[0;34m\u001b[0m\u001b[0;34m\u001b[0m\u001b[0m\n\u001b[0;32m--> 539\u001b[0;31m             \u001b[0;32mreturn\u001b[0m \u001b[0;34m[\u001b[0m\u001b[0ml\u001b[0m\u001b[0;34m[\u001b[0m\u001b[0;36m0\u001b[0m\u001b[0;34m]\u001b[0m \u001b[0;32mfor\u001b[0m \u001b[0ml\u001b[0m \u001b[0;32min\u001b[0m \u001b[0mresult\u001b[0m\u001b[0;34m]\u001b[0m\u001b[0;34m\u001b[0m\u001b[0;34m\u001b[0m\u001b[0m\n\u001b[0m\u001b[1;32m    540\u001b[0m \u001b[0;34m\u001b[0m\u001b[0m\n\u001b[1;32m    541\u001b[0m \u001b[0;34m\u001b[0m\u001b[0m\n",
            "\u001b[0;32m/usr/local/lib/python3.10/dist-packages/matplotlib/axes/_base.py\u001b[0m in \u001b[0;36m<genexpr>\u001b[0;34m(.0)\u001b[0m\n\u001b[1;32m    530\u001b[0m             \u001b[0mlabels\u001b[0m \u001b[0;34m=\u001b[0m \u001b[0;34m[\u001b[0m\u001b[0mlabel\u001b[0m\u001b[0;34m]\u001b[0m \u001b[0;34m*\u001b[0m \u001b[0mn_datasets\u001b[0m\u001b[0;34m\u001b[0m\u001b[0;34m\u001b[0m\u001b[0m\n\u001b[1;32m    531\u001b[0m \u001b[0;34m\u001b[0m\u001b[0m\n\u001b[0;32m--> 532\u001b[0;31m         result = (make_artist(axes, x[:, j % ncx], y[:, j % ncy], kw,\n\u001b[0m\u001b[1;32m    533\u001b[0m                               {**kwargs, 'label': label})\n\u001b[1;32m    534\u001b[0m                   for j, label in enumerate(labels))\n",
            "\u001b[0;32m/usr/local/lib/python3.10/dist-packages/matplotlib/axes/_base.py\u001b[0m in \u001b[0;36m_makeline\u001b[0;34m(self, axes, x, y, kw, kwargs)\u001b[0m\n\u001b[1;32m    344\u001b[0m         \u001b[0mdefault_dict\u001b[0m \u001b[0;34m=\u001b[0m \u001b[0mself\u001b[0m\u001b[0;34m.\u001b[0m\u001b[0m_getdefaults\u001b[0m\u001b[0;34m(\u001b[0m\u001b[0mset\u001b[0m\u001b[0;34m(\u001b[0m\u001b[0;34m)\u001b[0m\u001b[0;34m,\u001b[0m \u001b[0mkw\u001b[0m\u001b[0;34m)\u001b[0m\u001b[0;34m\u001b[0m\u001b[0;34m\u001b[0m\u001b[0m\n\u001b[1;32m    345\u001b[0m         \u001b[0mself\u001b[0m\u001b[0;34m.\u001b[0m\u001b[0m_setdefaults\u001b[0m\u001b[0;34m(\u001b[0m\u001b[0mdefault_dict\u001b[0m\u001b[0;34m,\u001b[0m \u001b[0mkw\u001b[0m\u001b[0;34m)\u001b[0m\u001b[0;34m\u001b[0m\u001b[0;34m\u001b[0m\u001b[0m\n\u001b[0;32m--> 346\u001b[0;31m         \u001b[0mseg\u001b[0m \u001b[0;34m=\u001b[0m \u001b[0mmlines\u001b[0m\u001b[0;34m.\u001b[0m\u001b[0mLine2D\u001b[0m\u001b[0;34m(\u001b[0m\u001b[0mx\u001b[0m\u001b[0;34m,\u001b[0m \u001b[0my\u001b[0m\u001b[0;34m,\u001b[0m \u001b[0;34m**\u001b[0m\u001b[0mkw\u001b[0m\u001b[0;34m)\u001b[0m\u001b[0;34m\u001b[0m\u001b[0;34m\u001b[0m\u001b[0m\n\u001b[0m\u001b[1;32m    347\u001b[0m         \u001b[0;32mreturn\u001b[0m \u001b[0mseg\u001b[0m\u001b[0;34m,\u001b[0m \u001b[0mkw\u001b[0m\u001b[0;34m\u001b[0m\u001b[0;34m\u001b[0m\u001b[0m\n\u001b[1;32m    348\u001b[0m \u001b[0;34m\u001b[0m\u001b[0m\n",
            "\u001b[0;32m/usr/local/lib/python3.10/dist-packages/matplotlib/lines.py\u001b[0m in \u001b[0;36m__init__\u001b[0;34m(self, xdata, ydata, linewidth, linestyle, color, gapcolor, marker, markersize, markeredgewidth, markeredgecolor, markerfacecolor, markerfacecoloralt, fillstyle, antialiased, dash_capstyle, solid_capstyle, dash_joinstyle, solid_joinstyle, pickradius, drawstyle, markevery, **kwargs)\u001b[0m\n\u001b[1;32m    424\u001b[0m         \u001b[0mself\u001b[0m\u001b[0;34m.\u001b[0m\u001b[0m_x_filled\u001b[0m \u001b[0;34m=\u001b[0m \u001b[0;32mNone\u001b[0m  \u001b[0;31m# used in subslicing; only x is needed\u001b[0m\u001b[0;34m\u001b[0m\u001b[0;34m\u001b[0m\u001b[0m\n\u001b[1;32m    425\u001b[0m \u001b[0;34m\u001b[0m\u001b[0m\n\u001b[0;32m--> 426\u001b[0;31m         \u001b[0mself\u001b[0m\u001b[0;34m.\u001b[0m\u001b[0mset_data\u001b[0m\u001b[0;34m(\u001b[0m\u001b[0mxdata\u001b[0m\u001b[0;34m,\u001b[0m \u001b[0mydata\u001b[0m\u001b[0;34m)\u001b[0m\u001b[0;34m\u001b[0m\u001b[0;34m\u001b[0m\u001b[0m\n\u001b[0m\u001b[1;32m    427\u001b[0m \u001b[0;34m\u001b[0m\u001b[0m\n\u001b[1;32m    428\u001b[0m     \u001b[0;32mdef\u001b[0m \u001b[0mcontains\u001b[0m\u001b[0;34m(\u001b[0m\u001b[0mself\u001b[0m\u001b[0;34m,\u001b[0m \u001b[0mmouseevent\u001b[0m\u001b[0;34m)\u001b[0m\u001b[0;34m:\u001b[0m\u001b[0;34m\u001b[0m\u001b[0;34m\u001b[0m\u001b[0m\n",
            "\u001b[0;32m/usr/local/lib/python3.10/dist-packages/matplotlib/lines.py\u001b[0m in \u001b[0;36mset_data\u001b[0;34m(self, *args)\u001b[0m\n\u001b[1;32m    659\u001b[0m \u001b[0;34m\u001b[0m\u001b[0m\n\u001b[1;32m    660\u001b[0m         \u001b[0mself\u001b[0m\u001b[0;34m.\u001b[0m\u001b[0mset_xdata\u001b[0m\u001b[0;34m(\u001b[0m\u001b[0mx\u001b[0m\u001b[0;34m)\u001b[0m\u001b[0;34m\u001b[0m\u001b[0;34m\u001b[0m\u001b[0m\n\u001b[0;32m--> 661\u001b[0;31m         \u001b[0mself\u001b[0m\u001b[0;34m.\u001b[0m\u001b[0mset_ydata\u001b[0m\u001b[0;34m(\u001b[0m\u001b[0my\u001b[0m\u001b[0;34m)\u001b[0m\u001b[0;34m\u001b[0m\u001b[0;34m\u001b[0m\u001b[0m\n\u001b[0m\u001b[1;32m    662\u001b[0m \u001b[0;34m\u001b[0m\u001b[0m\n\u001b[1;32m    663\u001b[0m     \u001b[0;32mdef\u001b[0m \u001b[0mrecache_always\u001b[0m\u001b[0;34m(\u001b[0m\u001b[0mself\u001b[0m\u001b[0;34m)\u001b[0m\u001b[0;34m:\u001b[0m\u001b[0;34m\u001b[0m\u001b[0;34m\u001b[0m\u001b[0m\n",
            "\u001b[0;32m/usr/local/lib/python3.10/dist-packages/matplotlib/lines.py\u001b[0m in \u001b[0;36mset_ydata\u001b[0;34m(self, y)\u001b[0m\n\u001b[1;32m   1297\u001b[0m         \u001b[0my\u001b[0m \u001b[0;34m:\u001b[0m \u001b[0;36m1\u001b[0m\u001b[0mD\u001b[0m \u001b[0marray\u001b[0m\u001b[0;34m\u001b[0m\u001b[0;34m\u001b[0m\u001b[0m\n\u001b[1;32m   1298\u001b[0m         \"\"\"\n\u001b[0;32m-> 1299\u001b[0;31m         \u001b[0;32mif\u001b[0m \u001b[0;32mnot\u001b[0m \u001b[0mnp\u001b[0m\u001b[0;34m.\u001b[0m\u001b[0miterable\u001b[0m\u001b[0;34m(\u001b[0m\u001b[0my\u001b[0m\u001b[0;34m)\u001b[0m\u001b[0;34m:\u001b[0m\u001b[0;34m\u001b[0m\u001b[0;34m\u001b[0m\u001b[0m\n\u001b[0m\u001b[1;32m   1300\u001b[0m             \u001b[0;31m# When deprecation cycle is completed\u001b[0m\u001b[0;34m\u001b[0m\u001b[0;34m\u001b[0m\u001b[0m\n\u001b[1;32m   1301\u001b[0m             \u001b[0;31m# raise RuntimeError('y must be a sequence')\u001b[0m\u001b[0;34m\u001b[0m\u001b[0;34m\u001b[0m\u001b[0m\n",
            "\u001b[0;32m/usr/local/lib/python3.10/dist-packages/numpy/lib/function_base.py\u001b[0m in \u001b[0;36miterable\u001b[0;34m(y)\u001b[0m\n\u001b[1;32m    385\u001b[0m     \"\"\"\n\u001b[1;32m    386\u001b[0m     \u001b[0;32mtry\u001b[0m\u001b[0;34m:\u001b[0m\u001b[0;34m\u001b[0m\u001b[0;34m\u001b[0m\u001b[0m\n\u001b[0;32m--> 387\u001b[0;31m         \u001b[0miter\u001b[0m\u001b[0;34m(\u001b[0m\u001b[0my\u001b[0m\u001b[0;34m)\u001b[0m\u001b[0;34m\u001b[0m\u001b[0;34m\u001b[0m\u001b[0m\n\u001b[0m\u001b[1;32m    388\u001b[0m     \u001b[0;32mexcept\u001b[0m \u001b[0mTypeError\u001b[0m\u001b[0;34m:\u001b[0m\u001b[0;34m\u001b[0m\u001b[0;34m\u001b[0m\u001b[0m\n\u001b[1;32m    389\u001b[0m         \u001b[0;32mreturn\u001b[0m \u001b[0;32mFalse\u001b[0m\u001b[0;34m\u001b[0m\u001b[0;34m\u001b[0m\u001b[0m\n",
            "\u001b[0;32m/usr/local/lib/python3.10/dist-packages/torch/_tensor.py\u001b[0m in \u001b[0;36m__iter__\u001b[0;34m(self)\u001b[0m\n\u001b[1;32m   1117\u001b[0m                 \u001b[0mstacklevel\u001b[0m\u001b[0;34m=\u001b[0m\u001b[0;36m2\u001b[0m\u001b[0;34m,\u001b[0m\u001b[0;34m\u001b[0m\u001b[0;34m\u001b[0m\u001b[0m\n\u001b[1;32m   1118\u001b[0m             )\n\u001b[0;32m-> 1119\u001b[0;31m         \u001b[0;32mreturn\u001b[0m \u001b[0miter\u001b[0m\u001b[0;34m(\u001b[0m\u001b[0mself\u001b[0m\u001b[0;34m.\u001b[0m\u001b[0munbind\u001b[0m\u001b[0;34m(\u001b[0m\u001b[0;36m0\u001b[0m\u001b[0;34m)\u001b[0m\u001b[0;34m)\u001b[0m\u001b[0;34m\u001b[0m\u001b[0;34m\u001b[0m\u001b[0m\n\u001b[0m\u001b[1;32m   1120\u001b[0m \u001b[0;34m\u001b[0m\u001b[0m\n\u001b[1;32m   1121\u001b[0m     \u001b[0;32mdef\u001b[0m \u001b[0m__hash__\u001b[0m\u001b[0;34m(\u001b[0m\u001b[0mself\u001b[0m\u001b[0;34m)\u001b[0m\u001b[0;34m:\u001b[0m\u001b[0;34m\u001b[0m\u001b[0;34m\u001b[0m\u001b[0m\n",
            "\u001b[0;31mKeyboardInterrupt\u001b[0m: "
          ]
        },
        {
          "output_type": "display_data",
          "data": {
            "text/plain": [
              "<Figure size 640x480 with 1 Axes>"
            ],
            "image/png": "[encoded data removed]"
          },
          "metadata": {}
        }
      ],
      "source": [
        "from IPython.display import clear_output\n",
        "\n",
        "learning_rate = 0.00001\n",
        "n_epoch = 1000\n",
        "\n",
        "for i in range(n_epoch):\n",
        "    y_pred = torch.matmul(X, w) + b #получаем предсказание - умножаем X на матрицу весов\n",
        "    y_pred = torch.sigmoid(y_pred) #засовываем предсказание в рамки от 0 до 1\n",
        "    loss = binary_cross_entropy(y, y_pred)\n",
        "    loss = torch.sum(loss)\n",
        "\n",
        "    loss.backward()\n",
        "\n",
        "    w.data -= learning_rate * w.grad.data #обновляем веса - из старого значения весов вычитваем константу на лернинг рейт\n",
        "    b.data -= learning_rate * b.grad.data\n",
        "\n",
        "    # zero gradients\n",
        "    w.grad.data.zero_()\n",
        "    b.grad.data.zero_()\n",
        "\n",
        "    #код для визуализации\n",
        "    if (i + 1) % 5 == 0:\n",
        "        # if True:\n",
        "        clear_output(True)\n",
        "        plt.scatter(X[:, 0], X[:, 1], marker=\"o\", c=y, s=25, edgecolor=\"k\")\n",
        "\n",
        "        w_1 = w.data[0]\n",
        "        w_2 = w.data[1]\n",
        "        w_0 = b.data[0]\n",
        "\n",
        "        x_arr = torch.linspace(-10, 20, 1000)\n",
        "        plt.plot(x_arr, -(w_0 + w_1 * x_arr) / w_2)\n",
        "        plt.show()\n",
        "\n",
        "        print(\"Iteration: {}, Loss: {}\".format(i, loss))"
      ]
    },
    {
      "cell_type": "markdown",
      "metadata": {
        "id": "dOACWrA69SLr"
      },
      "source": [
        "# Теперь все за нас делает пайторч"
      ]
    },
    {
      "cell_type": "markdown",
      "metadata": {
        "id": "4iOfBHkhaSel"
      },
      "source": [
        "# Немного про оптимизаторы"
      ]
    },
    {
      "cell_type": "markdown",
      "source": [
        "Сущность, которая на вход принимает параметры модели и меняет эти веса\n",
        "\n",
        "Работает на градиентном спуске\n",
        "\n",
        "Чтоб не было ошибки на минимумах и максимумах добавить составляющую импульса (какая-то инерция нашей точки)\n",
        "\n",
        "Самый лучший - ada"
      ],
      "metadata": {
        "id": "TTIOQpeehL9B"
      }
    },
    {
      "cell_type": "markdown",
      "metadata": {
        "id": "dSrdkX63aSel"
      },
      "source": [
        "![](https://mpopov.com/images/adam-animated.gif)"
      ]
    },
    {
      "cell_type": "markdown",
      "metadata": {
        "id": "uBB2z1UXaSel"
      },
      "source": [
        "![](https://ml-cheatsheet.readthedocs.io/en/latest/_images/optimizers.gif)"
      ]
    },
    {
      "cell_type": "markdown",
      "metadata": {
        "id": "cg7O6bs2aSel"
      },
      "source": [
        "![](https://images.viblo.asia/993c2fcc-ece4-41d8-bca7-5442e9ce3836.gif)"
      ]
    },
    {
      "cell_type": "markdown",
      "metadata": {
        "id": "BcPK0X9A9SLs"
      },
      "source": [
        "# Инициализируем модель"
      ]
    },
    {
      "cell_type": "code",
      "execution_count": 1,
      "metadata": {
        "colab": {
          "base_uri": "https://localhost:8080/",
          "height": 219
        },
        "id": "isKKf6Ph9SLs",
        "outputId": "ab3b8a51-65c7-47df-a6e9-b60820aeec8f"
      },
      "outputs": [
        {
          "output_type": "error",
          "ename": "NameError",
          "evalue": "name 'torch' is not defined",
          "traceback": [
            "\u001b[0;31m---------------------------------------------------------------------------\u001b[0m",
            "\u001b[0;31mNameError\u001b[0m                                 Traceback (most recent call last)",
            "\u001b[0;32m<ipython-input-1-b70dc6ff3046>\u001b[0m in \u001b[0;36m<cell line: 1>\u001b[0;34m()\u001b[0m\n\u001b[0;32m----> 1\u001b[0;31m \u001b[0mmodel\u001b[0m \u001b[0;34m=\u001b[0m \u001b[0mtorch\u001b[0m\u001b[0;34m.\u001b[0m\u001b[0mnn\u001b[0m\u001b[0;34m.\u001b[0m\u001b[0mLinear\u001b[0m\u001b[0;34m(\u001b[0m\u001b[0;36m2\u001b[0m\u001b[0;34m,\u001b[0m \u001b[0;36m1\u001b[0m\u001b[0;34m)\u001b[0m \u001b[0;31m#линейный слой, два входа, один выход\u001b[0m\u001b[0;34m\u001b[0m\u001b[0;34m\u001b[0m\u001b[0m\n\u001b[0m\u001b[1;32m      2\u001b[0m \u001b[0mcriterion\u001b[0m \u001b[0;34m=\u001b[0m \u001b[0mtorch\u001b[0m\u001b[0;34m.\u001b[0m\u001b[0mnn\u001b[0m\u001b[0;34m.\u001b[0m\u001b[0mBCELoss\u001b[0m\u001b[0;34m(\u001b[0m\u001b[0;34m)\u001b[0m \u001b[0;31m#нужный лосс\u001b[0m\u001b[0;34m\u001b[0m\u001b[0;34m\u001b[0m\u001b[0m\n\u001b[1;32m      3\u001b[0m \u001b[0;34m\u001b[0m\u001b[0m\n\u001b[1;32m      4\u001b[0m \u001b[0moptim\u001b[0m \u001b[0;34m=\u001b[0m \u001b[0mtorch\u001b[0m\u001b[0;34m.\u001b[0m\u001b[0moptim\u001b[0m\u001b[0;34m.\u001b[0m\u001b[0mSGD\u001b[0m\u001b[0;34m(\u001b[0m\u001b[0mmodel\u001b[0m\u001b[0;34m.\u001b[0m\u001b[0mparameters\u001b[0m\u001b[0;34m(\u001b[0m\u001b[0;34m)\u001b[0m\u001b[0;34m,\u001b[0m \u001b[0mlr\u001b[0m\u001b[0;34m=\u001b[0m\u001b[0;36m0.1\u001b[0m\u001b[0;34m)\u001b[0m \u001b[0;31m#оптимайзер\u001b[0m\u001b[0;34m\u001b[0m\u001b[0;34m\u001b[0m\u001b[0m\n\u001b[1;32m      5\u001b[0m \u001b[0;34m\u001b[0m\u001b[0m\n",
            "\u001b[0;31mNameError\u001b[0m: name 'torch' is not defined"
          ]
        }
      ],
      "source": [
        "model = torch.nn.Linear(2, 1) #линейный слой, два входа, один выход\n",
        "criterion = torch.nn.BCELoss() #нужный лосс\n",
        "\n",
        "optim = torch.optim.SGD(model.parameters(), lr=0.1) #оптимайзер\n",
        "\n",
        "model.train() #переводим в режим трейн чтобы не считались градиенты\n",
        "#не трейн - eval"
      ]
    },
    {
      "cell_type": "code",
      "execution_count": null,
      "metadata": {
        "id": "G8ZZVN6p9SLs"
      },
      "outputs": [],
      "source": [
        "model"
      ]
    },
    {
      "cell_type": "code",
      "execution_count": null,
      "metadata": {
        "id": "0EJf9Aa89SLs"
      },
      "outputs": [],
      "source": [
        "model.weight"
      ]
    },
    {
      "cell_type": "code",
      "execution_count": null,
      "metadata": {
        "id": "kZfdsGbH9SLt"
      },
      "outputs": [],
      "source": [
        "model.bias"
      ]
    },
    {
      "cell_type": "code",
      "execution_count": null,
      "metadata": {
        "id": "-8fF8Cu89SLt"
      },
      "outputs": [],
      "source": [
        "model.weight.data.dtype"
      ]
    },
    {
      "cell_type": "code",
      "execution_count": null,
      "metadata": {
        "id": "l0giOSki9SLt"
      },
      "outputs": [],
      "source": [
        "from IPython.display import clear_output\n",
        "\n",
        "\n",
        "for i in range(1000):\n",
        "    # считаем предсказание\n",
        "    y_pred = torch.sigmoid(model(X.float()))\n",
        "\n",
        "    # считаем лосс\n",
        "    loss = criterion(y_pred.flatten(), y.float())\n",
        "\n",
        "    # прокидываем градиенты\n",
        "    loss.backward()\n",
        "\n",
        "    # делаем шаг оптимизатором\n",
        "    optim.step()\n",
        "\n",
        "    # зануляем градиенты\n",
        "    optim.zero_grad()\n",
        "\n",
        "    if (i + 1) % 5 == 0:\n",
        "        clear_output(True)\n",
        "        plt.scatter(X[:, 0], X[:, 1], marker=\"o\", c=y, s=25, edgecolor=\"k\")\n",
        "\n",
        "        w_1 = model.weight.data[0][0]\n",
        "        w_2 = model.weight.data[0][1]\n",
        "        w_0 = model.bias.data[0]\n",
        "\n",
        "        x_arr = torch.linspace(-10, 20, 1000)\n",
        "        plt.plot(x_arr, -(w_0 + w_1 * x_arr) / w_2)\n",
        "        plt.show()\n",
        "\n",
        "        print(\"Iteration: {}, Loss: {}\".format(i, loss))"
      ]
    },
    {
      "cell_type": "markdown",
      "metadata": {
        "id": "PvOBE30i9SLu"
      },
      "source": [
        "# Пусть теперь проблема нелинейная"
      ]
    },
    {
      "cell_type": "code",
      "execution_count": null,
      "metadata": {
        "id": "xNdKWnab9SLu"
      },
      "outputs": [],
      "source": [
        "from sklearn.datasets import make_moons"
      ]
    },
    {
      "cell_type": "code",
      "execution_count": null,
      "metadata": {
        "id": "ZMiLvnHe9SLu"
      },
      "outputs": [],
      "source": [
        "X, y = make_moons(n_samples=200, noise=0.1, random_state=17)"
      ]
    },
    {
      "cell_type": "code",
      "execution_count": null,
      "metadata": {
        "id": "iKV3vT9q9SLu"
      },
      "outputs": [],
      "source": [
        "plt.scatter(X[:, 0], X[:, 1], marker=\"o\", c=y, s=25, edgecolor=\"k\")\n",
        "\n",
        "X = torch.tensor(X)\n",
        "y = torch.tensor(y)"
      ]
    },
    {
      "cell_type": "code",
      "execution_count": null,
      "metadata": {
        "id": "A-suQlRt9SLu"
      },
      "outputs": [],
      "source": [
        "model = torch.nn.Linear(2, 1)\n",
        "criterion = torch.nn.BCELoss()\n",
        "\n",
        "optim = torch.optim.SGD(model.parameters(), lr=0.01, momentum=0.9)\n",
        "\n",
        "model.train()"
      ]
    },
    {
      "cell_type": "code",
      "execution_count": null,
      "metadata": {
        "id": "gF_WdOl29SLv"
      },
      "outputs": [],
      "source": [
        "from IPython.display import clear_output\n",
        "\n",
        "\n",
        "for i in range(30000):\n",
        "\n",
        "    y_pred = torch.sigmoid(model(X.float()))\n",
        "\n",
        "    loss = criterion(y_pred.flatten(), y.float())\n",
        "\n",
        "    loss.backward()\n",
        "\n",
        "    optim.step()\n",
        "    optim.zero_grad()\n",
        "\n",
        "    if (i + 1) % 500 == 0:\n",
        "        clear_output(True)\n",
        "        plt.scatter(X[:, 0], X[:, 1], marker=\"o\", c=y, s=25, edgecolor=\"k\")\n",
        "\n",
        "        w_1 = model.weight.data[0][0]\n",
        "        w_2 = model.weight.data[0][1]\n",
        "        w_0 = model.bias.data[0]\n",
        "\n",
        "        x_arr = torch.linspace(-2, 2, 1000)\n",
        "        plt.plot(x_arr, -(w_0 + w_1 * x_arr) / w_2)\n",
        "        plt.show()\n",
        "\n",
        "        print(\"Iteration: {}, Loss: {}\".format(i, loss))"
      ]
    },
    {
      "cell_type": "markdown",
      "metadata": {
        "id": "WevXy3M99SLv"
      },
      "source": [
        "# Визуализируем разделяющую плоскость"
      ]
    },
    {
      "cell_type": "code",
      "execution_count": null,
      "metadata": {
        "id": "hnCBUkTa9SLv"
      },
      "outputs": [],
      "source": [
        "h = 0.02  # step size in the mesh\n",
        "cm = plt.cm.RdBu\n",
        "x_min, x_max = X[:, 0].min() - 0.5, X[:, 0].max() + 0.5\n",
        "y_min, y_max = X[:, 1].min() - 0.5, X[:, 1].max() + 0.5\n",
        "xx, yy = np.meshgrid(np.arange(x_min, x_max, h), np.arange(y_min, y_max, h))\n",
        "\n",
        "input_tensor = torch.from_numpy(np.c_[xx.ravel(), yy.ravel()]).float()\n",
        "model.eval()\n",
        "Z = torch.sigmoid(model(input_tensor))\n",
        "Z = Z.reshape(xx.shape)"
      ]
    },
    {
      "cell_type": "code",
      "execution_count": null,
      "metadata": {
        "id": "nyNauPQp9SLw"
      },
      "outputs": [],
      "source": [
        "plt.scatter(X[:, 0], X[:, 1], marker=\"o\", c=y, s=25, edgecolor=\"k\")\n",
        "\n",
        "plt.contourf(xx, yy, Z.detach().numpy(), cmap=cm, alpha=0.8)\n",
        "\n",
        "plt.show()"
      ]
    },
    {
      "cell_type": "markdown",
      "metadata": {
        "id": "UddJchKW9SLw"
      },
      "source": [
        "# Делаем модель сложнее"
      ]
    },
    {
      "cell_type": "code",
      "execution_count": null,
      "metadata": {
        "id": "x69Nn_YN9SLw"
      },
      "outputs": [],
      "source": [
        "plt.scatter(X[:, 0], X[:, 1], marker=\"o\", c=y, s=25, edgecolor=\"k\")\n",
        "\n",
        "X = torch.tensor(X)\n",
        "y = torch.tensor(y)"
      ]
    },
    {
      "cell_type": "code",
      "execution_count": null,
      "metadata": {
        "id": "dUhEBnzI9SLx"
      },
      "outputs": [],
      "source": [
        "from torch import nn"
      ]
    },
    {
      "cell_type": "markdown",
      "metadata": {
        "id": "aFhGOXiu9SLx"
      },
      "source": [
        "# Cоберите двуслойную модель"
      ]
    },
    {
      "cell_type": "code",
      "execution_count": null,
      "metadata": {
        "id": "wfPiEfSU9SLx"
      },
      "outputs": [],
      "source": [
        "model = nn.Sequential()\n",
        "model.add_module(\"first\", nn.Linear(2, 2))\n",
        "model.add_module(\"first_activation\", nn.Sigmoid())\n",
        "model.add_module(\"second\", nn.Linear(2, 1))"
      ]
    },
    {
      "cell_type": "code",
      "execution_count": null,
      "metadata": {
        "id": "owO-1I-J9SLy"
      },
      "outputs": [],
      "source": [
        "criterion = torch.nn.BCELoss()\n",
        "\n",
        "optim = torch.optim.SGD(model.parameters(), lr=2.0)\n",
        "\n",
        "model.train()"
      ]
    },
    {
      "cell_type": "code",
      "execution_count": null,
      "metadata": {
        "id": "RquUN5YP9SLy"
      },
      "outputs": [],
      "source": [
        "from IPython.display import clear_output\n",
        "\n",
        "\n",
        "h = 0.02  # step size in the mesh\n",
        "cm = plt.cm.RdBu\n",
        "x_min, x_max = X[:, 0].min() - 0.5, X[:, 0].max() + 0.5\n",
        "y_min, y_max = X[:, 1].min() - 0.5, X[:, 1].max() + 0.5\n",
        "xx, yy = np.meshgrid(np.arange(x_min, x_max, h), np.arange(y_min, y_max, h))\n",
        "\n",
        "\n",
        "model.train()\n",
        "for i in range(30000):\n",
        "\n",
        "    y_pred = torch.sigmoid(model(X.float()))\n",
        "\n",
        "    loss = criterion(y_pred.flatten(), y.float())\n",
        "\n",
        "    loss.backward()\n",
        "\n",
        "    optim.step()\n",
        "    optim.zero_grad()\n",
        "    if (i + 1) % 500 == 0:\n",
        "        clear_output(True)\n",
        "        input_tensor = torch.from_numpy(np.c_[xx.ravel(), yy.ravel()]).float()\n",
        "        Z = torch.sigmoid(model(input_tensor))\n",
        "        Z = Z.reshape(xx.shape)\n",
        "\n",
        "        plt.scatter(X[:, 0], X[:, 1], marker=\"o\", c=y, s=25, edgecolor=\"k\")\n",
        "\n",
        "        plt.contourf(xx, yy, Z.detach().numpy(), cmap=cm, alpha=0.8)\n",
        "\n",
        "        plt.show()\n",
        "\n",
        "        print(\"Iteration: {}, Loss: {}\".format(i, loss))"
      ]
    },
    {
      "cell_type": "markdown",
      "metadata": {
        "id": "qN9h6lYI9SLy"
      },
      "source": [
        "# Усложним модель (увеличим количество слоев)"
      ]
    },
    {
      "cell_type": "code",
      "execution_count": null,
      "metadata": {
        "id": "79UD5nPe9SLy"
      },
      "outputs": [],
      "source": [
        "model = nn.Sequential()\n",
        "model.add_module(\"first\", nn.Linear(2, 2))\n",
        "model.add_module(\"first_activation\", nn.Sigmoid())\n",
        "model.add_module(\"second\", nn.Linear(2, 2))\n",
        "model.add_module(\"second_activation\", nn.Sigmoid())\n",
        "model.add_module(\"third\", nn.Linear(2, 1))"
      ]
    },
    {
      "cell_type": "code",
      "execution_count": null,
      "metadata": {
        "id": "IAxchrKd9SLz"
      },
      "outputs": [],
      "source": [
        "criterion = torch.nn.BCELoss()\n",
        "\n",
        "optim = torch.optim.SGD(model.parameters(), lr=2.0, momentum=0.9)\n",
        "\n",
        "model.train()"
      ]
    },
    {
      "cell_type": "code",
      "execution_count": null,
      "metadata": {
        "id": "K7n0LIa09SLz"
      },
      "outputs": [],
      "source": [
        "from IPython.display import clear_output\n",
        "\n",
        "\n",
        "h = 0.02  # step size in the mesh\n",
        "cm = plt.cm.RdBu\n",
        "x_min, x_max = X[:, 0].min() - 0.5, X[:, 0].max() + 0.5\n",
        "y_min, y_max = X[:, 1].min() - 0.5, X[:, 1].max() + 0.5\n",
        "xx, yy = np.meshgrid(np.arange(x_min, x_max, h), np.arange(y_min, y_max, h))\n",
        "\n",
        "\n",
        "model.train()\n",
        "for i in range(30000):\n",
        "\n",
        "    y_pred = torch.sigmoid(model(X.float()))\n",
        "\n",
        "    loss = criterion(y_pred.flatten(), y.float())\n",
        "\n",
        "    loss.backward()\n",
        "\n",
        "    optim.step()\n",
        "    optim.zero_grad()\n",
        "    if (i + 1) % 500 == 0:\n",
        "        clear_output(True)\n",
        "        input_tensor = torch.from_numpy(np.c_[xx.ravel(), yy.ravel()]).float()\n",
        "        Z = torch.sigmoid(model(input_tensor))\n",
        "        Z = Z.reshape(xx.shape)\n",
        "\n",
        "        plt.scatter(X[:, 0], X[:, 1], marker=\"o\", c=y, s=25, edgecolor=\"k\")\n",
        "\n",
        "        plt.contourf(xx, yy, Z.detach().numpy(), cmap=cm, alpha=0.8)\n",
        "\n",
        "        plt.show()\n",
        "\n",
        "        print(\"Iteration: {}, Loss: {}\".format(i, loss))"
      ]
    },
    {
      "cell_type": "markdown",
      "metadata": {
        "id": "OWZ6cFnP9SLz"
      },
      "source": [
        "# Еще усложним модель (увеличим размерность скрытых слоев)"
      ]
    },
    {
      "cell_type": "code",
      "execution_count": null,
      "metadata": {
        "id": "weq1btVh9SL0"
      },
      "outputs": [],
      "source": [
        "model = nn.Sequential()\n",
        "model.add_module(\"first\", nn.Linear(2, 5))\n",
        "model.add_module(\"first_activation\", nn.Sigmoid())\n",
        "model.add_module(\"second\", nn.Linear(5, 5))\n",
        "model.add_module(\"second_activation\", nn.Sigmoid())\n",
        "model.add_module(\"third\", nn.Linear(5, 1))\n",
        "model.add_module(\"third_activation\", nn.Sigmoid())"
      ]
    },
    {
      "cell_type": "code",
      "execution_count": null,
      "metadata": {
        "id": "R9E6zP6p9SL0"
      },
      "outputs": [],
      "source": [
        "criterion = torch.nn.BCELoss()\n",
        "\n",
        "optim = torch.optim.SGD(model.parameters(), lr=2, momentum=0.9)\n",
        "\n",
        "model.train()\n",
        "\n",
        "# model.to('cuda:2')"
      ]
    },
    {
      "cell_type": "code",
      "execution_count": null,
      "metadata": {
        "id": "XUWTN8rr9SL0"
      },
      "outputs": [],
      "source": [
        "from IPython.display import clear_output\n",
        "\n",
        "\n",
        "h = 0.02  # step size in the mesh\n",
        "cm = plt.cm.RdBu\n",
        "x_min, x_max = X[:, 0].min() - 0.5, X[:, 0].max() + 0.5\n",
        "y_min, y_max = X[:, 1].min() - 0.5, X[:, 1].max() + 0.5\n",
        "xx, yy = np.meshgrid(np.arange(x_min, x_max, h), np.arange(y_min, y_max, h))\n",
        "\n",
        "\n",
        "model.train()\n",
        "for i in range(3000):\n",
        "\n",
        "    y_pred = model(X.float())\n",
        "\n",
        "    loss = criterion(y_pred.flatten(), y.float())\n",
        "\n",
        "    loss.backward()\n",
        "\n",
        "    optim.step()\n",
        "    optim.zero_grad()\n",
        "    if (i + 1) % 50 == 0:\n",
        "        clear_output(True)\n",
        "        input_tensor = torch.from_numpy(np.c_[xx.ravel(), yy.ravel()]).float()\n",
        "        Z = torch.sigmoid(model(input_tensor))\n",
        "        Z = Z.reshape(xx.shape)\n",
        "\n",
        "        plt.scatter(X[:, 0], X[:, 1], marker=\"o\", c=y, s=25, edgecolor=\"k\")\n",
        "\n",
        "        plt.contourf(xx, yy, Z.detach().numpy(), cmap=cm, alpha=0.8)\n",
        "\n",
        "        plt.show()\n",
        "\n",
        "        print(\"Iteration: {}, Loss: {}\".format(i, loss))"
      ]
    },
    {
      "cell_type": "markdown",
      "metadata": {
        "id": "QvByiISS9SL0"
      },
      "source": [
        "# Сделаем > 2 классов"
      ]
    },
    {
      "cell_type": "code",
      "execution_count": null,
      "metadata": {
        "id": "HKn510MK9SL1"
      },
      "outputs": [],
      "source": [
        "from sklearn.datasets import make_circles"
      ]
    },
    {
      "cell_type": "code",
      "execution_count": null,
      "metadata": {
        "id": "swhmG6--9SL1"
      },
      "outputs": [],
      "source": [
        "# blobs with varied variances\n",
        "X, y = make_blobs(n_samples=400, cluster_std=[1.0, 1.5, 0.5], random_state=17)"
      ]
    },
    {
      "cell_type": "code",
      "execution_count": null,
      "metadata": {
        "id": "pbgyFYMl9SL1"
      },
      "outputs": [],
      "source": [
        "plt.scatter(X[:, 0], X[:, 1], marker=\"o\", c=y, s=25, edgecolor=\"k\")\n",
        "\n",
        "X = torch.tensor(X)\n",
        "y = torch.tensor(y)"
      ]
    },
    {
      "cell_type": "code",
      "execution_count": null,
      "metadata": {
        "id": "YE3gnkkN9SL1"
      },
      "outputs": [],
      "source": [
        "model = nn.Sequential()\n",
        "model.add_module(\"first\", nn.Linear(2, 5))\n",
        "model.add_module(\"first_activation\", nn.Sigmoid())\n",
        "model.add_module(\"second\", nn.Linear(5, 5))\n",
        "model.add_module(\"second_activation\", nn.Sigmoid())\n",
        "model.add_module(\"third\", nn.Linear(5, 3))"
      ]
    },
    {
      "cell_type": "code",
      "execution_count": null,
      "metadata": {
        "id": "tqBQn5yW9SL2"
      },
      "outputs": [],
      "source": [
        "criterion = torch.nn.CrossEntropyLoss()\n",
        "\n",
        "optim = torch.optim.SGD(model.parameters(), lr=0.1)\n",
        "\n",
        "model.train()"
      ]
    },
    {
      "cell_type": "code",
      "execution_count": null,
      "metadata": {
        "id": "KCBrFli99SL2"
      },
      "outputs": [],
      "source": [
        "from IPython.display import clear_output\n",
        "\n",
        "\n",
        "h = 0.02  # step size in the mesh\n",
        "cm = plt.cm.RdBu\n",
        "x_min, x_max = X[:, 0].min() - 0.5, X[:, 0].max() + 0.5\n",
        "y_min, y_max = X[:, 1].min() - 0.5, X[:, 1].max() + 0.5\n",
        "xx, yy = np.meshgrid(np.arange(x_min, x_max, h), np.arange(y_min, y_max, h))\n",
        "\n",
        "model.train()\n",
        "for i in range(1000):\n",
        "\n",
        "    y_pred = model(X.float())\n",
        "\n",
        "    loss = criterion(y_pred, y.long())\n",
        "\n",
        "    loss.backward()\n",
        "\n",
        "    optim.step()\n",
        "    optim.zero_grad()\n",
        "    if (i + 1) % 25 == 0:\n",
        "        clear_output(True)\n",
        "        input_tensor = torch.from_numpy(np.c_[xx.ravel(), yy.ravel()]).float()\n",
        "        Z = model(input_tensor)\n",
        "        Z = torch.argmax(Z, axis=1)\n",
        "        Z = Z.reshape(xx.shape)\n",
        "\n",
        "        plt.scatter(X[:, 0], X[:, 1], marker=\"o\", c=y, s=25, edgecolor=\"k\")\n",
        "\n",
        "        plt.contourf(xx, yy, Z.detach().numpy(), cmap=cm, alpha=0.8)\n",
        "\n",
        "        plt.show()\n",
        "\n",
        "        print(\"Iteration: {}, Loss: {}\".format(i, loss))"
      ]
    },
    {
      "cell_type": "markdown",
      "metadata": {
        "id": "CkG7K-AiaSer"
      },
      "source": [
        "# Реальные данные"
      ]
    },
    {
      "cell_type": "code",
      "execution_count": null,
      "metadata": {
        "id": "aCPlEveKaSer"
      },
      "outputs": [],
      "source": [
        "from torch.utils.data import Dataset\n",
        "from torchvision import datasets\n",
        "from torchvision.transforms import ToTensor, Normalize, Lambda"
      ]
    },
    {
      "cell_type": "markdown",
      "metadata": {
        "id": "4FKWxJSCaSer"
      },
      "source": [
        "# 1. Грузим данные"
      ]
    },
    {
      "cell_type": "code",
      "execution_count": null,
      "metadata": {
        "id": "b0NUV4ogaSer"
      },
      "outputs": [],
      "source": [
        "data_folderpath = \"../../data\"\n",
        "training_data = datasets.FashionMNIST(\n",
        "    root=data_folderpath, train=True, download=True, transform=ToTensor()\n",
        ")\n",
        "\n",
        "test_data = datasets.FashionMNIST(\n",
        "    root=data_folderpath, train=False, download=True, transform=ToTensor()\n",
        ")"
      ]
    },
    {
      "cell_type": "code",
      "execution_count": null,
      "metadata": {
        "id": "mfCOYX__aSer"
      },
      "outputs": [],
      "source": [
        "labels_map = {\n",
        "    0: \"T-Shirt\",\n",
        "    1: \"Trouser\",\n",
        "    2: \"Pullover\",\n",
        "    3: \"Dress\",\n",
        "    4: \"Coat\",\n",
        "    5: \"Sandal\",\n",
        "    6: \"Shirt\",\n",
        "    7: \"Sneaker\",\n",
        "    8: \"Bag\",\n",
        "    9: \"Ankle Boot\",\n",
        "}\n",
        "figure = plt.figure(figsize=(8, 8))\n",
        "cols, rows = 3, 3\n",
        "for i in range(1, cols * rows + 1):\n",
        "    sample_idx = torch.randint(len(training_data), size=(1,)).item()\n",
        "    img, label = training_data[sample_idx]\n",
        "    figure.add_subplot(rows, cols, i)\n",
        "    plt.title(labels_map[label])\n",
        "    plt.axis(\"off\")\n",
        "    plt.imshow(img.squeeze(), cmap=\"gray\")\n",
        "plt.show()"
      ]
    },
    {
      "cell_type": "code",
      "execution_count": null,
      "metadata": {
        "scrolled": true,
        "id": "aKmSQrqIaSes"
      },
      "outputs": [],
      "source": [
        "X_sample, y_sample = training_data[0]\n",
        "print(X_sample)\n",
        "print(y_sample)"
      ]
    },
    {
      "cell_type": "code",
      "execution_count": null,
      "metadata": {
        "id": "WtJ5E__KaSes"
      },
      "outputs": [],
      "source": [
        "X_sample.shape"
      ]
    },
    {
      "cell_type": "markdown",
      "metadata": {
        "id": "L-Bod9WwaSes"
      },
      "source": [
        "# Создаем собственный датасет"
      ]
    },
    {
      "cell_type": "code",
      "execution_count": null,
      "metadata": {
        "id": "U8NLC3FDaSes"
      },
      "outputs": [],
      "source": [
        "import pandas as pd\n",
        "import numpy as np\n",
        "\n",
        "\n",
        "class CustomImageDataset(Dataset):\n",
        "    def __init__(self, data_file, transform=None, target_transform=None):\n",
        "        self.data = pd.read_csv(data_file)\n",
        "        self.transform = transform\n",
        "        self.target_transform = target_transform\n",
        "\n",
        "    def __len__(self):\n",
        "        return self.data.shape[0]\n",
        "\n",
        "    def __getitem__(self, idx):\n",
        "        image = self.data.iloc[idx, 1:].values.reshape(28, 28).astype(np.uint8)\n",
        "        label = self.data.iloc[idx, 0]\n",
        "        if self.transform:\n",
        "            image = self.transform(image)\n",
        "        if self.target_transform:\n",
        "            label = self.target_transform(label)\n",
        "        return image, label"
      ]
    },
    {
      "cell_type": "code",
      "execution_count": null,
      "metadata": {
        "id": "gp2EQd8GaSes"
      },
      "outputs": [],
      "source": [
        "train_data_url = \"https://media.githubusercontent.com/media/fpleoni/fashion_mnist/master/fashion-mnist_train.csv\"\n",
        "test_data_url = \"https://media.githubusercontent.com/media/fpleoni/fashion_mnist/master/fashion-mnist_test.csv\""
      ]
    },
    {
      "cell_type": "code",
      "execution_count": null,
      "metadata": {
        "id": "Uilw2cJEaSes"
      },
      "outputs": [],
      "source": [
        "train = CustomImageDataset(\n",
        "    train_data_url,\n",
        "    transform=ToTensor(),\n",
        "    target_transform=Lambda(\n",
        "        lambda y: torch.zeros(10, dtype=torch.float).scatter_(\n",
        "            0, torch.tensor(y), value=1\n",
        "        )\n",
        "    ),\n",
        ")\n",
        "test = CustomImageDataset(\n",
        "    test_data_url,\n",
        "    transform=ToTensor(),\n",
        "    target_transform=Lambda(\n",
        "        lambda y: torch.zeros(10, dtype=torch.float).scatter_(\n",
        "            0, torch.tensor(y), value=1\n",
        "        )\n",
        "    ),\n",
        ")"
      ]
    },
    {
      "cell_type": "code",
      "execution_count": null,
      "metadata": {
        "id": "pb-vX4PQaSes"
      },
      "outputs": [],
      "source": [
        "X_sample, y_sample = train[0]"
      ]
    },
    {
      "cell_type": "code",
      "execution_count": null,
      "metadata": {
        "id": "yJdVsxZyaSet"
      },
      "outputs": [],
      "source": [
        "X_sample"
      ]
    },
    {
      "cell_type": "code",
      "execution_count": null,
      "metadata": {
        "id": "snMA--VmaSet"
      },
      "outputs": [],
      "source": [
        "X_sample.shape"
      ]
    },
    {
      "cell_type": "code",
      "execution_count": null,
      "metadata": {
        "id": "GgnD5BTaaSet"
      },
      "outputs": [],
      "source": [
        "y_sample"
      ]
    },
    {
      "cell_type": "code",
      "execution_count": null,
      "metadata": {
        "id": "7aqY91yPaSet"
      },
      "outputs": [],
      "source": [
        "y_sample.shape"
      ]
    },
    {
      "cell_type": "code",
      "execution_count": null,
      "metadata": {
        "id": "3IAC-Z-QaSet"
      },
      "outputs": [],
      "source": [
        "train.data"
      ]
    },
    {
      "cell_type": "markdown",
      "metadata": {
        "id": "5Nyw7e06aSet"
      },
      "source": [
        "# Познаем даталоадеры"
      ]
    },
    {
      "cell_type": "code",
      "execution_count": null,
      "metadata": {
        "id": "_EcE_CnLaSet"
      },
      "outputs": [],
      "source": [
        "from torch.utils.data import DataLoader\n",
        "\n",
        "train_dataloader = DataLoader(train, batch_size=64, shuffle=True)\n",
        "test_dataloader = DataLoader(test, batch_size=64, shuffle=True)"
      ]
    },
    {
      "cell_type": "code",
      "execution_count": null,
      "metadata": {
        "id": "fc17Pk3SaSet"
      },
      "outputs": [],
      "source": [
        "train_features, train_labels = next(iter(train_dataloader))\n",
        "print(f\"Feature batch shape: {train_features.size()}\")\n",
        "print(f\"Labels batch shape: {train_labels.size()}\")\n",
        "img = train_features[0].squeeze()\n",
        "label = train_labels[0]\n",
        "plt.imshow(img, cmap=\"gray\")\n",
        "plt.show()\n",
        "print(f\"Label: {label}\")"
      ]
    },
    {
      "cell_type": "markdown",
      "metadata": {
        "id": "trrQawZJaSet"
      },
      "source": [
        "# 2. Собираем нейросеть"
      ]
    },
    {
      "cell_type": "code",
      "execution_count": null,
      "metadata": {
        "id": "8av40-eoaSet"
      },
      "outputs": [],
      "source": [
        "device = \"cuda\" if torch.cuda.is_available() else \"cpu\"\n",
        "print(f\"Using {device} device\")"
      ]
    },
    {
      "cell_type": "code",
      "execution_count": null,
      "metadata": {
        "id": "vdY5gPmqaSet"
      },
      "outputs": [],
      "source": [
        "from torch import nn\n",
        "\n",
        "\n",
        "class NeuralNetwork(nn.Module):\n",
        "    def __init__(self):\n",
        "        super(NeuralNetwork, self).__init__()\n",
        "        self.flatten = nn.Flatten()\n",
        "        self.linear_relu_stack = nn.Sequential(\n",
        "            nn.Linear(28 * 28, 512),\n",
        "            nn.ReLU(),\n",
        "            nn.Linear(512, 512),\n",
        "            nn.ReLU(),\n",
        "            nn.Linear(512, 10),\n",
        "        )\n",
        "\n",
        "    def forward(self, x):\n",
        "        x = self.flatten(x)\n",
        "        logits = self.linear_relu_stack(x)\n",
        "        return logits"
      ]
    },
    {
      "cell_type": "code",
      "execution_count": null,
      "metadata": {
        "id": "qidm7ss0aSet"
      },
      "outputs": [],
      "source": [
        "model = NeuralNetwork().to(device)\n",
        "print(model)"
      ]
    },
    {
      "cell_type": "code",
      "execution_count": null,
      "metadata": {
        "id": "IuaLaYRPaSet"
      },
      "outputs": [],
      "source": [
        "X = torch.rand(1, 28, 28, device=device)\n",
        "logits = model(X)\n",
        "pred_probab = nn.Softmax(dim=1)(logits)\n",
        "y_pred = pred_probab.argmax(1)\n",
        "print(f\"Predicted class: {y_pred}\")"
      ]
    },
    {
      "cell_type": "markdown",
      "metadata": {
        "id": "1WpSFjPeaSeu"
      },
      "source": [
        "# Смотрим детально в слои сети"
      ]
    },
    {
      "cell_type": "code",
      "execution_count": null,
      "metadata": {
        "id": "ofdpu5w9aSeu"
      },
      "outputs": [],
      "source": [
        "input_image = torch.rand(3, 28, 28)\n",
        "print(input_image.size())"
      ]
    },
    {
      "cell_type": "code",
      "execution_count": null,
      "metadata": {
        "id": "mHiPCDGXaSeu"
      },
      "outputs": [],
      "source": [
        "input_image"
      ]
    },
    {
      "cell_type": "code",
      "execution_count": null,
      "metadata": {
        "id": "GiWIEyoMaSev"
      },
      "outputs": [],
      "source": [
        "flatten = nn.Flatten()\n",
        "flat_image = flatten(input_image)\n",
        "print(flat_image.size())"
      ]
    },
    {
      "cell_type": "code",
      "execution_count": null,
      "metadata": {
        "id": "vGjcfmaCaSev"
      },
      "outputs": [],
      "source": [
        "flat_image"
      ]
    },
    {
      "cell_type": "code",
      "execution_count": null,
      "metadata": {
        "id": "Hz29wu0AaSev"
      },
      "outputs": [],
      "source": [
        "layer1 = nn.Linear(in_features=28 * 28, out_features=20)\n",
        "hidden1 = layer1(flat_image)\n",
        "print(hidden1.size())"
      ]
    },
    {
      "cell_type": "code",
      "execution_count": null,
      "metadata": {
        "id": "nY0o_xF7aSew"
      },
      "outputs": [],
      "source": [
        "print(f\"Before ReLU: {hidden1}\\n\\n\")\n",
        "hidden1 = nn.ReLU()(hidden1)\n",
        "print(f\"After ReLU: {hidden1}\")"
      ]
    },
    {
      "cell_type": "code",
      "execution_count": null,
      "metadata": {
        "id": "at7-Ch3zaSew"
      },
      "outputs": [],
      "source": [
        "seq_modules = nn.Sequential(flatten, layer1, nn.ReLU(), nn.Linear(20, 10))\n",
        "input_image = torch.rand(3, 28, 28)\n",
        "logits = seq_modules(input_image)"
      ]
    },
    {
      "cell_type": "code",
      "execution_count": null,
      "metadata": {
        "id": "z4YJAdyXaSew"
      },
      "outputs": [],
      "source": [
        "logits.shape"
      ]
    },
    {
      "cell_type": "code",
      "execution_count": null,
      "metadata": {
        "id": "VWi533ZWaSew"
      },
      "outputs": [],
      "source": [
        "logits"
      ]
    },
    {
      "cell_type": "code",
      "execution_count": null,
      "metadata": {
        "id": "rmebTdl2aSew"
      },
      "outputs": [],
      "source": [
        "softmax = nn.Softmax(dim=1)\n",
        "pred_probab = softmax(logits)\n",
        "pred_probab"
      ]
    },
    {
      "cell_type": "code",
      "execution_count": null,
      "metadata": {
        "id": "l0OxfsyKaSew"
      },
      "outputs": [],
      "source": [
        "pred_probab.argmax(dim=1)"
      ]
    },
    {
      "cell_type": "code",
      "execution_count": null,
      "metadata": {
        "id": "4Z4LZDvJaSex"
      },
      "outputs": [],
      "source": [
        "print(f\"Model structure: {model}\\n\\n\")\n",
        "\n",
        "for name, param in model.named_parameters():\n",
        "    print(f\"Layer: {name} | Size: {param.size()} | Values : {param[:2]} \\n\")"
      ]
    },
    {
      "cell_type": "markdown",
      "metadata": {
        "id": "59deIQTmaSex"
      },
      "source": [
        "# 3. Тренируем сеть"
      ]
    },
    {
      "cell_type": "markdown",
      "metadata": {
        "id": "gh9dWY-PaSex"
      },
      "source": [
        "#### Инициализируем модель"
      ]
    },
    {
      "cell_type": "code",
      "execution_count": null,
      "metadata": {
        "id": "FWhXx4YJaSex"
      },
      "outputs": [],
      "source": [
        "model = NeuralNetwork()"
      ]
    },
    {
      "cell_type": "markdown",
      "metadata": {
        "id": "LM0axgEZaSex"
      },
      "source": [
        "#### Инициализируем параметры"
      ]
    },
    {
      "cell_type": "code",
      "execution_count": null,
      "metadata": {
        "id": "kBI_7hShaSex"
      },
      "outputs": [],
      "source": [
        "learning_rate = 1e-3\n",
        "batch_size = 64\n",
        "epochs = 5"
      ]
    },
    {
      "cell_type": "markdown",
      "metadata": {
        "id": "yPeb9IYUaSex"
      },
      "source": [
        "#### Инициализируем функцию потерь"
      ]
    },
    {
      "cell_type": "code",
      "execution_count": null,
      "metadata": {
        "id": "rINJwE3jaSey"
      },
      "outputs": [],
      "source": [
        "loss_fn = nn.CrossEntropyLoss()"
      ]
    },
    {
      "cell_type": "markdown",
      "metadata": {
        "id": "1jAeZT2paSey"
      },
      "source": [
        "#### Инициализируем оптимизатор"
      ]
    },
    {
      "cell_type": "code",
      "execution_count": null,
      "metadata": {
        "id": "xToqgEpsaSey"
      },
      "outputs": [],
      "source": [
        "optimizer = torch.optim.SGD(model.parameters(), lr=learning_rate)"
      ]
    },
    {
      "cell_type": "markdown",
      "metadata": {
        "id": "Bz3GpdOFaSey"
      },
      "source": [
        "#### Описываем функции тренировки и тестирования модели"
      ]
    },
    {
      "cell_type": "code",
      "execution_count": null,
      "metadata": {
        "id": "A8vHUVUjaSey"
      },
      "outputs": [],
      "source": [
        "def train_loop(dataloader, model, loss_fn, optimizer):\n",
        "    size = len(dataloader.dataset)\n",
        "    for batch, (X, y) in enumerate(dataloader):\n",
        "        # Compute prediction and loss\n",
        "        pred = model(X)\n",
        "        loss = loss_fn(pred, y)\n",
        "\n",
        "        # Backpropagation\n",
        "        optimizer.zero_grad()\n",
        "        loss.backward()\n",
        "        optimizer.step()\n",
        "\n",
        "        if batch % 100 == 0:\n",
        "            loss, current = loss.item(), batch * len(X)\n",
        "            print(f\"loss: {loss:>7f}  [{current:>5d}/{size:>5d}]\")\n",
        "\n",
        "\n",
        "def test_loop(dataloader, model, loss_fn):\n",
        "    size = len(dataloader.dataset)\n",
        "    num_batches = len(dataloader)\n",
        "    test_loss, correct = 0, 0\n",
        "\n",
        "    with torch.no_grad():\n",
        "        for X, y in dataloader:\n",
        "            pred = model(X)\n",
        "            test_loss += loss_fn(pred, y).item()\n",
        "            correct += (pred.argmax(1) == y.argmax(1)).type(torch.float).sum().item()\n",
        "\n",
        "    test_loss /= num_batches\n",
        "    correct /= size\n",
        "    print(\n",
        "        f\"Test Error: \\n Accuracy: {(100*correct):>0.1f}%, Avg loss: {test_loss:>8f} \\n\"\n",
        "    )"
      ]
    },
    {
      "cell_type": "code",
      "execution_count": null,
      "metadata": {
        "id": "4I5YNkqhaSey"
      },
      "outputs": [],
      "source": [
        "epochs = 10\n",
        "for t in range(epochs):\n",
        "    print(f\"Epoch {t+1}\\n-------------------------------\")\n",
        "    train_loop(train_dataloader, model, loss_fn, optimizer)\n",
        "    test_loop(test_dataloader, model, loss_fn)\n",
        "print(\"Done!\")"
      ]
    },
    {
      "cell_type": "markdown",
      "metadata": {
        "id": "lFhKw8ShaSey"
      },
      "source": [
        "# Весь материал ниже считаем факультативным"
      ]
    },
    {
      "cell_type": "markdown",
      "metadata": {
        "id": "aExs-z_2aSez"
      },
      "source": [
        "---"
      ]
    },
    {
      "cell_type": "markdown",
      "metadata": {
        "id": "PlNDMVKRaSez"
      },
      "source": [
        "# 4. Изучаем свертки"
      ]
    },
    {
      "cell_type": "markdown",
      "metadata": {
        "id": "j8XI0WKhaSez"
      },
      "source": [
        "![image.png](attachment:7461278f-5be3-49c3-8c5a-fbc767f98b73.png)"
      ]
    },
    {
      "cell_type": "markdown",
      "metadata": {
        "id": "EBAH5ErLaSez"
      },
      "source": [
        "![](https://wikidocs.net/images/page/164365/Fig_04_cnn_filter.png)"
      ]
    },
    {
      "cell_type": "markdown",
      "metadata": {
        "id": "ac1zWHLqaSe0"
      },
      "source": [
        "![image.png](attachment:0399f665-7e9d-4cd9-8b6b-5372b7525f34.png)"
      ]
    },
    {
      "cell_type": "markdown",
      "metadata": {
        "id": "Y_vTdgMRaSe0"
      },
      "source": [
        "![image.png](attachment:1592aa56-9ccd-4472-8c3f-ea1870fdbf50.png)"
      ]
    },
    {
      "cell_type": "markdown",
      "metadata": {
        "id": "QfXfzp6faSe0"
      },
      "source": [
        "![](https://blog.kakaocdn.net/dn/lgBRU/btqWWtkNJhM/DsJwc0PXrbhS0n33Vqzgm1/img.gif)"
      ]
    },
    {
      "cell_type": "markdown",
      "metadata": {
        "id": "g_OCQDceaSe0"
      },
      "source": [
        "![](https://www.mobiquity.com/hs-fs/hubfs/CNN03.gif?width=640&name=CNN03.gif)"
      ]
    },
    {
      "cell_type": "markdown",
      "metadata": {
        "id": "_KBdNda-aSe0"
      },
      "source": [
        "![](https://i.stack.imgur.com/9bi5k.gif)"
      ]
    },
    {
      "cell_type": "code",
      "execution_count": null,
      "metadata": {
        "id": "RczRgbYjaSe0"
      },
      "outputs": [],
      "source": [
        "import matplotlib.pyplot as plt\n",
        "\n",
        "%matplotlib inline\n",
        "import numpy as np\n",
        "import cv2\n",
        "import sklearn\n",
        "import PIL\n",
        "import torch\n",
        "import torchvision\n",
        "\n",
        "\n",
        "def show_image(image, figsize=(16, 9), reverse=True):\n",
        "    plt.figure(figsize=figsize)\n",
        "    if reverse:\n",
        "        plt.imshow(image[..., ::-1])\n",
        "    else:\n",
        "        plt.imshow(image)\n",
        "    plt.axis(\"off\")\n",
        "    plt.show()\n",
        "\n",
        "\n",
        "def show_grayscale_image(image, figsize=(16, 9)):\n",
        "    plt.figure(figsize=figsize)\n",
        "    plt.imshow(image, cmap=\"gray\")\n",
        "    plt.axis(\"off\")\n",
        "    plt.show()"
      ]
    },
    {
      "cell_type": "code",
      "execution_count": null,
      "metadata": {
        "id": "31CWEa39aSe1"
      },
      "outputs": [],
      "source": [
        "layer = torch.nn.Conv2d(1, 1, kernel_size=(3, 3))\n",
        "layer.weight"
      ]
    },
    {
      "cell_type": "code",
      "execution_count": null,
      "metadata": {
        "id": "msHIuWrVaSe1"
      },
      "outputs": [],
      "source": [
        "# вес доступен через .weight.data\n",
        "layer.weight.data = torch.ones_like(layer.weight.data)\n",
        "layer.weight.data /= torch.sum(layer.weight.data)\n",
        "layer.weight.data"
      ]
    },
    {
      "cell_type": "code",
      "execution_count": null,
      "metadata": {
        "id": "qq93AcGuaSe1"
      },
      "outputs": [],
      "source": [
        "layer.bias.data = torch.zeros_like(layer.bias.data)\n",
        "layer.bias.data"
      ]
    },
    {
      "cell_type": "code",
      "execution_count": null,
      "metadata": {
        "id": "5b3D71f6aSe1"
      },
      "outputs": [],
      "source": [
        "layer.train()\n",
        "layer.eval()"
      ]
    },
    {
      "cell_type": "code",
      "execution_count": null,
      "metadata": {
        "id": "gOaLV7ikaSe1"
      },
      "outputs": [],
      "source": [
        "input_tensor = torch.arange(9).reshape(1, 1, 3, 3)\n",
        "input_tensor.shape"
      ]
    },
    {
      "cell_type": "markdown",
      "metadata": {
        "id": "QSWO2M7vaSe1"
      },
      "source": [
        "1 - размер батча 1 - кол-во каналов (1, если черно-белый, 3, если цветной) 3 - высота 3 - ширина"
      ]
    },
    {
      "cell_type": "code",
      "execution_count": null,
      "metadata": {
        "id": "tHj0SsSQaSe1"
      },
      "outputs": [],
      "source": [
        "input_tensor"
      ]
    },
    {
      "cell_type": "code",
      "execution_count": null,
      "metadata": {
        "id": "WnhQcgOzaSe1"
      },
      "outputs": [],
      "source": [
        "output_tensor = layer(input_tensor.float())"
      ]
    },
    {
      "cell_type": "code",
      "execution_count": null,
      "metadata": {
        "id": "-SLVBi02aSe1"
      },
      "outputs": [],
      "source": [
        "output_tensor"
      ]
    },
    {
      "cell_type": "markdown",
      "metadata": {
        "id": "uBDFAEESaSe1"
      },
      "source": [
        "## Какие бывают фильтры"
      ]
    },
    {
      "cell_type": "code",
      "execution_count": null,
      "metadata": {
        "id": "3VcQ3j9LaSe2"
      },
      "outputs": [],
      "source": [
        "from urllib.request import urlopen\n",
        "\n",
        "\n",
        "req = urlopen(\n",
        "    \"https://images.unsplash.com/photo-1608848461950-0fe51dfc41cb?ixlib=rb-4.0.3&ixid=MnwxMjA3fDB8MHxleHBsb3JlLWZlZWR8M3x8fGVufDB8fHx8&w=1000&q=80\"\n",
        ")\n",
        "arr = np.asarray(bytearray(req.read()), dtype=np.uint8)\n",
        "img = cv2.imdecode(arr, 0)"
      ]
    },
    {
      "cell_type": "code",
      "execution_count": null,
      "metadata": {
        "id": "vs0Ky9Y5aSe2"
      },
      "outputs": [],
      "source": [
        "img.shape"
      ]
    },
    {
      "cell_type": "code",
      "execution_count": null,
      "metadata": {
        "id": "kt4fKnSeaSe2"
      },
      "outputs": [],
      "source": [
        "show_grayscale_image(img)"
      ]
    },
    {
      "cell_type": "code",
      "execution_count": null,
      "metadata": {
        "id": "AnyQYIoSaSe2"
      },
      "outputs": [],
      "source": [
        "to_tensor = torchvision.transforms.ToTensor()\n",
        "img_tensor = to_tensor(img)\n",
        "img_tensor"
      ]
    },
    {
      "cell_type": "code",
      "execution_count": null,
      "metadata": {
        "id": "9wK2pVI1aSe2"
      },
      "outputs": [],
      "source": [
        "img_tensor.shape"
      ]
    },
    {
      "cell_type": "code",
      "execution_count": null,
      "metadata": {
        "id": "HweiMyCoaSe2"
      },
      "outputs": [],
      "source": [
        "# делаем так, чтобы нейросеть могла считать изображение\n",
        "\n",
        "img_tensor = img_tensor.reshape((1, 1, 1500, 1000))"
      ]
    },
    {
      "cell_type": "code",
      "execution_count": null,
      "metadata": {
        "id": "KRK6wQLiaSe6"
      },
      "outputs": [],
      "source": [
        "kernel_size = 50\n",
        "layer = torch.nn.Conv2d(1, 1, kernel_size=kernel_size)\n",
        "\n",
        "# обновляем веса свертки\n",
        "\n",
        "layer.weight.data = torch.ones_like(layer.weight.data)\n",
        "layer.weight.data /= torch.sum(layer.weight.data)"
      ]
    },
    {
      "cell_type": "code",
      "execution_count": null,
      "metadata": {
        "id": "Og82ZFZPaSe7"
      },
      "outputs": [],
      "source": [
        "layer.weight.data"
      ]
    },
    {
      "cell_type": "code",
      "execution_count": null,
      "metadata": {
        "id": "NxaZqUAtaSe7"
      },
      "outputs": [],
      "source": [
        "output_tensor = layer(img_tensor)\n",
        "output_tensor.shape"
      ]
    },
    {
      "cell_type": "code",
      "execution_count": null,
      "metadata": {
        "id": "1oXlg0McaSe7"
      },
      "outputs": [],
      "source": [
        "import torchvision.transforms as transforms\n",
        "\n",
        "# функция, переводящее тензор в PIL-изображение\n",
        "to_pil_image = transforms.ToPILImage()\n",
        "output_img = to_pil_image(output_tensor.squeeze(0))"
      ]
    },
    {
      "cell_type": "code",
      "execution_count": null,
      "metadata": {
        "id": "eHim72P_aSe7"
      },
      "outputs": [],
      "source": [
        "show_grayscale_image(output_img)"
      ]
    },
    {
      "cell_type": "code",
      "execution_count": null,
      "metadata": {
        "id": "6KPg65L9aSe7"
      },
      "outputs": [],
      "source": [
        "def show_image_with_kernel(img_input, kernel):\n",
        "    layer = torch.nn.Conv2d(1, 1, kernel_size=3)\n",
        "    layer.weight.data = our_kernel.reshape(1, 1, 3, 3)\n",
        "    output_tensor = layer(img_input)\n",
        "    output_img = to_pil_image(output_tensor.squeeze(0))\n",
        "    show_grayscale_image(output_img)"
      ]
    },
    {
      "cell_type": "code",
      "execution_count": null,
      "metadata": {
        "id": "oBnNO43UaSe8"
      },
      "outputs": [],
      "source": [
        "our_kernel = torch.tensor([[0, -1, 0], [-1, 4, -1], [0, -1, 0]], dtype=torch.float32)\n",
        "our_kernel = our_kernel.reshape(1, 1, 3, 3)\n",
        "show_image_with_kernel(img_tensor, our_kernel)"
      ]
    },
    {
      "cell_type": "code",
      "execution_count": null,
      "metadata": {
        "id": "biWBsDhVaSe8"
      },
      "outputs": [],
      "source": [
        "our_kernel = torch.tensor(\n",
        "    [[-1, -1, -1], [-1, 8, -1], [-1, -1, -1]], dtype=torch.float32\n",
        ")\n",
        "our_kernel = our_kernel.reshape(1, 1, 3, 3)\n",
        "show_image_with_kernel(img_tensor, our_kernel)"
      ]
    },
    {
      "cell_type": "code",
      "execution_count": null,
      "metadata": {
        "id": "ijw63EiNaSe8"
      },
      "outputs": [],
      "source": [
        "our_kernel = torch.tensor([[0, -1, 0], [-1, 5, -1], [0, -1, 0]], dtype=torch.float32)\n",
        "our_kernel = our_kernel.reshape(1, 1, 3, 3)\n",
        "show_image_with_kernel(img_tensor, our_kernel)"
      ]
    },
    {
      "cell_type": "code",
      "execution_count": null,
      "metadata": {
        "id": "H0K5xvEOaSe8"
      },
      "outputs": [],
      "source": [
        "our_kernel = torch.tensor([[1, 0, 0], [0, 1, 0], [0, 0, 1]], dtype=torch.float32)\n",
        "our_kernel = our_kernel.reshape(1, 1, 3, 3)\n",
        "show_image_with_kernel(img_tensor, our_kernel)"
      ]
    },
    {
      "cell_type": "code",
      "execution_count": null,
      "metadata": {
        "id": "XoFxu3t3aSe8"
      },
      "outputs": [],
      "source": [
        "our_kernel = torch.tensor([[1, 0, 1], [0, 1, 0], [1, 0, 1]], dtype=torch.float32)\n",
        "our_kernel = our_kernel.reshape(1, 1, 3, 3)\n",
        "show_image_with_kernel(img_tensor, our_kernel)"
      ]
    },
    {
      "cell_type": "markdown",
      "metadata": {
        "id": "I_-9mTbwaSe9"
      },
      "source": [
        "![](https://miro.medium.com/v2/resize:fit:738/0*4tHPDjvQXX9obrhK.gif)"
      ]
    },
    {
      "cell_type": "markdown",
      "metadata": {
        "id": "C8Hedw1IaSe9"
      },
      "source": [
        "![](https://qph.cf2.quoracdn.net/main-qimg-c05ec72225e19614f0cc10385d27525c)"
      ]
    },
    {
      "cell_type": "markdown",
      "metadata": {
        "id": "ZnJbY8YZaSe9"
      },
      "source": [
        "![](https://blog.ca.meron.dev/images/Convolution.gif)"
      ]
    },
    {
      "cell_type": "markdown",
      "metadata": {
        "id": "G-Rmkpn2aSe9"
      },
      "source": [
        "![](https://i.stack.imgur.com/ptDPZ.gif)"
      ]
    },
    {
      "cell_type": "markdown",
      "metadata": {
        "id": "K09hgSZ8aSe9"
      },
      "source": [
        "![](https://lukeguerdan.com/assets/img/TCNfigureA.png)"
      ]
    },
    {
      "cell_type": "markdown",
      "metadata": {
        "id": "mCmBZi8daSe-"
      },
      "source": [
        "![](https://theaisummer.com/static/490be17ee7f19b78003c3fdf5a6bbafc/83b75/receptive-field-in-convolutional-networks.png)"
      ]
    },
    {
      "cell_type": "markdown",
      "metadata": {
        "id": "QQ58CXoAaSe-"
      },
      "source": [
        "![](https://i.ytimg.com/vi/KuXjwB4LzSA/maxresdefault.jpg)"
      ]
    },
    {
      "cell_type": "markdown",
      "metadata": {
        "id": "Ehq0X-uhaSe-"
      },
      "source": [
        "![](https://saturncloud.io/images/blog/a-comprehensive-guide-to-convolutional-neural-networks-the-eli5-way.jpg)"
      ]
    },
    {
      "cell_type": "markdown",
      "metadata": {
        "id": "NrPZhe-9aSe-"
      },
      "source": [
        "![](https://learnopencv.com/wp-content/uploads/2023/01/tensorflow-keras-cnn-vgg-architecture-1024x611.png)"
      ]
    },
    {
      "cell_type": "markdown",
      "metadata": {
        "id": "UNjaVXQ3aSe-"
      },
      "source": [
        "![](https://nico-curti.github.io/NumPyNet/NumPyNet/images/maxpool.gif)"
      ]
    },
    {
      "cell_type": "markdown",
      "metadata": {
        "id": "yKXQvhFEaSe-"
      },
      "source": [
        "Визуализация сверточных слоев https://distill.pub/2017/feature-visualization/"
      ]
    },
    {
      "cell_type": "markdown",
      "metadata": {
        "id": "_GnEyR_YaSe-"
      },
      "source": [
        "# Теперь пора писать свою сверточную нейросеть"
      ]
    },
    {
      "cell_type": "code",
      "execution_count": null,
      "metadata": {
        "id": "xSgTMDWcaSe-"
      },
      "outputs": [],
      "source": [
        "import torch\n",
        "import torchvision\n",
        "import torchvision.transforms as transforms\n",
        "\n",
        "\n",
        "transform = transforms.Compose(\n",
        "    [transforms.ToTensor(), transforms.Normalize((0.5, 0.5, 0.5), (0.5, 0.5, 0.5))]\n",
        ")"
      ]
    },
    {
      "cell_type": "code",
      "execution_count": null,
      "metadata": {
        "id": "7jPTS1v-aSe_"
      },
      "outputs": [],
      "source": [
        "batch_size = 4\n",
        "\n",
        "# dataset задаёт данные\n",
        "trainset = torchvision.datasets.CIFAR10(\n",
        "    root=\"./data\", train=True, download=True, transform=transform\n",
        ")\n",
        "# dataloader подгружает их\n",
        "trainloader = torch.utils.data.DataLoader(\n",
        "    trainset, batch_size=batch_size, shuffle=True, num_workers=2\n",
        ")\n",
        "\n",
        "testset = torchvision.datasets.CIFAR10(\n",
        "    root=\"./data\", train=False, download=True, transform=transform\n",
        ")\n",
        "testloader = torch.utils.data.DataLoader(\n",
        "    testset, batch_size=batch_size, shuffle=False, num_workers=2\n",
        ")\n",
        "\n",
        "classes = (\n",
        "    \"plane\",\n",
        "    \"car\",\n",
        "    \"bird\",\n",
        "    \"cat\",\n",
        "    \"deer\",\n",
        "    \"dog\",\n",
        "    \"frog\",\n",
        "    \"horse\",\n",
        "    \"ship\",\n",
        "    \"truck\",\n",
        ")"
      ]
    },
    {
      "cell_type": "code",
      "execution_count": null,
      "metadata": {
        "id": "GlHDDM8VaSe_"
      },
      "outputs": [],
      "source": [
        "import matplotlib.pyplot as plt\n",
        "import numpy as np\n",
        "\n",
        "\n",
        "def imshow(img):\n",
        "    # убрать нормализацию\n",
        "    img = img / 2 + 0.5\n",
        "    npimg = img.numpy()\n",
        "    plt.imshow(np.transpose(npimg, (1, 2, 0)))\n",
        "    plt.show()\n",
        "\n",
        "\n",
        "# взять случайный батч изображений\n",
        "dataiter = iter(trainloader)\n",
        "images, labels = next(dataiter)\n",
        "\n",
        "imshow(torchvision.utils.make_grid(images))\n",
        "print(\"  \".join(\"{}\".format(classes[labels[j]]) for j in range(4)))"
      ]
    },
    {
      "cell_type": "code",
      "execution_count": null,
      "metadata": {
        "id": "Qv6o86ydaSe_"
      },
      "outputs": [],
      "source": [
        "def train_model(net, criterion, optimizer, trainloader, num_epochs=5):\n",
        "    for epoch in range(num_epochs):\n",
        "        running_loss = 0.0\n",
        "        for i, data in enumerate(trainloader, 0):\n",
        "            inputs, labels = data\n",
        "\n",
        "            # Давайте сами напишем код тут\n",
        "\n",
        "            optimizer.zero_grad()\n",
        "\n",
        "            outputs = net(inputs)\n",
        "            loss = criterion(outputs, labels)\n",
        "            loss.backward()\n",
        "            optimizer.step()\n",
        "\n",
        "            running_loss += loss.item()\n",
        "            if i % 2000 == 1999:\n",
        "                print(\n",
        "                    \"Epoch {0}/{1}, iteration {2}, loss: {3:.3f}\".format(\n",
        "                        epoch + 1, num_epochs, i + 1, running_loss / 2000\n",
        "                    )\n",
        "                )\n",
        "                running_loss = 0.0\n",
        "        print()\n",
        "\n",
        "    print(\"Finished Training\")\n",
        "\n",
        "    return net"
      ]
    },
    {
      "cell_type": "code",
      "execution_count": null,
      "metadata": {
        "id": "6u65gC1TaSe_"
      },
      "outputs": [],
      "source": [
        "def all_accuracy(net, testloader):\n",
        "    correct = 0\n",
        "    total = 0\n",
        "    with torch.no_grad():\n",
        "        for data in testloader:\n",
        "            images, labels = data\n",
        "            outputs = net(images)\n",
        "\n",
        "            _, predicted = torch.max(outputs.data, 1)\n",
        "            total += labels.size(0)\n",
        "            correct += (predicted == labels).sum().item()\n",
        "\n",
        "    print(\n",
        "        \"Accuracy of the network on the 10000 test images: {} %\".format(\n",
        "            100 * correct / total\n",
        "        )\n",
        "    )"
      ]
    },
    {
      "cell_type": "code",
      "execution_count": null,
      "metadata": {
        "id": "3bPcy6hnaSe_"
      },
      "outputs": [],
      "source": [
        "def class_accuracy(net, testloader):\n",
        "    class_correct = list(0.0 for i in range(10))\n",
        "    class_total = list(0.0 for i in range(10))\n",
        "    with torch.no_grad():\n",
        "        for data in testloader:\n",
        "            images, labels = data\n",
        "            outputs = net(images)\n",
        "            _, predicted = torch.max(outputs, 1)\n",
        "            c = (predicted == labels).squeeze()\n",
        "            for i in range(4):\n",
        "                label = labels[i]\n",
        "                class_correct[label] += c[i].item()\n",
        "                class_total[label] += 1\n",
        "\n",
        "    for i in range(10):\n",
        "        print(\n",
        "            \"Accuracy of {} : {} %\".format(\n",
        "                classes[i], 100 * class_correct[i] / class_total[i]\n",
        "            )\n",
        "        )"
      ]
    },
    {
      "cell_type": "code",
      "execution_count": null,
      "metadata": {
        "id": "ie4OY-6taSe_"
      },
      "outputs": [],
      "source": [
        "import torch.nn as nn\n",
        "import torch.nn.functional as F\n",
        "\n",
        "\n",
        "class FeedForwardNet(nn.Module):\n",
        "    def __init__(self):\n",
        "        super(FeedForwardNet, self).__init__()\n",
        "        self.fc1 = nn.Linear(3 * 32 * 32, 128)\n",
        "        self.fc2 = nn.Linear(128, 32)\n",
        "        self.fc3 = nn.Linear(32, 10)\n",
        "\n",
        "    def forward(self, x):\n",
        "        x = x.view(-1, 3 * 32 * 32)\n",
        "        x = self.fc1(x)\n",
        "        x = F.relu(x)\n",
        "        x = self.fc2(x)\n",
        "        x = F.relu(x)\n",
        "        x = self.fc3(x)\n",
        "        return x\n",
        "\n",
        "\n",
        "net = FeedForwardNet()"
      ]
    },
    {
      "cell_type": "code",
      "execution_count": null,
      "metadata": {
        "id": "iJf9v-G8aSfA"
      },
      "outputs": [],
      "source": [
        "import torch.optim as optim\n",
        "\n",
        "criterion = nn.CrossEntropyLoss()\n",
        "optimizer = optim.SGD(net.parameters(), lr=0.001, momentum=0.9)"
      ]
    },
    {
      "cell_type": "code",
      "execution_count": null,
      "metadata": {
        "id": "gF0VADIdaSfA"
      },
      "outputs": [],
      "source": [
        "net = train_model(net, criterion, optimizer, trainloader, num_epochs=5)"
      ]
    },
    {
      "cell_type": "code",
      "execution_count": null,
      "metadata": {
        "id": "QJZENZp3aSfB"
      },
      "outputs": [],
      "source": [
        "all_accuracy(net, testloader)"
      ]
    },
    {
      "cell_type": "code",
      "execution_count": null,
      "metadata": {
        "id": "_KuWO0mraSfB"
      },
      "outputs": [],
      "source": [
        "class_accuracy(net, testloader)"
      ]
    },
    {
      "cell_type": "markdown",
      "metadata": {
        "id": "k47N11fVaSfB"
      },
      "source": [
        "## Свёрточная сеть для классификации"
      ]
    },
    {
      "cell_type": "code",
      "execution_count": null,
      "metadata": {
        "id": "peFsKs1BaSfB"
      },
      "outputs": [],
      "source": [
        "import torch.nn as nn\n",
        "import torch.nn.functional as F\n",
        "\n",
        "\n",
        "class Net(nn.Module):\n",
        "    def __init__(self):\n",
        "        super(Net, self).__init__()\n",
        "        self.conv1 = nn.Conv2d(3, 6, 5)\n",
        "        self.pool = nn.MaxPool2d(2, 2)\n",
        "        self.conv2 = nn.Conv2d(6, 16, 5)\n",
        "        self.fc1 = nn.Linear(16 * 5 * 5, 120)\n",
        "        self.fc2 = nn.Linear(120, 84)\n",
        "        self.fc3 = nn.Linear(84, 10)\n",
        "\n",
        "    def forward(self, x):\n",
        "        x = self.pool(F.relu(self.conv1(x)))\n",
        "        x = self.pool(F.relu(self.conv2(x)))\n",
        "        x = x.view(-1, 16 * 5 * 5)\n",
        "        x = F.relu(self.fc1(x))\n",
        "        x = F.relu(self.fc2(x))\n",
        "        x = self.fc3(x)\n",
        "        return x\n",
        "\n",
        "\n",
        "net = Net()"
      ]
    },
    {
      "cell_type": "code",
      "execution_count": null,
      "metadata": {
        "id": "iYUAhG_0aSfB"
      },
      "outputs": [],
      "source": [
        "criterion = nn.CrossEntropyLoss()\n",
        "optimizer = optim.SGD(net.parameters(), lr=0.001, momentum=0.9)"
      ]
    },
    {
      "cell_type": "code",
      "execution_count": null,
      "metadata": {
        "id": "qsCsN1z1aSfC"
      },
      "outputs": [],
      "source": [
        "net = train_model(net, criterion, optimizer, trainloader, num_epochs=5)"
      ]
    },
    {
      "cell_type": "code",
      "execution_count": null,
      "metadata": {
        "id": "l3H-pcCdaSfC"
      },
      "outputs": [],
      "source": [
        "# сохраним сеть\n",
        "PATH = \"./cifar_net.pth\"\n",
        "torch.save(net.state_dict(), PATH)"
      ]
    },
    {
      "cell_type": "code",
      "execution_count": null,
      "metadata": {
        "id": "YCfnq4j6aSfC"
      },
      "outputs": [],
      "source": [
        "dataiter = iter(testloader)\n",
        "images, labels = next(dataiter)\n",
        "\n",
        "imshow(torchvision.utils.make_grid(images))\n",
        "print(\n",
        "    \"GroundTruth: \",\n",
        "    \" \".join(\"{}\".format(classes[labels[j]]) for j in range(batch_size)),\n",
        ")"
      ]
    },
    {
      "cell_type": "code",
      "execution_count": null,
      "metadata": {
        "id": "crL2QxoZaSfC"
      },
      "outputs": [],
      "source": [
        "# загрузим сеть\n",
        "net_loaded = Net()\n",
        "net_loaded.load_state_dict(torch.load(PATH))"
      ]
    },
    {
      "cell_type": "code",
      "execution_count": null,
      "metadata": {
        "id": "UtuA0SnqaSfC"
      },
      "outputs": [],
      "source": [
        "outputs = net_loaded(images)\n",
        "_, predicted = torch.max(outputs, 1)\n",
        "\n",
        "print(\"Predicted: \", \" \".join(\"{}\".format(classes[predicted[j]]) for j in range(4)))"
      ]
    },
    {
      "cell_type": "code",
      "execution_count": null,
      "metadata": {
        "id": "AFEJyxVSaSfC"
      },
      "outputs": [],
      "source": [
        "all_accuracy(net, testloader)"
      ]
    },
    {
      "cell_type": "code",
      "execution_count": null,
      "metadata": {
        "id": "17F60tmhaSfC"
      },
      "outputs": [],
      "source": [
        "class_accuracy(net, testloader)"
      ]
    },
    {
      "cell_type": "code",
      "execution_count": null,
      "metadata": {
        "id": "s1qQYKHnaSfC"
      },
      "outputs": [],
      "source": []
    }
  ],
  "metadata": {
    "colab": {
      "provenance": []
    },
    "kernelspec": {
      "display_name": "nn-ml-bachelor-2024-venv",
      "language": "python",
      "name": "nn-ml-bachelor-2024-venv"
    },
    "language_info": {
      "codemirror_mode": {
        "name": "ipython",
        "version": 3
      },
      "file_extension": ".py",
      "mimetype": "text/x-python",
      "name": "python",
      "nbconvert_exporter": "python",
      "pygments_lexer": "ipython3",
      "version": "3.9.6"
    }
  },
  "nbformat": 4,
  "nbformat_minor": 0
}