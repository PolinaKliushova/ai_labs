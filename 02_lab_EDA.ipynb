{
  "cells": [
    {
      "cell_type": "markdown",
      "id": "bc9520d2",
      "metadata": {
        "id": "bc9520d2"
      },
      "source": [
        "# Лабораторная работа №2\n",
        "\n",
        "ФИО: Клюшова Полина Алексеевна  \n",
        "Группа: БИВТ-22-СП-3\n",
        "\n",
        "Отправлять можно следующими способами:\n",
        "1. Запушить этот ноутбук в GitHub в репозиторий, где у вас лежат ноутбуки с лабами\n",
        "\n",
        "Deadlines:\n",
        "- Занятие №6 в семестре (Занятие №2 очное)\n",
        "\n",
        "Что необходимо сделать:  \n",
        "**В общих чертах просто провести EDA** (но обычно это не бывает просто)\n",
        "## Читайте задание внимательно\n",
        "\n",
        "Исходные данные:\n",
        "1. В [табличке](https://docs.google.com/spreadsheets/d/1k2MYXEp_OVQrink_XRC1PwoM0ZuNMeNz4VTWY7cI3hE/edit?usp=sharing) необходимо узнать название своего датасета\n",
        "2. Скачать нужны вам данные можно в [Google Drive](https://drive.google.com/drive/folders/1Phm-Fq1GL-VX7NS-DCEMRh_Fo1wU7DQ9?usp=sharing)\n",
        "  \n",
        "---\n",
        "Теперь по пунктам, что я от вас жду:  \n",
        "1. **Найти** в таблице (из исходных данных) название своего датасета\n",
        "2. **Описать** кратко постановку задачи, что от вас хотят. Какие есть переменные. Целевое событие непрерывно (предсказываем число от -$\\infty$ до $\\infty$) либо дискретно (предсказываем класс из конечного множества вариантов, например 0 или 1, или какое-то число в диапазоне [0; 10])\n",
        "3. Построить распределение целевой переменной в виде гистограммы, сделать промежуточные выводы (обратите внимание на однородоность распределения и возможный дисбаланс). Посчитайте количество уникальных значений целевой переменной.\n",
        "4. Выведите основные статистики по переменным в датасете (для этого есть готовый метод в pandas, он считает count, min, max, mean, 25%, 50% и пр.). Это делается **одним** методом (вы его знаете).\n",
        "5. Выведите основную информацию по датасету (сколько всего колонок, каких они типов, сколько в них non-null элементов). Это делается **одним** методом (вы его знаете).\n",
        "6. Посчитайте количество пропусков (NaN, Null, null, None) элементов во всех колонках. Предположите, почему эти пропуски могли возникнуть, и как их можно было бы заменить.\n",
        "7. Постройте гистограммы 5 любых признаков (из множества `X`, или как оно изначально у нас называется `data.data`). Если видите какое-то смещение, несимметричность и прочее, опишите это словами в ноутбуке.\n",
        "8. Постройте графики зависимости 5 любых (на ваш выбор) переменных от целевой переменной (если переменных меньше, чем 5, то сделайте столько, сколько получится). Сделайте вывод, можно ли использовать эти переменные для прогнозирования целевой переменной (иначе говоря, есть ли какая-то взаимосвязь между y-переменной и X-переменной)  \n",
        "9. _extra_ (необязательно). Посмотрите на зависимость двух переменных одновременно от целевой переменной. То есть по оси OX должна быть переменная $X_{n}$, по оси OY -- переменная $X_{k}$. И у вас будет две кривые (два облака точек) в разрезе целевой переменной. Либо вы можете построить похожее для категориальных признаков, но необходимо будет прочитать про heatmap.\n",
        "\n",
        "---\n",
        "P.S.  \n",
        "Просьба -- делать каждое задание в отдельных ячейках и с отдельными заголовками (как пункт 1 и 2 в этом ноутбуке) типа  \n",
        "- Заголовок\n",
        "- Ячейки с кодом\n",
        "- Другой заголовок\n",
        "- Другие ячейки с кодом"
      ]
    },
    {
      "cell_type": "markdown",
      "id": "28b51062",
      "metadata": {
        "id": "28b51062"
      },
      "source": [
        "## 1. Импорт данных\n",
        "Датасет spotify-2023"
      ]
    },
    {
      "cell_type": "code",
      "execution_count": 1,
      "id": "406597a7",
      "metadata": {
        "colab": {
          "base_uri": "https://localhost:8080/",
          "height": 635
        },
        "id": "406597a7",
        "outputId": "79d24e46-21ac-4b43-e6d0-f639aa106adf"
      },
      "outputs": [
        {
          "output_type": "stream",
          "name": "stdout",
          "text": [
            "Mounted at /content/drive\n"
          ]
        },
        {
          "output_type": "execute_result",
          "data": {
            "text/plain": [
              "                              track_name      artist(s)_name  artist_count  \\\n",
              "0    Seven (feat. Latto) (Explicit Ver.)    Latto, Jung Kook             2   \n",
              "1                                   LALA         Myke Towers             1   \n",
              "2                                vampire      Olivia Rodrigo             1   \n",
              "3                           Cruel Summer        Taylor Swift             1   \n",
              "4                         WHERE SHE GOES           Bad Bunny             1   \n",
              "..                                   ...                 ...           ...   \n",
              "948                         My Mind & Me        Selena Gomez             1   \n",
              "949            Bigger Than The Whole Sky        Taylor Swift             1   \n",
              "950                 A Veces (feat. Feid)  Feid, Paulo Londra             2   \n",
              "951                        En La De Ella  Feid, Sech, Jhayco             3   \n",
              "952                                Alone           Burna Boy             1   \n",
              "\n",
              "     released_year  released_month  released_day  in_spotify_playlists  \\\n",
              "0             2023               7            14                   553   \n",
              "1             2023               3            23                  1474   \n",
              "2             2023               6            30                  1397   \n",
              "3             2019               8            23                  7858   \n",
              "4             2023               5            18                  3133   \n",
              "..             ...             ...           ...                   ...   \n",
              "948           2022              11             3                   953   \n",
              "949           2022              10            21                  1180   \n",
              "950           2022              11             3                   573   \n",
              "951           2022              10            20                  1320   \n",
              "952           2022              11             4                   782   \n",
              "\n",
              "     in_spotify_charts    streams  in_apple_playlists  ...  bpm key   mode  \\\n",
              "0                  147  141381703                  43  ...  125   B  Major   \n",
              "1                   48  133716286                  48  ...   92  C#  Major   \n",
              "2                  113  140003974                  94  ...  138   F  Major   \n",
              "3                  100  800840817                 116  ...  170   A  Major   \n",
              "4                   50  303236322                  84  ...  144   A  Minor   \n",
              "..                 ...        ...                 ...  ...  ...  ..    ...   \n",
              "948                  0   91473363                  61  ...  144   A  Major   \n",
              "949                  0  121871870                   4  ...  166  F#  Major   \n",
              "950                  0   73513683                   2  ...   92  C#  Major   \n",
              "951                  0  133895612                  29  ...   97  C#  Major   \n",
              "952                  2   96007391                  27  ...   90   E  Minor   \n",
              "\n",
              "    danceability_%  valence_% energy_% acousticness_%  instrumentalness_%  \\\n",
              "0               80         89       83             31                   0   \n",
              "1               71         61       74              7                   0   \n",
              "2               51         32       53             17                   0   \n",
              "3               55         58       72             11                   0   \n",
              "4               65         23       80             14                  63   \n",
              "..             ...        ...      ...            ...                 ...   \n",
              "948             60         24       39             57                   0   \n",
              "949             42          7       24             83                   1   \n",
              "950             80         81       67              4                   0   \n",
              "951             82         67       77              8                   0   \n",
              "952             61         32       67             15                   0   \n",
              "\n",
              "     liveness_%  speechiness_%  \n",
              "0             8              4  \n",
              "1            10              4  \n",
              "2            31              6  \n",
              "3            11             15  \n",
              "4            11              6  \n",
              "..          ...            ...  \n",
              "948           8              3  \n",
              "949          12              6  \n",
              "950           8              6  \n",
              "951          12              5  \n",
              "952          11              5  \n",
              "\n",
              "[953 rows x 24 columns]"
            ],
            "text/html": [
              "\n",
              "  <div id=\"df-ff6f09d6-6d32-41b7-a9fe-7bc950934592\" class=\"colab-df-container\">\n",
              "    <div>\n",
              "<style scoped>\n",
              "    .dataframe tbody tr th:only-of-type {\n",
              "        vertical-align: middle;\n",
              "    }\n",
              "\n",
              "    .dataframe tbody tr th {\n",
              "        vertical-align: top;\n",
              "    }\n",
              "\n",
              "    .dataframe thead th {\n",
              "        text-align: right;\n",
              "    }\n",
              "</style>\n",
              "<table border=\"1\" class=\"dataframe\">\n",
              "  <thead>\n",
              "    <tr style=\"text-align: right;\">\n",
              "      <th></th>\n",
              "      <th>track_name</th>\n",
              "      <th>artist(s)_name</th>\n",
              "      <th>artist_count</th>\n",
              "      <th>released_year</th>\n",
              "      <th>released_month</th>\n",
              "      <th>released_day</th>\n",
              "      <th>in_spotify_playlists</th>\n",
              "      <th>in_spotify_charts</th>\n",
              "      <th>streams</th>\n",
              "      <th>in_apple_playlists</th>\n",
              "      <th>...</th>\n",
              "      <th>bpm</th>\n",
              "      <th>key</th>\n",
              "      <th>mode</th>\n",
              "      <th>danceability_%</th>\n",
              "      <th>valence_%</th>\n",
              "      <th>energy_%</th>\n",
              "      <th>acousticness_%</th>\n",
              "      <th>instrumentalness_%</th>\n",
              "      <th>liveness_%</th>\n",
              "      <th>speechiness_%</th>\n",
              "    </tr>\n",
              "  </thead>\n",
              "  <tbody>\n",
              "    <tr>\n",
              "      <th>0</th>\n",
              "      <td>Seven (feat. Latto) (Explicit Ver.)</td>\n",
              "      <td>Latto, Jung Kook</td>\n",
              "      <td>2</td>\n",
              "      <td>2023</td>\n",
              "      <td>7</td>\n",
              "      <td>14</td>\n",
              "      <td>553</td>\n",
              "      <td>147</td>\n",
              "      <td>141381703</td>\n",
              "      <td>43</td>\n",
              "      <td>...</td>\n",
              "      <td>125</td>\n",
              "      <td>B</td>\n",
              "      <td>Major</td>\n",
              "      <td>80</td>\n",
              "      <td>89</td>\n",
              "      <td>83</td>\n",
              "      <td>31</td>\n",
              "      <td>0</td>\n",
              "      <td>8</td>\n",
              "      <td>4</td>\n",
              "    </tr>\n",
              "    <tr>\n",
              "      <th>1</th>\n",
              "      <td>LALA</td>\n",
              "      <td>Myke Towers</td>\n",
              "      <td>1</td>\n",
              "      <td>2023</td>\n",
              "      <td>3</td>\n",
              "      <td>23</td>\n",
              "      <td>1474</td>\n",
              "      <td>48</td>\n",
              "      <td>133716286</td>\n",
              "      <td>48</td>\n",
              "      <td>...</td>\n",
              "      <td>92</td>\n",
              "      <td>C#</td>\n",
              "      <td>Major</td>\n",
              "      <td>71</td>\n",
              "      <td>61</td>\n",
              "      <td>74</td>\n",
              "      <td>7</td>\n",
              "      <td>0</td>\n",
              "      <td>10</td>\n",
              "      <td>4</td>\n",
              "    </tr>\n",
              "    <tr>\n",
              "      <th>2</th>\n",
              "      <td>vampire</td>\n",
              "      <td>Olivia Rodrigo</td>\n",
              "      <td>1</td>\n",
              "      <td>2023</td>\n",
              "      <td>6</td>\n",
              "      <td>30</td>\n",
              "      <td>1397</td>\n",
              "      <td>113</td>\n",
              "      <td>140003974</td>\n",
              "      <td>94</td>\n",
              "      <td>...</td>\n",
              "      <td>138</td>\n",
              "      <td>F</td>\n",
              "      <td>Major</td>\n",
              "      <td>51</td>\n",
              "      <td>32</td>\n",
              "      <td>53</td>\n",
              "      <td>17</td>\n",
              "      <td>0</td>\n",
              "      <td>31</td>\n",
              "      <td>6</td>\n",
              "    </tr>\n",
              "    <tr>\n",
              "      <th>3</th>\n",
              "      <td>Cruel Summer</td>\n",
              "      <td>Taylor Swift</td>\n",
              "      <td>1</td>\n",
              "      <td>2019</td>\n",
              "      <td>8</td>\n",
              "      <td>23</td>\n",
              "      <td>7858</td>\n",
              "      <td>100</td>\n",
              "      <td>800840817</td>\n",
              "      <td>116</td>\n",
              "      <td>...</td>\n",
              "      <td>170</td>\n",
              "      <td>A</td>\n",
              "      <td>Major</td>\n",
              "      <td>55</td>\n",
              "      <td>58</td>\n",
              "      <td>72</td>\n",
              "      <td>11</td>\n",
              "      <td>0</td>\n",
              "      <td>11</td>\n",
              "      <td>15</td>\n",
              "    </tr>\n",
              "    <tr>\n",
              "      <th>4</th>\n",
              "      <td>WHERE SHE GOES</td>\n",
              "      <td>Bad Bunny</td>\n",
              "      <td>1</td>\n",
              "      <td>2023</td>\n",
              "      <td>5</td>\n",
              "      <td>18</td>\n",
              "      <td>3133</td>\n",
              "      <td>50</td>\n",
              "      <td>303236322</td>\n",
              "      <td>84</td>\n",
              "      <td>...</td>\n",
              "      <td>144</td>\n",
              "      <td>A</td>\n",
              "      <td>Minor</td>\n",
              "      <td>65</td>\n",
              "      <td>23</td>\n",
              "      <td>80</td>\n",
              "      <td>14</td>\n",
              "      <td>63</td>\n",
              "      <td>11</td>\n",
              "      <td>6</td>\n",
              "    </tr>\n",
              "    <tr>\n",
              "      <th>...</th>\n",
              "      <td>...</td>\n",
              "      <td>...</td>\n",
              "      <td>...</td>\n",
              "      <td>...</td>\n",
              "      <td>...</td>\n",
              "      <td>...</td>\n",
              "      <td>...</td>\n",
              "      <td>...</td>\n",
              "      <td>...</td>\n",
              "      <td>...</td>\n",
              "      <td>...</td>\n",
              "      <td>...</td>\n",
              "      <td>...</td>\n",
              "      <td>...</td>\n",
              "      <td>...</td>\n",
              "      <td>...</td>\n",
              "      <td>...</td>\n",
              "      <td>...</td>\n",
              "      <td>...</td>\n",
              "      <td>...</td>\n",
              "      <td>...</td>\n",
              "    </tr>\n",
              "    <tr>\n",
              "      <th>948</th>\n",
              "      <td>My Mind &amp; Me</td>\n",
              "      <td>Selena Gomez</td>\n",
              "      <td>1</td>\n",
              "      <td>2022</td>\n",
              "      <td>11</td>\n",
              "      <td>3</td>\n",
              "      <td>953</td>\n",
              "      <td>0</td>\n",
              "      <td>91473363</td>\n",
              "      <td>61</td>\n",
              "      <td>...</td>\n",
              "      <td>144</td>\n",
              "      <td>A</td>\n",
              "      <td>Major</td>\n",
              "      <td>60</td>\n",
              "      <td>24</td>\n",
              "      <td>39</td>\n",
              "      <td>57</td>\n",
              "      <td>0</td>\n",
              "      <td>8</td>\n",
              "      <td>3</td>\n",
              "    </tr>\n",
              "    <tr>\n",
              "      <th>949</th>\n",
              "      <td>Bigger Than The Whole Sky</td>\n",
              "      <td>Taylor Swift</td>\n",
              "      <td>1</td>\n",
              "      <td>2022</td>\n",
              "      <td>10</td>\n",
              "      <td>21</td>\n",
              "      <td>1180</td>\n",
              "      <td>0</td>\n",
              "      <td>121871870</td>\n",
              "      <td>4</td>\n",
              "      <td>...</td>\n",
              "      <td>166</td>\n",
              "      <td>F#</td>\n",
              "      <td>Major</td>\n",
              "      <td>42</td>\n",
              "      <td>7</td>\n",
              "      <td>24</td>\n",
              "      <td>83</td>\n",
              "      <td>1</td>\n",
              "      <td>12</td>\n",
              "      <td>6</td>\n",
              "    </tr>\n",
              "    <tr>\n",
              "      <th>950</th>\n",
              "      <td>A Veces (feat. Feid)</td>\n",
              "      <td>Feid, Paulo Londra</td>\n",
              "      <td>2</td>\n",
              "      <td>2022</td>\n",
              "      <td>11</td>\n",
              "      <td>3</td>\n",
              "      <td>573</td>\n",
              "      <td>0</td>\n",
              "      <td>73513683</td>\n",
              "      <td>2</td>\n",
              "      <td>...</td>\n",
              "      <td>92</td>\n",
              "      <td>C#</td>\n",
              "      <td>Major</td>\n",
              "      <td>80</td>\n",
              "      <td>81</td>\n",
              "      <td>67</td>\n",
              "      <td>4</td>\n",
              "      <td>0</td>\n",
              "      <td>8</td>\n",
              "      <td>6</td>\n",
              "    </tr>\n",
              "    <tr>\n",
              "      <th>951</th>\n",
              "      <td>En La De Ella</td>\n",
              "      <td>Feid, Sech, Jhayco</td>\n",
              "      <td>3</td>\n",
              "      <td>2022</td>\n",
              "      <td>10</td>\n",
              "      <td>20</td>\n",
              "      <td>1320</td>\n",
              "      <td>0</td>\n",
              "      <td>133895612</td>\n",
              "      <td>29</td>\n",
              "      <td>...</td>\n",
              "      <td>97</td>\n",
              "      <td>C#</td>\n",
              "      <td>Major</td>\n",
              "      <td>82</td>\n",
              "      <td>67</td>\n",
              "      <td>77</td>\n",
              "      <td>8</td>\n",
              "      <td>0</td>\n",
              "      <td>12</td>\n",
              "      <td>5</td>\n",
              "    </tr>\n",
              "    <tr>\n",
              "      <th>952</th>\n",
              "      <td>Alone</td>\n",
              "      <td>Burna Boy</td>\n",
              "      <td>1</td>\n",
              "      <td>2022</td>\n",
              "      <td>11</td>\n",
              "      <td>4</td>\n",
              "      <td>782</td>\n",
              "      <td>2</td>\n",
              "      <td>96007391</td>\n",
              "      <td>27</td>\n",
              "      <td>...</td>\n",
              "      <td>90</td>\n",
              "      <td>E</td>\n",
              "      <td>Minor</td>\n",
              "      <td>61</td>\n",
              "      <td>32</td>\n",
              "      <td>67</td>\n",
              "      <td>15</td>\n",
              "      <td>0</td>\n",
              "      <td>11</td>\n",
              "      <td>5</td>\n",
              "    </tr>\n",
              "  </tbody>\n",
              "</table>\n",
              "<p>953 rows × 24 columns</p>\n",
              "</div>\n",
              "    <div class=\"colab-df-buttons\">\n",
              "\n",
              "  <div class=\"colab-df-container\">\n",
              "    <button class=\"colab-df-convert\" onclick=\"convertToInteractive('df-ff6f09d6-6d32-41b7-a9fe-7bc950934592')\"\n",
              "            title=\"Convert this dataframe to an interactive table.\"\n",
              "            style=\"display:none;\">\n",
              "\n",
              "  <svg xmlns=\"http://www.w3.org/2000/svg\" height=\"24px\" viewBox=\"0 -960 960 960\">\n",
              "    <path d=\"M120-120v-720h720v720H120Zm60-500h600v-160H180v160Zm220 220h160v-160H400v160Zm0 220h160v-160H400v160ZM180-400h160v-160H180v160Zm440 0h160v-160H620v160ZM180-180h160v-160H180v160Zm440 0h160v-160H620v160Z\"/>\n",
              "  </svg>\n",
              "    </button>\n",
              "\n",
              "  <style>\n",
              "    .colab-df-container {\n",
              "      display:flex;\n",
              "      gap: 12px;\n",
              "    }\n",
              "\n",
              "    .colab-df-convert {\n",
              "      background-color: #E8F0FE;\n",
              "      border: none;\n",
              "      border-radius: 50%;\n",
              "      cursor: pointer;\n",
              "      display: none;\n",
              "      fill: #1967D2;\n",
              "      height: 32px;\n",
              "      padding: 0 0 0 0;\n",
              "      width: 32px;\n",
              "    }\n",
              "\n",
              "    .colab-df-convert:hover {\n",
              "      background-color: #E2EBFA;\n",
              "      box-shadow: 0px 1px 2px rgba(60, 64, 67, 0.3), 0px 1px 3px 1px rgba(60, 64, 67, 0.15);\n",
              "      fill: #174EA6;\n",
              "    }\n",
              "\n",
              "    .colab-df-buttons div {\n",
              "      margin-bottom: 4px;\n",
              "    }\n",
              "\n",
              "    [theme=dark] .colab-df-convert {\n",
              "      background-color: #3B4455;\n",
              "      fill: #D2E3FC;\n",
              "    }\n",
              "\n",
              "    [theme=dark] .colab-df-convert:hover {\n",
              "      background-color: #434B5C;\n",
              "      box-shadow: 0px 1px 3px 1px rgba(0, 0, 0, 0.15);\n",
              "      filter: drop-shadow(0px 1px 2px rgba(0, 0, 0, 0.3));\n",
              "      fill: #FFFFFF;\n",
              "    }\n",
              "  </style>\n",
              "\n",
              "    <script>\n",
              "      const buttonEl =\n",
              "        document.querySelector('#df-ff6f09d6-6d32-41b7-a9fe-7bc950934592 button.colab-df-convert');\n",
              "      buttonEl.style.display =\n",
              "        google.colab.kernel.accessAllowed ? 'block' : 'none';\n",
              "\n",
              "      async function convertToInteractive(key) {\n",
              "        const element = document.querySelector('#df-ff6f09d6-6d32-41b7-a9fe-7bc950934592');\n",
              "        const dataTable =\n",
              "          await google.colab.kernel.invokeFunction('convertToInteractive',\n",
              "                                                    [key], {});\n",
              "        if (!dataTable) return;\n",
              "\n",
              "        const docLinkHtml = 'Like what you see? Visit the ' +\n",
              "          '<a target=\"_blank\" href=https://colab.research.google.com/notebooks/data_table.ipynb>data table notebook</a>'\n",
              "          + ' to learn more about interactive tables.';\n",
              "        element.innerHTML = '';\n",
              "        dataTable['output_type'] = 'display_data';\n",
              "        await google.colab.output.renderOutput(dataTable, element);\n",
              "        const docLink = document.createElement('div');\n",
              "        docLink.innerHTML = docLinkHtml;\n",
              "        element.appendChild(docLink);\n",
              "      }\n",
              "    </script>\n",
              "  </div>\n",
              "\n",
              "\n",
              "<div id=\"df-de61b513-2355-41fc-981d-6cb191fc7c89\">\n",
              "  <button class=\"colab-df-quickchart\" onclick=\"quickchart('df-de61b513-2355-41fc-981d-6cb191fc7c89')\"\n",
              "            title=\"Suggest charts\"\n",
              "            style=\"display:none;\">\n",
              "\n",
              "<svg xmlns=\"http://www.w3.org/2000/svg\" height=\"24px\"viewBox=\"0 0 24 24\"\n",
              "     width=\"24px\">\n",
              "    <g>\n",
              "        <path d=\"M19 3H5c-1.1 0-2 .9-2 2v14c0 1.1.9 2 2 2h14c1.1 0 2-.9 2-2V5c0-1.1-.9-2-2-2zM9 17H7v-7h2v7zm4 0h-2V7h2v10zm4 0h-2v-4h2v4z\"/>\n",
              "    </g>\n",
              "</svg>\n",
              "  </button>\n",
              "\n",
              "<style>\n",
              "  .colab-df-quickchart {\n",
              "      --bg-color: #E8F0FE;\n",
              "      --fill-color: #1967D2;\n",
              "      --hover-bg-color: #E2EBFA;\n",
              "      --hover-fill-color: #174EA6;\n",
              "      --disabled-fill-color: #AAA;\n",
              "      --disabled-bg-color: #DDD;\n",
              "  }\n",
              "\n",
              "  [theme=dark] .colab-df-quickchart {\n",
              "      --bg-color: #3B4455;\n",
              "      --fill-color: #D2E3FC;\n",
              "      --hover-bg-color: #434B5C;\n",
              "      --hover-fill-color: #FFFFFF;\n",
              "      --disabled-bg-color: #3B4455;\n",
              "      --disabled-fill-color: #666;\n",
              "  }\n",
              "\n",
              "  .colab-df-quickchart {\n",
              "    background-color: var(--bg-color);\n",
              "    border: none;\n",
              "    border-radius: 50%;\n",
              "    cursor: pointer;\n",
              "    display: none;\n",
              "    fill: var(--fill-color);\n",
              "    height: 32px;\n",
              "    padding: 0;\n",
              "    width: 32px;\n",
              "  }\n",
              "\n",
              "  .colab-df-quickchart:hover {\n",
              "    background-color: var(--hover-bg-color);\n",
              "    box-shadow: 0 1px 2px rgba(60, 64, 67, 0.3), 0 1px 3px 1px rgba(60, 64, 67, 0.15);\n",
              "    fill: var(--button-hover-fill-color);\n",
              "  }\n",
              "\n",
              "  .colab-df-quickchart-complete:disabled,\n",
              "  .colab-df-quickchart-complete:disabled:hover {\n",
              "    background-color: var(--disabled-bg-color);\n",
              "    fill: var(--disabled-fill-color);\n",
              "    box-shadow: none;\n",
              "  }\n",
              "\n",
              "  .colab-df-spinner {\n",
              "    border: 2px solid var(--fill-color);\n",
              "    border-color: transparent;\n",
              "    border-bottom-color: var(--fill-color);\n",
              "    animation:\n",
              "      spin 1s steps(1) infinite;\n",
              "  }\n",
              "\n",
              "  @keyframes spin {\n",
              "    0% {\n",
              "      border-color: transparent;\n",
              "      border-bottom-color: var(--fill-color);\n",
              "      border-left-color: var(--fill-color);\n",
              "    }\n",
              "    20% {\n",
              "      border-color: transparent;\n",
              "      border-left-color: var(--fill-color);\n",
              "      border-top-color: var(--fill-color);\n",
              "    }\n",
              "    30% {\n",
              "      border-color: transparent;\n",
              "      border-left-color: var(--fill-color);\n",
              "      border-top-color: var(--fill-color);\n",
              "      border-right-color: var(--fill-color);\n",
              "    }\n",
              "    40% {\n",
              "      border-color: transparent;\n",
              "      border-right-color: var(--fill-color);\n",
              "      border-top-color: var(--fill-color);\n",
              "    }\n",
              "    60% {\n",
              "      border-color: transparent;\n",
              "      border-right-color: var(--fill-color);\n",
              "    }\n",
              "    80% {\n",
              "      border-color: transparent;\n",
              "      border-right-color: var(--fill-color);\n",
              "      border-bottom-color: var(--fill-color);\n",
              "    }\n",
              "    90% {\n",
              "      border-color: transparent;\n",
              "      border-bottom-color: var(--fill-color);\n",
              "    }\n",
              "  }\n",
              "</style>\n",
              "\n",
              "  <script>\n",
              "    async function quickchart(key) {\n",
              "      const quickchartButtonEl =\n",
              "        document.querySelector('#' + key + ' button');\n",
              "      quickchartButtonEl.disabled = true;  // To prevent multiple clicks.\n",
              "      quickchartButtonEl.classList.add('colab-df-spinner');\n",
              "      try {\n",
              "        const charts = await google.colab.kernel.invokeFunction(\n",
              "            'suggestCharts', [key], {});\n",
              "      } catch (error) {\n",
              "        console.error('Error during call to suggestCharts:', error);\n",
              "      }\n",
              "      quickchartButtonEl.classList.remove('colab-df-spinner');\n",
              "      quickchartButtonEl.classList.add('colab-df-quickchart-complete');\n",
              "    }\n",
              "    (() => {\n",
              "      let quickchartButtonEl =\n",
              "        document.querySelector('#df-de61b513-2355-41fc-981d-6cb191fc7c89 button');\n",
              "      quickchartButtonEl.style.display =\n",
              "        google.colab.kernel.accessAllowed ? 'block' : 'none';\n",
              "    })();\n",
              "  </script>\n",
              "</div>\n",
              "    </div>\n",
              "  </div>\n"
            ],
            "application/vnd.google.colaboratory.intrinsic+json": {
              "type": "dataframe",
              "variable_name": "data"
            }
          },
          "metadata": {},
          "execution_count": 1
        }
      ],
      "source": [
        "import pandas as pd\n",
        "import matplotlib.pyplot as plt\n",
        "import numpy as np\n",
        "from google.colab import drive\n",
        "drive.mount('/content/drive')\n",
        "url = '/content/drive/My Drive/spotify-2023.csv'\n",
        "data = pd.read_csv(url, sep=',', encoding='latin-1')\n",
        "data"
      ]
    },
    {
      "cell_type": "markdown",
      "id": "0d119028",
      "metadata": {
        "id": "0d119028"
      },
      "source": [
        "## 2. Описание постановки задачи"
      ]
    },
    {
      "cell_type": "code",
      "execution_count": 2,
      "id": "d92464d0",
      "metadata": {
        "colab": {
          "base_uri": "https://localhost:8080/"
        },
        "id": "d92464d0",
        "outputId": "a0cd7654-9805-478d-ca25-185960bc2faf"
      },
      "outputs": [
        {
          "output_type": "execute_result",
          "data": {
            "text/plain": [
              "Index(['track_name', 'artist(s)_name', 'artist_count', 'released_year',\n",
              "       'released_month', 'released_day', 'in_spotify_playlists',\n",
              "       'in_spotify_charts', 'streams', 'in_apple_playlists', 'in_apple_charts',\n",
              "       'in_deezer_playlists', 'in_deezer_charts', 'in_shazam_charts', 'bpm',\n",
              "       'key', 'mode', 'danceability_%', 'valence_%', 'energy_%',\n",
              "       'acousticness_%', 'instrumentalness_%', 'liveness_%', 'speechiness_%'],\n",
              "      dtype='object')"
            ]
          },
          "metadata": {},
          "execution_count": 2
        }
      ],
      "source": [
        "data.columns"
      ]
    },
    {
      "cell_type": "markdown",
      "source": [
        "Примем streams за целевую переменную (y). Тогда задача регрессии будет следующей:\n",
        "**Цель:** предсказать целевую переменную, которая характеризует популярность трека на основе его признаков (x), таких как:\n",
        "\n"
      ],
      "metadata": {
        "id": "g4lPHFxwww_K"
      },
      "id": "g4lPHFxwww_K"
    },
    {
      "cell_type": "markdown",
      "source": [
        "**Цель:**\n",
        " предсказать целевую переменную, которая характеризует популярность трека или его востребованность среди слушателей."
      ],
      "metadata": {
        "id": "_yxiEMkL8tZ_"
      },
      "id": "_yxiEMkL8tZ_"
    },
    {
      "cell_type": "markdown",
      "source": [
        "**Переменные в датасете:**\n",
        "\n",
        "Основные атрибуты трека:\n",
        "track_name\n",
        "artist(s)_name\n",
        "artist_count\n",
        "\n",
        "Дата выхода трека: released_year, released_month, released_day\n",
        "\n",
        "Информация о нахождении в плейлистах и чартах:\n",
        "in_spotify_playlists, in_spotify_charts, in_apple_playlists, in_apple_charts, in_deezer_playlists, in_deezer_charts, in_shazam_charts\n",
        "\n",
        "Количество прослушиваний: streams\n",
        "\n",
        "Аудиохарактеристики трека: bpm,\n",
        "key, mode,\n",
        "danceability_%, valence_%, energy_%, acousticness_%, instrumentalness_%, liveness_%, speechiness_%\n",
        "\n"
      ],
      "metadata": {
        "id": "lJnPVlT37qd9"
      },
      "id": "lJnPVlT37qd9"
    },
    {
      "cell_type": "markdown",
      "source": [
        "**Целевая переменная** - streams (предсказание числа стримов) - является непрерывной числовой переменной, так как ее значения могут меняться от 0 до +беск."
      ],
      "metadata": {
        "id": "Ices-wYb81rX"
      },
      "id": "Ices-wYb81rX"
    },
    {
      "cell_type": "markdown",
      "id": "34931f43",
      "metadata": {
        "id": "34931f43"
      },
      "source": [
        "## 3. Распределение целевой переменной"
      ]
    },
    {
      "cell_type": "code",
      "source": [
        "data['streams']"
      ],
      "metadata": {
        "id": "Bk48V94h_vtQ",
        "outputId": "b1714fa3-c0f9-42d1-ee34-5598cf276a76",
        "colab": {
          "base_uri": "https://localhost:8080/",
          "height": 458
        }
      },
      "id": "Bk48V94h_vtQ",
      "execution_count": 3,
      "outputs": [
        {
          "output_type": "execute_result",
          "data": {
            "text/plain": [
              "0      141381703\n",
              "1      133716286\n",
              "2      140003974\n",
              "3      800840817\n",
              "4      303236322\n",
              "         ...    \n",
              "948     91473363\n",
              "949    121871870\n",
              "950     73513683\n",
              "951    133895612\n",
              "952     96007391\n",
              "Name: streams, Length: 953, dtype: object"
            ],
            "text/html": [
              "<div>\n",
              "<style scoped>\n",
              "    .dataframe tbody tr th:only-of-type {\n",
              "        vertical-align: middle;\n",
              "    }\n",
              "\n",
              "    .dataframe tbody tr th {\n",
              "        vertical-align: top;\n",
              "    }\n",
              "\n",
              "    .dataframe thead th {\n",
              "        text-align: right;\n",
              "    }\n",
              "</style>\n",
              "<table border=\"1\" class=\"dataframe\">\n",
              "  <thead>\n",
              "    <tr style=\"text-align: right;\">\n",
              "      <th></th>\n",
              "      <th>streams</th>\n",
              "    </tr>\n",
              "  </thead>\n",
              "  <tbody>\n",
              "    <tr>\n",
              "      <th>0</th>\n",
              "      <td>141381703</td>\n",
              "    </tr>\n",
              "    <tr>\n",
              "      <th>1</th>\n",
              "      <td>133716286</td>\n",
              "    </tr>\n",
              "    <tr>\n",
              "      <th>2</th>\n",
              "      <td>140003974</td>\n",
              "    </tr>\n",
              "    <tr>\n",
              "      <th>3</th>\n",
              "      <td>800840817</td>\n",
              "    </tr>\n",
              "    <tr>\n",
              "      <th>4</th>\n",
              "      <td>303236322</td>\n",
              "    </tr>\n",
              "    <tr>\n",
              "      <th>...</th>\n",
              "      <td>...</td>\n",
              "    </tr>\n",
              "    <tr>\n",
              "      <th>948</th>\n",
              "      <td>91473363</td>\n",
              "    </tr>\n",
              "    <tr>\n",
              "      <th>949</th>\n",
              "      <td>121871870</td>\n",
              "    </tr>\n",
              "    <tr>\n",
              "      <th>950</th>\n",
              "      <td>73513683</td>\n",
              "    </tr>\n",
              "    <tr>\n",
              "      <th>951</th>\n",
              "      <td>133895612</td>\n",
              "    </tr>\n",
              "    <tr>\n",
              "      <th>952</th>\n",
              "      <td>96007391</td>\n",
              "    </tr>\n",
              "  </tbody>\n",
              "</table>\n",
              "<p>953 rows × 1 columns</p>\n",
              "</div><br><label><b>dtype:</b> object</label>"
            ]
          },
          "metadata": {},
          "execution_count": 3
        }
      ]
    },
    {
      "cell_type": "markdown",
      "source": [
        "Распределение целевой переменной в виде гистограммы:"
      ],
      "metadata": {
        "id": "flcwoMm39RIf"
      },
      "id": "flcwoMm39RIf"
    },
    {
      "cell_type": "code",
      "source": [
        "data['streams'] = pd.to_numeric(data['streams'], errors='coerce')\n",
        "data[\"streams\"].hist()"
      ],
      "metadata": {
        "id": "WGrlThmrHCHZ",
        "outputId": "bc30461f-7365-4385-d278-d1e739e6dd17",
        "colab": {
          "base_uri": "https://localhost:8080/",
          "height": 466
        }
      },
      "id": "WGrlThmrHCHZ",
      "execution_count": 4,
      "outputs": [
        {
          "output_type": "execute_result",
          "data": {
            "text/plain": [
              "<Axes: >"
            ]
          },
          "metadata": {},
          "execution_count": 4
        },
        {
          "output_type": "display_data",
          "data": {
            "text/plain": [
              "<Figure size 640x480 with 1 Axes>"
            ],
            "image/png": "[encoded data removed]"
          },
          "metadata": {}
        }
      ]
    },
    {
      "cell_type": "markdown",
      "source": [
        "По графику видно, что большая часть значений целевой переменной располагается в диапазоне ближе к 0.\n",
        "\n",
        "Данные не однородны.\n",
        "\n",
        "Данные не сбалансированы, так как популярные треки бывают редко.\n"
      ],
      "metadata": {
        "id": "udt0z24y9V79"
      },
      "id": "udt0z24y9V79"
    },
    {
      "cell_type": "code",
      "source": [
        "data['streams'].nunique()"
      ],
      "metadata": {
        "id": "d7B0-frNJ-gv",
        "outputId": "0ef9afa4-36f4-419d-c19e-8d3010fe3227",
        "colab": {
          "base_uri": "https://localhost:8080/"
        }
      },
      "id": "d7B0-frNJ-gv",
      "execution_count": 7,
      "outputs": [
        {
          "output_type": "execute_result",
          "data": {
            "text/plain": [
              "948"
            ]
          },
          "metadata": {},
          "execution_count": 7
        }
      ]
    },
    {
      "cell_type": "markdown",
      "source": [
        "Большое количество уникальных значений подтверждает непрерывность переменной"
      ],
      "metadata": {
        "id": "aXWbj7CUKW2G"
      },
      "id": "aXWbj7CUKW2G"
    },
    {
      "cell_type": "markdown",
      "source": [
        "# 4.Основные статистики по переменным"
      ],
      "metadata": {
        "id": "WxXCa425K60t"
      },
      "id": "WxXCa425K60t"
    },
    {
      "cell_type": "code",
      "source": [
        "data.describe()"
      ],
      "metadata": {
        "id": "5AYP-KNNLJI1",
        "outputId": "564e5957-9ea0-4641-d36b-5e2eb6623cbc",
        "colab": {
          "base_uri": "https://localhost:8080/",
          "height": 320
        }
      },
      "id": "5AYP-KNNLJI1",
      "execution_count": 8,
      "outputs": [
        {
          "output_type": "execute_result",
          "data": {
            "text/plain": [
              "       artist_count  released_year  released_month  released_day  \\\n",
              "count    953.000000     953.000000      953.000000    953.000000   \n",
              "mean       1.556139    2018.238195        6.033578     13.930745   \n",
              "std        0.893044      11.116218        3.566435      9.201949   \n",
              "min        1.000000    1930.000000        1.000000      1.000000   \n",
              "25%        1.000000    2020.000000        3.000000      6.000000   \n",
              "50%        1.000000    2022.000000        6.000000     13.000000   \n",
              "75%        2.000000    2022.000000        9.000000     22.000000   \n",
              "max        8.000000    2023.000000       12.000000     31.000000   \n",
              "\n",
              "       in_spotify_playlists  in_spotify_charts       streams  \\\n",
              "count            953.000000         953.000000  9.520000e+02   \n",
              "mean            5200.124869          12.009444  5.141374e+08   \n",
              "std             7897.608990          19.575992  5.668569e+08   \n",
              "min               31.000000           0.000000  2.762000e+03   \n",
              "25%              875.000000           0.000000  1.416362e+08   \n",
              "50%             2224.000000           3.000000  2.905309e+08   \n",
              "75%             5542.000000          16.000000  6.738690e+08   \n",
              "max            52898.000000         147.000000  3.703895e+09   \n",
              "\n",
              "       in_apple_playlists  in_apple_charts  in_deezer_charts         bpm  \\\n",
              "count          953.000000       953.000000        953.000000  953.000000   \n",
              "mean            67.812172        51.908709          2.666317  122.540399   \n",
              "std             86.441493        50.630241          6.035599   28.057802   \n",
              "min              0.000000         0.000000          0.000000   65.000000   \n",
              "25%             13.000000         7.000000          0.000000  100.000000   \n",
              "50%             34.000000        38.000000          0.000000  121.000000   \n",
              "75%             88.000000        87.000000          2.000000  140.000000   \n",
              "max            672.000000       275.000000         58.000000  206.000000   \n",
              "\n",
              "       danceability_%   valence_%    energy_%  acousticness_%  \\\n",
              "count       953.00000  953.000000  953.000000      953.000000   \n",
              "mean         66.96957   51.431270   64.279119       27.057712   \n",
              "std          14.63061   23.480632   16.550526       25.996077   \n",
              "min          23.00000    4.000000    9.000000        0.000000   \n",
              "25%          57.00000   32.000000   53.000000        6.000000   \n",
              "50%          69.00000   51.000000   66.000000       18.000000   \n",
              "75%          78.00000   70.000000   77.000000       43.000000   \n",
              "max          96.00000   97.000000   97.000000       97.000000   \n",
              "\n",
              "       instrumentalness_%  liveness_%  speechiness_%  \n",
              "count          953.000000  953.000000     953.000000  \n",
              "mean             1.581322   18.213012      10.131165  \n",
              "std              8.409800   13.711223       9.912888  \n",
              "min              0.000000    3.000000       2.000000  \n",
              "25%              0.000000   10.000000       4.000000  \n",
              "50%              0.000000   12.000000       6.000000  \n",
              "75%              0.000000   24.000000      11.000000  \n",
              "max             91.000000   97.000000      64.000000  "
            ],
            "text/html": [
              "\n",
              "  <div id=\"df-043b9717-c5b9-45aa-bf3d-211988381c42\" class=\"colab-df-container\">\n",
              "    <div>\n",
              "<style scoped>\n",
              "    .dataframe tbody tr th:only-of-type {\n",
              "        vertical-align: middle;\n",
              "    }\n",
              "\n",
              "    .dataframe tbody tr th {\n",
              "        vertical-align: top;\n",
              "    }\n",
              "\n",
              "    .dataframe thead th {\n",
              "        text-align: right;\n",
              "    }\n",
              "</style>\n",
              "<table border=\"1\" class=\"dataframe\">\n",
              "  <thead>\n",
              "    <tr style=\"text-align: right;\">\n",
              "      <th></th>\n",
              "      <th>artist_count</th>\n",
              "      <th>released_year</th>\n",
              "      <th>released_month</th>\n",
              "      <th>released_day</th>\n",
              "      <th>in_spotify_playlists</th>\n",
              "      <th>in_spotify_charts</th>\n",
              "      <th>streams</th>\n",
              "      <th>in_apple_playlists</th>\n",
              "      <th>in_apple_charts</th>\n",
              "      <th>in_deezer_charts</th>\n",
              "      <th>bpm</th>\n",
              "      <th>danceability_%</th>\n",
              "      <th>valence_%</th>\n",
              "      <th>energy_%</th>\n",
              "      <th>acousticness_%</th>\n",
              "      <th>instrumentalness_%</th>\n",
              "      <th>liveness_%</th>\n",
              "      <th>speechiness_%</th>\n",
              "    </tr>\n",
              "  </thead>\n",
              "  <tbody>\n",
              "    <tr>\n",
              "      <th>count</th>\n",
              "      <td>953.000000</td>\n",
              "      <td>953.000000</td>\n",
              "      <td>953.000000</td>\n",
              "      <td>953.000000</td>\n",
              "      <td>953.000000</td>\n",
              "      <td>953.000000</td>\n",
              "      <td>9.520000e+02</td>\n",
              "      <td>953.000000</td>\n",
              "      <td>953.000000</td>\n",
              "      <td>953.000000</td>\n",
              "      <td>953.000000</td>\n",
              "      <td>953.00000</td>\n",
              "      <td>953.000000</td>\n",
              "      <td>953.000000</td>\n",
              "      <td>953.000000</td>\n",
              "      <td>953.000000</td>\n",
              "      <td>953.000000</td>\n",
              "      <td>953.000000</td>\n",
              "    </tr>\n",
              "    <tr>\n",
              "      <th>mean</th>\n",
              "      <td>1.556139</td>\n",
              "      <td>2018.238195</td>\n",
              "      <td>6.033578</td>\n",
              "      <td>13.930745</td>\n",
              "      <td>5200.124869</td>\n",
              "      <td>12.009444</td>\n",
              "      <td>5.141374e+08</td>\n",
              "      <td>67.812172</td>\n",
              "      <td>51.908709</td>\n",
              "      <td>2.666317</td>\n",
              "      <td>122.540399</td>\n",
              "      <td>66.96957</td>\n",
              "      <td>51.431270</td>\n",
              "      <td>64.279119</td>\n",
              "      <td>27.057712</td>\n",
              "      <td>1.581322</td>\n",
              "      <td>18.213012</td>\n",
              "      <td>10.131165</td>\n",
              "    </tr>\n",
              "    <tr>\n",
              "      <th>std</th>\n",
              "      <td>0.893044</td>\n",
              "      <td>11.116218</td>\n",
              "      <td>3.566435</td>\n",
              "      <td>9.201949</td>\n",
              "      <td>7897.608990</td>\n",
              "      <td>19.575992</td>\n",
              "      <td>5.668569e+08</td>\n",
              "      <td>86.441493</td>\n",
              "      <td>50.630241</td>\n",
              "      <td>6.035599</td>\n",
              "      <td>28.057802</td>\n",
              "      <td>14.63061</td>\n",
              "      <td>23.480632</td>\n",
              "      <td>16.550526</td>\n",
              "      <td>25.996077</td>\n",
              "      <td>8.409800</td>\n",
              "      <td>13.711223</td>\n",
              "      <td>9.912888</td>\n",
              "    </tr>\n",
              "    <tr>\n",
              "      <th>min</th>\n",
              "      <td>1.000000</td>\n",
              "      <td>1930.000000</td>\n",
              "      <td>1.000000</td>\n",
              "      <td>1.000000</td>\n",
              "      <td>31.000000</td>\n",
              "      <td>0.000000</td>\n",
              "      <td>2.762000e+03</td>\n",
              "      <td>0.000000</td>\n",
              "      <td>0.000000</td>\n",
              "      <td>0.000000</td>\n",
              "      <td>65.000000</td>\n",
              "      <td>23.00000</td>\n",
              "      <td>4.000000</td>\n",
              "      <td>9.000000</td>\n",
              "      <td>0.000000</td>\n",
              "      <td>0.000000</td>\n",
              "      <td>3.000000</td>\n",
              "      <td>2.000000</td>\n",
              "    </tr>\n",
              "    <tr>\n",
              "      <th>25%</th>\n",
              "      <td>1.000000</td>\n",
              "      <td>2020.000000</td>\n",
              "      <td>3.000000</td>\n",
              "      <td>6.000000</td>\n",
              "      <td>875.000000</td>\n",
              "      <td>0.000000</td>\n",
              "      <td>1.416362e+08</td>\n",
              "      <td>13.000000</td>\n",
              "      <td>7.000000</td>\n",
              "      <td>0.000000</td>\n",
              "      <td>100.000000</td>\n",
              "      <td>57.00000</td>\n",
              "      <td>32.000000</td>\n",
              "      <td>53.000000</td>\n",
              "      <td>6.000000</td>\n",
              "      <td>0.000000</td>\n",
              "      <td>10.000000</td>\n",
              "      <td>4.000000</td>\n",
              "    </tr>\n",
              "    <tr>\n",
              "      <th>50%</th>\n",
              "      <td>1.000000</td>\n",
              "      <td>2022.000000</td>\n",
              "      <td>6.000000</td>\n",
              "      <td>13.000000</td>\n",
              "      <td>2224.000000</td>\n",
              "      <td>3.000000</td>\n",
              "      <td>2.905309e+08</td>\n",
              "      <td>34.000000</td>\n",
              "      <td>38.000000</td>\n",
              "      <td>0.000000</td>\n",
              "      <td>121.000000</td>\n",
              "      <td>69.00000</td>\n",
              "      <td>51.000000</td>\n",
              "      <td>66.000000</td>\n",
              "      <td>18.000000</td>\n",
              "      <td>0.000000</td>\n",
              "      <td>12.000000</td>\n",
              "      <td>6.000000</td>\n",
              "    </tr>\n",
              "    <tr>\n",
              "      <th>75%</th>\n",
              "      <td>2.000000</td>\n",
              "      <td>2022.000000</td>\n",
              "      <td>9.000000</td>\n",
              "      <td>22.000000</td>\n",
              "      <td>5542.000000</td>\n",
              "      <td>16.000000</td>\n",
              "      <td>6.738690e+08</td>\n",
              "      <td>88.000000</td>\n",
              "      <td>87.000000</td>\n",
              "      <td>2.000000</td>\n",
              "      <td>140.000000</td>\n",
              "      <td>78.00000</td>\n",
              "      <td>70.000000</td>\n",
              "      <td>77.000000</td>\n",
              "      <td>43.000000</td>\n",
              "      <td>0.000000</td>\n",
              "      <td>24.000000</td>\n",
              "      <td>11.000000</td>\n",
              "    </tr>\n",
              "    <tr>\n",
              "      <th>max</th>\n",
              "      <td>8.000000</td>\n",
              "      <td>2023.000000</td>\n",
              "      <td>12.000000</td>\n",
              "      <td>31.000000</td>\n",
              "      <td>52898.000000</td>\n",
              "      <td>147.000000</td>\n",
              "      <td>3.703895e+09</td>\n",
              "      <td>672.000000</td>\n",
              "      <td>275.000000</td>\n",
              "      <td>58.000000</td>\n",
              "      <td>206.000000</td>\n",
              "      <td>96.00000</td>\n",
              "      <td>97.000000</td>\n",
              "      <td>97.000000</td>\n",
              "      <td>97.000000</td>\n",
              "      <td>91.000000</td>\n",
              "      <td>97.000000</td>\n",
              "      <td>64.000000</td>\n",
              "    </tr>\n",
              "  </tbody>\n",
              "</table>\n",
              "</div>\n",
              "    <div class=\"colab-df-buttons\">\n",
              "\n",
              "  <div class=\"colab-df-container\">\n",
              "    <button class=\"colab-df-convert\" onclick=\"convertToInteractive('df-043b9717-c5b9-45aa-bf3d-211988381c42')\"\n",
              "            title=\"Convert this dataframe to an interactive table.\"\n",
              "            style=\"display:none;\">\n",
              "\n",
              "  <svg xmlns=\"http://www.w3.org/2000/svg\" height=\"24px\" viewBox=\"0 -960 960 960\">\n",
              "    <path d=\"M120-120v-720h720v720H120Zm60-500h600v-160H180v160Zm220 220h160v-160H400v160Zm0 220h160v-160H400v160ZM180-400h160v-160H180v160Zm440 0h160v-160H620v160ZM180-180h160v-160H180v160Zm440 0h160v-160H620v160Z\"/>\n",
              "  </svg>\n",
              "    </button>\n",
              "\n",
              "  <style>\n",
              "    .colab-df-container {\n",
              "      display:flex;\n",
              "      gap: 12px;\n",
              "    }\n",
              "\n",
              "    .colab-df-convert {\n",
              "      background-color: #E8F0FE;\n",
              "      border: none;\n",
              "      border-radius: 50%;\n",
              "      cursor: pointer;\n",
              "      display: none;\n",
              "      fill: #1967D2;\n",
              "      height: 32px;\n",
              "      padding: 0 0 0 0;\n",
              "      width: 32px;\n",
              "    }\n",
              "\n",
              "    .colab-df-convert:hover {\n",
              "      background-color: #E2EBFA;\n",
              "      box-shadow: 0px 1px 2px rgba(60, 64, 67, 0.3), 0px 1px 3px 1px rgba(60, 64, 67, 0.15);\n",
              "      fill: #174EA6;\n",
              "    }\n",
              "\n",
              "    .colab-df-buttons div {\n",
              "      margin-bottom: 4px;\n",
              "    }\n",
              "\n",
              "    [theme=dark] .colab-df-convert {\n",
              "      background-color: #3B4455;\n",
              "      fill: #D2E3FC;\n",
              "    }\n",
              "\n",
              "    [theme=dark] .colab-df-convert:hover {\n",
              "      background-color: #434B5C;\n",
              "      box-shadow: 0px 1px 3px 1px rgba(0, 0, 0, 0.15);\n",
              "      filter: drop-shadow(0px 1px 2px rgba(0, 0, 0, 0.3));\n",
              "      fill: #FFFFFF;\n",
              "    }\n",
              "  </style>\n",
              "\n",
              "    <script>\n",
              "      const buttonEl =\n",
              "        document.querySelector('#df-043b9717-c5b9-45aa-bf3d-211988381c42 button.colab-df-convert');\n",
              "      buttonEl.style.display =\n",
              "        google.colab.kernel.accessAllowed ? 'block' : 'none';\n",
              "\n",
              "      async function convertToInteractive(key) {\n",
              "        const element = document.querySelector('#df-043b9717-c5b9-45aa-bf3d-211988381c42');\n",
              "        const dataTable =\n",
              "          await google.colab.kernel.invokeFunction('convertToInteractive',\n",
              "                                                    [key], {});\n",
              "        if (!dataTable) return;\n",
              "\n",
              "        const docLinkHtml = 'Like what you see? Visit the ' +\n",
              "          '<a target=\"_blank\" href=https://colab.research.google.com/notebooks/data_table.ipynb>data table notebook</a>'\n",
              "          + ' to learn more about interactive tables.';\n",
              "        element.innerHTML = '';\n",
              "        dataTable['output_type'] = 'display_data';\n",
              "        await google.colab.output.renderOutput(dataTable, element);\n",
              "        const docLink = document.createElement('div');\n",
              "        docLink.innerHTML = docLinkHtml;\n",
              "        element.appendChild(docLink);\n",
              "      }\n",
              "    </script>\n",
              "  </div>\n",
              "\n",
              "\n",
              "<div id=\"df-9f43b8aa-f203-49cb-8ff4-d1e3aac8b1ad\">\n",
              "  <button class=\"colab-df-quickchart\" onclick=\"quickchart('df-9f43b8aa-f203-49cb-8ff4-d1e3aac8b1ad')\"\n",
              "            title=\"Suggest charts\"\n",
              "            style=\"display:none;\">\n",
              "\n",
              "<svg xmlns=\"http://www.w3.org/2000/svg\" height=\"24px\"viewBox=\"0 0 24 24\"\n",
              "     width=\"24px\">\n",
              "    <g>\n",
              "        <path d=\"M19 3H5c-1.1 0-2 .9-2 2v14c0 1.1.9 2 2 2h14c1.1 0 2-.9 2-2V5c0-1.1-.9-2-2-2zM9 17H7v-7h2v7zm4 0h-2V7h2v10zm4 0h-2v-4h2v4z\"/>\n",
              "    </g>\n",
              "</svg>\n",
              "  </button>\n",
              "\n",
              "<style>\n",
              "  .colab-df-quickchart {\n",
              "      --bg-color: #E8F0FE;\n",
              "      --fill-color: #1967D2;\n",
              "      --hover-bg-color: #E2EBFA;\n",
              "      --hover-fill-color: #174EA6;\n",
              "      --disabled-fill-color: #AAA;\n",
              "      --disabled-bg-color: #DDD;\n",
              "  }\n",
              "\n",
              "  [theme=dark] .colab-df-quickchart {\n",
              "      --bg-color: #3B4455;\n",
              "      --fill-color: #D2E3FC;\n",
              "      --hover-bg-color: #434B5C;\n",
              "      --hover-fill-color: #FFFFFF;\n",
              "      --disabled-bg-color: #3B4455;\n",
              "      --disabled-fill-color: #666;\n",
              "  }\n",
              "\n",
              "  .colab-df-quickchart {\n",
              "    background-color: var(--bg-color);\n",
              "    border: none;\n",
              "    border-radius: 50%;\n",
              "    cursor: pointer;\n",
              "    display: none;\n",
              "    fill: var(--fill-color);\n",
              "    height: 32px;\n",
              "    padding: 0;\n",
              "    width: 32px;\n",
              "  }\n",
              "\n",
              "  .colab-df-quickchart:hover {\n",
              "    background-color: var(--hover-bg-color);\n",
              "    box-shadow: 0 1px 2px rgba(60, 64, 67, 0.3), 0 1px 3px 1px rgba(60, 64, 67, 0.15);\n",
              "    fill: var(--button-hover-fill-color);\n",
              "  }\n",
              "\n",
              "  .colab-df-quickchart-complete:disabled,\n",
              "  .colab-df-quickchart-complete:disabled:hover {\n",
              "    background-color: var(--disabled-bg-color);\n",
              "    fill: var(--disabled-fill-color);\n",
              "    box-shadow: none;\n",
              "  }\n",
              "\n",
              "  .colab-df-spinner {\n",
              "    border: 2px solid var(--fill-color);\n",
              "    border-color: transparent;\n",
              "    border-bottom-color: var(--fill-color);\n",
              "    animation:\n",
              "      spin 1s steps(1) infinite;\n",
              "  }\n",
              "\n",
              "  @keyframes spin {\n",
              "    0% {\n",
              "      border-color: transparent;\n",
              "      border-bottom-color: var(--fill-color);\n",
              "      border-left-color: var(--fill-color);\n",
              "    }\n",
              "    20% {\n",
              "      border-color: transparent;\n",
              "      border-left-color: var(--fill-color);\n",
              "      border-top-color: var(--fill-color);\n",
              "    }\n",
              "    30% {\n",
              "      border-color: transparent;\n",
              "      border-left-color: var(--fill-color);\n",
              "      border-top-color: var(--fill-color);\n",
              "      border-right-color: var(--fill-color);\n",
              "    }\n",
              "    40% {\n",
              "      border-color: transparent;\n",
              "      border-right-color: var(--fill-color);\n",
              "      border-top-color: var(--fill-color);\n",
              "    }\n",
              "    60% {\n",
              "      border-color: transparent;\n",
              "      border-right-color: var(--fill-color);\n",
              "    }\n",
              "    80% {\n",
              "      border-color: transparent;\n",
              "      border-right-color: var(--fill-color);\n",
              "      border-bottom-color: var(--fill-color);\n",
              "    }\n",
              "    90% {\n",
              "      border-color: transparent;\n",
              "      border-bottom-color: var(--fill-color);\n",
              "    }\n",
              "  }\n",
              "</style>\n",
              "\n",
              "  <script>\n",
              "    async function quickchart(key) {\n",
              "      const quickchartButtonEl =\n",
              "        document.querySelector('#' + key + ' button');\n",
              "      quickchartButtonEl.disabled = true;  // To prevent multiple clicks.\n",
              "      quickchartButtonEl.classList.add('colab-df-spinner');\n",
              "      try {\n",
              "        const charts = await google.colab.kernel.invokeFunction(\n",
              "            'suggestCharts', [key], {});\n",
              "      } catch (error) {\n",
              "        console.error('Error during call to suggestCharts:', error);\n",
              "      }\n",
              "      quickchartButtonEl.classList.remove('colab-df-spinner');\n",
              "      quickchartButtonEl.classList.add('colab-df-quickchart-complete');\n",
              "    }\n",
              "    (() => {\n",
              "      let quickchartButtonEl =\n",
              "        document.querySelector('#df-9f43b8aa-f203-49cb-8ff4-d1e3aac8b1ad button');\n",
              "      quickchartButtonEl.style.display =\n",
              "        google.colab.kernel.accessAllowed ? 'block' : 'none';\n",
              "    })();\n",
              "  </script>\n",
              "</div>\n",
              "    </div>\n",
              "  </div>\n"
            ],
            "application/vnd.google.colaboratory.intrinsic+json": {
              "type": "dataframe",
              "summary": "{\n  \"name\": \"data\",\n  \"rows\": 8,\n  \"fields\": [\n    {\n      \"column\": \"artist_count\",\n      \"properties\": {\n        \"dtype\": \"number\",\n        \"std\": 336.1646050162828,\n        \"min\": 0.8930441928452764,\n        \"max\": 953.0,\n        \"num_unique_values\": 6,\n        \"samples\": [\n          953.0,\n          1.5561385099685205,\n          8.0\n        ],\n        \"semantic_type\": \"\",\n        \"description\": \"\"\n      }\n    },\n    {\n      \"column\": \"released_year\",\n      \"properties\": {\n        \"dtype\": \"number\",\n        \"std\": 749.6201978911104,\n        \"min\": 11.116218075505918,\n        \"max\": 2023.0,\n        \"num_unique_values\": 7,\n        \"samples\": [\n          953.0,\n          2018.2381951731375,\n          2022.0\n        ],\n        \"semantic_type\": \"\",\n        \"description\": \"\"\n      }\n    },\n    {\n      \"column\": \"released_month\",\n      \"properties\": {\n        \"dtype\": \"number\",\n        \"std\": 334.9038241942776,\n        \"min\": 1.0,\n        \"max\": 953.0,\n        \"num_unique_values\": 8,\n        \"samples\": [\n          6.033578174186778,\n          6.0,\n          953.0\n        ],\n        \"semantic_type\": \"\",\n        \"description\": \"\"\n      }\n    },\n    {\n      \"column\": \"released_day\",\n      \"properties\": {\n        \"dtype\": \"number\",\n        \"std\": 332.21202679733796,\n        \"min\": 1.0,\n        \"max\": 953.0,\n        \"num_unique_values\": 8,\n        \"samples\": [\n          13.930745015739769,\n          13.0,\n          953.0\n        ],\n        \"semantic_type\": \"\",\n        \"description\": \"\"\n      }\n    },\n    {\n      \"column\": \"in_spotify_playlists\",\n      \"properties\": {\n        \"dtype\": \"number\",\n        \"std\": 17768.89232716484,\n        \"min\": 31.0,\n        \"max\": 52898.0,\n        \"num_unique_values\": 8,\n        \"samples\": [\n          5200.124868835257,\n          2224.0,\n          953.0\n        ],\n        \"semantic_type\": \"\",\n        \"description\": \"\"\n      }\n    },\n    {\n      \"column\": \"in_spotify_charts\",\n      \"properties\": {\n        \"dtype\": \"number\",\n        \"std\": 330.6118982050042,\n        \"min\": 0.0,\n        \"max\": 953.0,\n        \"num_unique_values\": 7,\n        \"samples\": [\n          953.0,\n          12.009443861490032,\n          16.0\n        ],\n        \"semantic_type\": \"\",\n        \"description\": \"\"\n      }\n    },\n    {\n      \"column\": \"streams\",\n      \"properties\": {\n        \"dtype\": \"number\",\n        \"std\": 1226213120.9063914,\n        \"min\": 952.0,\n        \"max\": 3703895074.0,\n        \"num_unique_values\": 8,\n        \"samples\": [\n          514137424.93907565,\n          290530915.0,\n          952.0\n        ],\n        \"semantic_type\": \"\",\n        \"description\": \"\"\n      }\n    },\n    {\n      \"column\": \"in_apple_playlists\",\n      \"properties\": {\n        \"dtype\": \"number\",\n        \"std\": 363.0991080030054,\n        \"min\": 0.0,\n        \"max\": 953.0,\n        \"num_unique_values\": 8,\n        \"samples\": [\n          67.8121720881427,\n          34.0,\n          953.0\n        ],\n        \"semantic_type\": \"\",\n        \"description\": \"\"\n      }\n    },\n    {\n      \"column\": \"in_apple_charts\",\n      \"properties\": {\n        \"dtype\": \"number\",\n        \"std\": 323.1046740644116,\n        \"min\": 0.0,\n        \"max\": 953.0,\n        \"num_unique_values\": 8,\n        \"samples\": [\n          51.9087093389297,\n          38.0,\n          953.0\n        ],\n        \"semantic_type\": \"\",\n        \"description\": \"\"\n      }\n    },\n    {\n      \"column\": \"in_deezer_charts\",\n      \"properties\": {\n        \"dtype\": \"number\",\n        \"std\": 334.0522172820573,\n        \"min\": 0.0,\n        \"max\": 953.0,\n        \"num_unique_values\": 6,\n        \"samples\": [\n          953.0,\n          2.666316894018888,\n          58.0\n        ],\n        \"semantic_type\": \"\",\n        \"description\": \"\"\n      }\n    },\n    {\n      \"column\": \"bpm\",\n      \"properties\": {\n        \"dtype\": \"number\",\n        \"std\": 301.9878782951856,\n        \"min\": 28.057801508156196,\n        \"max\": 953.0,\n        \"num_unique_values\": 8,\n        \"samples\": [\n          122.54039874081847,\n          121.0,\n          953.0\n        ],\n        \"semantic_type\": \"\",\n        \"description\": \"\"\n      }\n    },\n    {\n      \"column\": \"danceability_%\",\n      \"properties\": {\n        \"dtype\": \"number\",\n        \"std\": 317.66158926198943,\n        \"min\": 14.6306098744348,\n        \"max\": 953.0,\n        \"num_unique_values\": 8,\n        \"samples\": [\n          66.96956977964324,\n          69.0,\n          953.0\n        ],\n        \"semantic_type\": \"\",\n        \"description\": \"\"\n      }\n    },\n    {\n      \"column\": \"valence_%\",\n      \"properties\": {\n        \"dtype\": \"number\",\n        \"std\": 321.59052272957194,\n        \"min\": 4.0,\n        \"max\": 953.0,\n        \"num_unique_values\": 8,\n        \"samples\": [\n          51.43126967471144,\n          51.0,\n          953.0\n        ],\n        \"semantic_type\": \"\",\n        \"description\": \"\"\n      }\n    },\n    {\n      \"column\": \"energy_%\",\n      \"properties\": {\n        \"dtype\": \"number\",\n        \"std\": 318.9589360240247,\n        \"min\": 9.0,\n        \"max\": 953.0,\n        \"num_unique_values\": 8,\n        \"samples\": [\n          64.2791185729276,\n          66.0,\n          953.0\n        ],\n        \"semantic_type\": \"\",\n        \"description\": \"\"\n      }\n    },\n    {\n      \"column\": \"acousticness_%\",\n      \"properties\": {\n        \"dtype\": \"number\",\n        \"std\": 327.35011443913976,\n        \"min\": 0.0,\n        \"max\": 953.0,\n        \"num_unique_values\": 8,\n        \"samples\": [\n          27.057712486883524,\n          18.0,\n          953.0\n        ],\n        \"semantic_type\": \"\",\n        \"description\": \"\"\n      }\n    },\n    {\n      \"column\": \"instrumentalness_%\",\n      \"properties\": {\n        \"dtype\": \"number\",\n        \"std\": 333.3168943984445,\n        \"min\": 0.0,\n        \"max\": 953.0,\n        \"num_unique_values\": 5,\n        \"samples\": [\n          1.5813221406086044,\n          91.0,\n          8.40979992655771\n        ],\n        \"semantic_type\": \"\",\n        \"description\": \"\"\n      }\n    },\n    {\n      \"column\": \"liveness_%\",\n      \"properties\": {\n        \"dtype\": \"number\",\n        \"std\": 329.3051143377058,\n        \"min\": 3.0,\n        \"max\": 953.0,\n        \"num_unique_values\": 8,\n        \"samples\": [\n          18.213011542497377,\n          12.0,\n          953.0\n        ],\n        \"semantic_type\": \"\",\n        \"description\": \"\"\n      }\n    },\n    {\n      \"column\": \"speechiness_%\",\n      \"properties\": {\n        \"dtype\": \"number\",\n        \"std\": 332.1405106542744,\n        \"min\": 2.0,\n        \"max\": 953.0,\n        \"num_unique_values\": 8,\n        \"samples\": [\n          10.131164742917104,\n          6.0,\n          953.0\n        ],\n        \"semantic_type\": \"\",\n        \"description\": \"\"\n      }\n    }\n  ]\n}"
            }
          },
          "metadata": {},
          "execution_count": 8
        }
      ]
    },
    {
      "cell_type": "markdown",
      "source": [
        "# 5. Основная информация по датасету"
      ],
      "metadata": {
        "id": "4x6aAbqILw8E"
      },
      "id": "4x6aAbqILw8E"
    },
    {
      "cell_type": "code",
      "source": [
        "data.info()"
      ],
      "metadata": {
        "id": "Ig8fXMrpL4Lb",
        "outputId": "98fbfc26-e5d6-45f7-adf0-12c8b107a65e",
        "colab": {
          "base_uri": "https://localhost:8080/"
        }
      },
      "id": "Ig8fXMrpL4Lb",
      "execution_count": 9,
      "outputs": [
        {
          "output_type": "stream",
          "name": "stdout",
          "text": [
            "<class 'pandas.core.frame.DataFrame'>\n",
            "RangeIndex: 953 entries, 0 to 952\n",
            "Data columns (total 24 columns):\n",
            " #   Column                Non-Null Count  Dtype  \n",
            "---  ------                --------------  -----  \n",
            " 0   track_name            953 non-null    object \n",
            " 1   artist(s)_name        953 non-null    object \n",
            " 2   artist_count          953 non-null    int64  \n",
            " 3   released_year         953 non-null    int64  \n",
            " 4   released_month        953 non-null    int64  \n",
            " 5   released_day          953 non-null    int64  \n",
            " 6   in_spotify_playlists  953 non-null    int64  \n",
            " 7   in_spotify_charts     953 non-null    int64  \n",
            " 8   streams               952 non-null    float64\n",
            " 9   in_apple_playlists    953 non-null    int64  \n",
            " 10  in_apple_charts       953 non-null    int64  \n",
            " 11  in_deezer_playlists   953 non-null    object \n",
            " 12  in_deezer_charts      953 non-null    int64  \n",
            " 13  in_shazam_charts      903 non-null    object \n",
            " 14  bpm                   953 non-null    int64  \n",
            " 15  key                   858 non-null    object \n",
            " 16  mode                  953 non-null    object \n",
            " 17  danceability_%        953 non-null    int64  \n",
            " 18  valence_%             953 non-null    int64  \n",
            " 19  energy_%              953 non-null    int64  \n",
            " 20  acousticness_%        953 non-null    int64  \n",
            " 21  instrumentalness_%    953 non-null    int64  \n",
            " 22  liveness_%            953 non-null    int64  \n",
            " 23  speechiness_%         953 non-null    int64  \n",
            "dtypes: float64(1), int64(17), object(6)\n",
            "memory usage: 178.8+ KB\n"
          ]
        }
      ]
    },
    {
      "cell_type": "markdown",
      "source": [
        "# 6. Количество пропусков элементов"
      ],
      "metadata": {
        "id": "X4I4o35-MEVW"
      },
      "id": "X4I4o35-MEVW"
    },
    {
      "cell_type": "code",
      "source": [
        "data.isnull().sum()"
      ],
      "metadata": {
        "id": "MtM7AdkmMMKN",
        "outputId": "8c587757-31d6-42cf-9495-c79f40d69e7e",
        "colab": {
          "base_uri": "https://localhost:8080/",
          "height": 836
        }
      },
      "id": "MtM7AdkmMMKN",
      "execution_count": 10,
      "outputs": [
        {
          "output_type": "execute_result",
          "data": {
            "text/plain": [
              "track_name               0\n",
              "artist(s)_name           0\n",
              "artist_count             0\n",
              "released_year            0\n",
              "released_month           0\n",
              "released_day             0\n",
              "in_spotify_playlists     0\n",
              "in_spotify_charts        0\n",
              "streams                  1\n",
              "in_apple_playlists       0\n",
              "in_apple_charts          0\n",
              "in_deezer_playlists      0\n",
              "in_deezer_charts         0\n",
              "in_shazam_charts        50\n",
              "bpm                      0\n",
              "key                     95\n",
              "mode                     0\n",
              "danceability_%           0\n",
              "valence_%                0\n",
              "energy_%                 0\n",
              "acousticness_%           0\n",
              "instrumentalness_%       0\n",
              "liveness_%               0\n",
              "speechiness_%            0\n",
              "dtype: int64"
            ],
            "text/html": [
              "<div>\n",
              "<style scoped>\n",
              "    .dataframe tbody tr th:only-of-type {\n",
              "        vertical-align: middle;\n",
              "    }\n",
              "\n",
              "    .dataframe tbody tr th {\n",
              "        vertical-align: top;\n",
              "    }\n",
              "\n",
              "    .dataframe thead th {\n",
              "        text-align: right;\n",
              "    }\n",
              "</style>\n",
              "<table border=\"1\" class=\"dataframe\">\n",
              "  <thead>\n",
              "    <tr style=\"text-align: right;\">\n",
              "      <th></th>\n",
              "      <th>0</th>\n",
              "    </tr>\n",
              "  </thead>\n",
              "  <tbody>\n",
              "    <tr>\n",
              "      <th>track_name</th>\n",
              "      <td>0</td>\n",
              "    </tr>\n",
              "    <tr>\n",
              "      <th>artist(s)_name</th>\n",
              "      <td>0</td>\n",
              "    </tr>\n",
              "    <tr>\n",
              "      <th>artist_count</th>\n",
              "      <td>0</td>\n",
              "    </tr>\n",
              "    <tr>\n",
              "      <th>released_year</th>\n",
              "      <td>0</td>\n",
              "    </tr>\n",
              "    <tr>\n",
              "      <th>released_month</th>\n",
              "      <td>0</td>\n",
              "    </tr>\n",
              "    <tr>\n",
              "      <th>released_day</th>\n",
              "      <td>0</td>\n",
              "    </tr>\n",
              "    <tr>\n",
              "      <th>in_spotify_playlists</th>\n",
              "      <td>0</td>\n",
              "    </tr>\n",
              "    <tr>\n",
              "      <th>in_spotify_charts</th>\n",
              "      <td>0</td>\n",
              "    </tr>\n",
              "    <tr>\n",
              "      <th>streams</th>\n",
              "      <td>1</td>\n",
              "    </tr>\n",
              "    <tr>\n",
              "      <th>in_apple_playlists</th>\n",
              "      <td>0</td>\n",
              "    </tr>\n",
              "    <tr>\n",
              "      <th>in_apple_charts</th>\n",
              "      <td>0</td>\n",
              "    </tr>\n",
              "    <tr>\n",
              "      <th>in_deezer_playlists</th>\n",
              "      <td>0</td>\n",
              "    </tr>\n",
              "    <tr>\n",
              "      <th>in_deezer_charts</th>\n",
              "      <td>0</td>\n",
              "    </tr>\n",
              "    <tr>\n",
              "      <th>in_shazam_charts</th>\n",
              "      <td>50</td>\n",
              "    </tr>\n",
              "    <tr>\n",
              "      <th>bpm</th>\n",
              "      <td>0</td>\n",
              "    </tr>\n",
              "    <tr>\n",
              "      <th>key</th>\n",
              "      <td>95</td>\n",
              "    </tr>\n",
              "    <tr>\n",
              "      <th>mode</th>\n",
              "      <td>0</td>\n",
              "    </tr>\n",
              "    <tr>\n",
              "      <th>danceability_%</th>\n",
              "      <td>0</td>\n",
              "    </tr>\n",
              "    <tr>\n",
              "      <th>valence_%</th>\n",
              "      <td>0</td>\n",
              "    </tr>\n",
              "    <tr>\n",
              "      <th>energy_%</th>\n",
              "      <td>0</td>\n",
              "    </tr>\n",
              "    <tr>\n",
              "      <th>acousticness_%</th>\n",
              "      <td>0</td>\n",
              "    </tr>\n",
              "    <tr>\n",
              "      <th>instrumentalness_%</th>\n",
              "      <td>0</td>\n",
              "    </tr>\n",
              "    <tr>\n",
              "      <th>liveness_%</th>\n",
              "      <td>0</td>\n",
              "    </tr>\n",
              "    <tr>\n",
              "      <th>speechiness_%</th>\n",
              "      <td>0</td>\n",
              "    </tr>\n",
              "  </tbody>\n",
              "</table>\n",
              "</div><br><label><b>dtype:</b> int64</label>"
            ]
          },
          "metadata": {},
          "execution_count": 10
        }
      ]
    },
    {
      "cell_type": "markdown",
      "source": [
        "\n",
        "Пропуски значений могут быть вызваны:\n",
        "\n",
        "\n",
        "*   streams - ошибка ввода данных\n",
        "\n",
        "Можно заменить пропуск на среднее значение по этому стоблцу\n",
        "*   in_shazam_charts - отсутствие трека в чартах шазама\n",
        "\n",
        "Можно заменить пропуски на 0\n",
        "*   key - отсутствие данных о тональности\n",
        "\n",
        "Так как столбец не сильно важен, пропуски можно оставить, либо можно заменить пропуски на наиболее часто встречающееся значение\n",
        "\n"
      ],
      "metadata": {
        "id": "9lKYQ3feRYNC"
      },
      "id": "9lKYQ3feRYNC"
    },
    {
      "cell_type": "markdown",
      "source": [
        "# 7. Гистограммы 5 признаков"
      ],
      "metadata": {
        "id": "qGWL51-kTqnB"
      },
      "id": "qGWL51-kTqnB"
    },
    {
      "cell_type": "code",
      "source": [
        "data[\"released_year\"].hist()"
      ],
      "metadata": {
        "id": "LkIKmmB4UY8o",
        "outputId": "d0e2fd80-f0b2-4122-c2ea-04f2c42f44bd",
        "colab": {
          "base_uri": "https://localhost:8080/",
          "height": 448
        }
      },
      "id": "LkIKmmB4UY8o",
      "execution_count": 13,
      "outputs": [
        {
          "output_type": "execute_result",
          "data": {
            "text/plain": [
              "<Axes: >"
            ]
          },
          "metadata": {},
          "execution_count": 13
        },
        {
          "output_type": "display_data",
          "data": {
            "text/plain": [
              "<Figure size 640x480 with 1 Axes>"
            ],
            "image/png": "[encoded data removed]"
          },
          "metadata": {}
        }
      ]
    },
    {
      "cell_type": "markdown",
      "source": [
        "Большинство значений года выхода сконцентрировано около 2020"
      ],
      "metadata": {
        "id": "qUonHsG-UuWT"
      },
      "id": "qUonHsG-UuWT"
    },
    {
      "cell_type": "code",
      "source": [
        "data[\"in_spotify_playlists\"].hist()"
      ],
      "metadata": {
        "id": "VWQUywynVDsM",
        "outputId": "8ec35214-0486-4727-c941-e3b09a4c22e7",
        "colab": {
          "base_uri": "https://localhost:8080/",
          "height": 448
        }
      },
      "id": "VWQUywynVDsM",
      "execution_count": 14,
      "outputs": [
        {
          "output_type": "execute_result",
          "data": {
            "text/plain": [
              "<Axes: >"
            ]
          },
          "metadata": {},
          "execution_count": 14
        },
        {
          "output_type": "display_data",
          "data": {
            "text/plain": [
              "<Figure size 640x480 with 1 Axes>"
            ],
            "image/png": "[encoded data removed]"
          },
          "metadata": {}
        }
      ]
    },
    {
      "cell_type": "markdown",
      "source": [
        "Большая часть значений количества добавлений в плейлисты спотифая находится от 0 до 50000"
      ],
      "metadata": {
        "id": "rFuO80p6VNr6"
      },
      "id": "rFuO80p6VNr6"
    },
    {
      "cell_type": "code",
      "source": [
        "data[\"bpm\"].hist()"
      ],
      "metadata": {
        "id": "e6BClFeiVlSz",
        "outputId": "a7fa8e59-7865-4183-abe9-6d171bd7324c",
        "colab": {
          "base_uri": "https://localhost:8080/",
          "height": 448
        }
      },
      "id": "e6BClFeiVlSz",
      "execution_count": 15,
      "outputs": [
        {
          "output_type": "execute_result",
          "data": {
            "text/plain": [
              "<Axes: >"
            ]
          },
          "metadata": {},
          "execution_count": 15
        },
        {
          "output_type": "display_data",
          "data": {
            "text/plain": [
              "<Figure size 640x480 with 1 Axes>"
            ],
            "image/png": "[encoded data removed]"
          },
          "metadata": {}
        }
      ]
    },
    {
      "cell_type": "markdown",
      "source": [
        "Распределение значений темпа ближе к нормальному. График немного смещен влево."
      ],
      "metadata": {
        "id": "O_22KWVQVtbN"
      },
      "id": "O_22KWVQVtbN"
    },
    {
      "cell_type": "code",
      "source": [
        "data['danceability_%'].hist()"
      ],
      "metadata": {
        "id": "BpHOULwgV2fJ",
        "outputId": "00a52c91-a6bf-4697-de26-6ae750f04aa9",
        "colab": {
          "base_uri": "https://localhost:8080/",
          "height": 448
        }
      },
      "id": "BpHOULwgV2fJ",
      "execution_count": 16,
      "outputs": [
        {
          "output_type": "execute_result",
          "data": {
            "text/plain": [
              "<Axes: >"
            ]
          },
          "metadata": {},
          "execution_count": 16
        },
        {
          "output_type": "display_data",
          "data": {
            "text/plain": [
              "<Figure size 640x480 with 1 Axes>"
            ],
            "image/png": "[encoded data removed]"
          },
          "metadata": {}
        }
      ]
    },
    {
      "cell_type": "markdown",
      "source": [
        "График распределения значений 'danceability_%' смещен вправо"
      ],
      "metadata": {
        "id": "_CoHzb8RV-IC"
      },
      "id": "_CoHzb8RV-IC"
    },
    {
      "cell_type": "code",
      "source": [
        "data['artist_count'].hist()"
      ],
      "metadata": {
        "id": "oJpjy-j2WQYR",
        "outputId": "9e010044-34c1-4663-a3b3-727245961d50",
        "colab": {
          "base_uri": "https://localhost:8080/",
          "height": 448
        }
      },
      "id": "oJpjy-j2WQYR",
      "execution_count": 17,
      "outputs": [
        {
          "output_type": "execute_result",
          "data": {
            "text/plain": [
              "<Axes: >"
            ]
          },
          "metadata": {},
          "execution_count": 17
        },
        {
          "output_type": "display_data",
          "data": {
            "text/plain": [
              "<Figure size 640x480 with 1 Axes>"
            ],
            "image/png": "[encoded data removed]"
          },
          "metadata": {}
        }
      ]
    },
    {
      "cell_type": "markdown",
      "source": [
        "Большинство треков принадлежат 1 или 2 исполнителям"
      ],
      "metadata": {
        "id": "dsjRIOYFWZzD"
      },
      "id": "dsjRIOYFWZzD"
    },
    {
      "cell_type": "markdown",
      "source": [
        "# Графики зависимости 5 переменных от целевой"
      ],
      "metadata": {
        "id": "sqRkNrfqaVIG"
      },
      "id": "sqRkNrfqaVIG"
    },
    {
      "cell_type": "code",
      "source": [
        "data.plot(x='released_year', y='streams', kind='scatter')"
      ],
      "metadata": {
        "id": "10puInjPbygP",
        "outputId": "c84b3772-f21e-47ac-850f-b88808992f5b",
        "colab": {
          "base_uri": "https://localhost:8080/",
          "height": 483
        }
      },
      "id": "10puInjPbygP",
      "execution_count": 19,
      "outputs": [
        {
          "output_type": "execute_result",
          "data": {
            "text/plain": [
              "<Axes: xlabel='released_year', ylabel='streams'>"
            ]
          },
          "metadata": {},
          "execution_count": 19
        },
        {
          "output_type": "display_data",
          "data": {
            "text/plain": [
              "<Figure size 640x480 with 1 Axes>"
            ],
            "image/png": "[encoded data removed]"
          },
          "metadata": {}
        }
      ]
    },
    {
      "cell_type": "markdown",
      "source": [
        "???"
      ],
      "metadata": {
        "id": "gMvcxgcpcXmd"
      },
      "id": "gMvcxgcpcXmd"
    },
    {
      "cell_type": "code",
      "source": [
        "data.plot(x='in_apple_playlists', y='streams', kind='scatter')"
      ],
      "metadata": {
        "id": "nChzQ5Mlcacb",
        "outputId": "13f70fea-089b-4d5b-ac34-b55858a18250",
        "colab": {
          "base_uri": "https://localhost:8080/",
          "height": 483
        }
      },
      "id": "nChzQ5Mlcacb",
      "execution_count": 20,
      "outputs": [
        {
          "output_type": "execute_result",
          "data": {
            "text/plain": [
              "<Axes: xlabel='in_apple_playlists', ylabel='streams'>"
            ]
          },
          "metadata": {},
          "execution_count": 20
        },
        {
          "output_type": "display_data",
          "data": {
            "text/plain": [
              "<Figure size 640x480 with 1 Axes>"
            ],
            "image/png": "[encoded data removed]"
          },
          "metadata": {}
        }
      ]
    },
    {
      "cell_type": "markdown",
      "source": [
        "Видна легкая прямая корреляция, переменную можно использовать для прогнозирования"
      ],
      "metadata": {
        "id": "HPy_3O0tdCx1"
      },
      "id": "HPy_3O0tdCx1"
    },
    {
      "cell_type": "code",
      "source": [
        "data.plot(x='bpm', y='streams', kind='scatter')"
      ],
      "metadata": {
        "id": "GcC_pZImdE7a",
        "outputId": "47d18634-6aa9-4dc5-cf2a-4e0ac2985215",
        "colab": {
          "base_uri": "https://localhost:8080/",
          "height": 483
        }
      },
      "id": "GcC_pZImdE7a",
      "execution_count": 21,
      "outputs": [
        {
          "output_type": "execute_result",
          "data": {
            "text/plain": [
              "<Axes: xlabel='bpm', ylabel='streams'>"
            ]
          },
          "metadata": {},
          "execution_count": 21
        },
        {
          "output_type": "display_data",
          "data": {
            "text/plain": [
              "<Figure size 640x480 with 1 Axes>"
            ],
            "image/png": "[encoded data removed]"
          },
          "metadata": {}
        }
      ]
    },
    {
      "cell_type": "markdown",
      "source": [
        "Зависимость не прослеживается"
      ],
      "metadata": {
        "id": "9Gx_QwmfdMal"
      },
      "id": "9Gx_QwmfdMal"
    },
    {
      "cell_type": "code",
      "source": [
        "data.plot(x='energy_%', y='streams', kind='scatter')"
      ],
      "metadata": {
        "id": "nr0XAzPldvjJ",
        "outputId": "3bf42a50-fef9-4160-fb7b-88ede72d7b25",
        "colab": {
          "base_uri": "https://localhost:8080/",
          "height": 483
        }
      },
      "id": "nr0XAzPldvjJ",
      "execution_count": 23,
      "outputs": [
        {
          "output_type": "execute_result",
          "data": {
            "text/plain": [
              "<Axes: xlabel='energy_%', ylabel='streams'>"
            ]
          },
          "metadata": {},
          "execution_count": 23
        },
        {
          "output_type": "display_data",
          "data": {
            "text/plain": [
              "<Figure size 640x480 with 1 Axes>"
            ],
            "image/png": "[encoded data removed]"
          },
          "metadata": {}
        }
      ]
    },
    {
      "cell_type": "markdown",
      "source": [
        "Зависимость не прослеживается"
      ],
      "metadata": {
        "id": "pQDYLIrWeJ3Q"
      },
      "id": "pQDYLIrWeJ3Q"
    },
    {
      "cell_type": "code",
      "source": [
        "data.plot(x='speechiness_%', y='streams', kind='scatter')"
      ],
      "metadata": {
        "id": "x1JBW5jQeQON",
        "outputId": "941249cb-f3dd-46df-c0ac-b3c80875da57",
        "colab": {
          "base_uri": "https://localhost:8080/",
          "height": 483
        }
      },
      "id": "x1JBW5jQeQON",
      "execution_count": 24,
      "outputs": [
        {
          "output_type": "execute_result",
          "data": {
            "text/plain": [
              "<Axes: xlabel='speechiness_%', ylabel='streams'>"
            ]
          },
          "metadata": {},
          "execution_count": 24
        },
        {
          "output_type": "display_data",
          "data": {
            "text/plain": [
              "<Figure size 640x480 with 1 Axes>"
            ],
            "image/png": "[encoded data removed]"
          },
          "metadata": {}
        }
      ]
    },
    {
      "cell_type": "markdown",
      "source": [
        "Прослеживается легкая гиперболическая зависимость"
      ],
      "metadata": {
        "id": "f2mc1y0iem4j"
      },
      "id": "f2mc1y0iem4j"
    }
  ],
  "metadata": {
    "kernelspec": {
      "display_name": "nn-ml-bachelor-2024-venv",
      "language": "python",
      "name": "nn-ml-bachelor-2024-venv"
    },
    "language_info": {
      "codemirror_mode": {
        "name": "ipython",
        "version": 3
      },
      "file_extension": ".py",
      "mimetype": "text/x-python",
      "name": "python",
      "nbconvert_exporter": "python",
      "pygments_lexer": "ipython3",
      "version": "3.9.6"
    },
    "colab": {
      "provenance": []
    }
  },
  "nbformat": 4,
  "nbformat_minor": 5
}